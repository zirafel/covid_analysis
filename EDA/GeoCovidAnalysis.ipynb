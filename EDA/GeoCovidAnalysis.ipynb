{
 "cells": [
  {
   "cell_type": "markdown",
   "metadata": {},
   "source": [
    "### Caricamento dataset ###"
   ]
  },
  {
   "cell_type": "code",
   "execution_count": 141,
   "metadata": {},
   "outputs": [
    {
     "data": {
      "text/html": [
       "<div>\n",
       "<style scoped>\n",
       "    .dataframe tbody tr th:only-of-type {\n",
       "        vertical-align: middle;\n",
       "    }\n",
       "\n",
       "    .dataframe tbody tr th {\n",
       "        vertical-align: top;\n",
       "    }\n",
       "\n",
       "    .dataframe thead th {\n",
       "        text-align: right;\n",
       "    }\n",
       "</style>\n",
       "<table border=\"1\" class=\"dataframe\">\n",
       "  <thead>\n",
       "    <tr style=\"text-align: right;\">\n",
       "      <th></th>\n",
       "      <th>Date</th>\n",
       "      <th>Country</th>\n",
       "      <th>City</th>\n",
       "      <th>Specie</th>\n",
       "      <th>count</th>\n",
       "      <th>min</th>\n",
       "      <th>max</th>\n",
       "      <th>median</th>\n",
       "      <th>variance</th>\n",
       "    </tr>\n",
       "  </thead>\n",
       "  <tbody>\n",
       "    <tr>\n",
       "      <th>0</th>\n",
       "      <td>2020-01-06</td>\n",
       "      <td>BE</td>\n",
       "      <td>Liège</td>\n",
       "      <td>wind gust</td>\n",
       "      <td>144</td>\n",
       "      <td>1.0</td>\n",
       "      <td>9.7</td>\n",
       "      <td>3.5</td>\n",
       "      <td>51.75</td>\n",
       "    </tr>\n",
       "    <tr>\n",
       "      <th>1</th>\n",
       "      <td>2020-01-09</td>\n",
       "      <td>BE</td>\n",
       "      <td>Liège</td>\n",
       "      <td>wind gust</td>\n",
       "      <td>144</td>\n",
       "      <td>3.0</td>\n",
       "      <td>13.5</td>\n",
       "      <td>9.5</td>\n",
       "      <td>81.61</td>\n",
       "    </tr>\n",
       "    <tr>\n",
       "      <th>2</th>\n",
       "      <td>2020-01-30</td>\n",
       "      <td>BE</td>\n",
       "      <td>Liège</td>\n",
       "      <td>wind gust</td>\n",
       "      <td>144</td>\n",
       "      <td>5.4</td>\n",
       "      <td>15.8</td>\n",
       "      <td>10.0</td>\n",
       "      <td>77.89</td>\n",
       "    </tr>\n",
       "    <tr>\n",
       "      <th>3</th>\n",
       "      <td>2020-01-04</td>\n",
       "      <td>BE</td>\n",
       "      <td>Liège</td>\n",
       "      <td>wind gust</td>\n",
       "      <td>144</td>\n",
       "      <td>0.2</td>\n",
       "      <td>11.1</td>\n",
       "      <td>6.5</td>\n",
       "      <td>79.45</td>\n",
       "    </tr>\n",
       "    <tr>\n",
       "      <th>4</th>\n",
       "      <td>2020-01-31</td>\n",
       "      <td>BE</td>\n",
       "      <td>Liège</td>\n",
       "      <td>wind gust</td>\n",
       "      <td>144</td>\n",
       "      <td>6.8</td>\n",
       "      <td>16.8</td>\n",
       "      <td>11.5</td>\n",
       "      <td>70.07</td>\n",
       "    </tr>\n",
       "    <tr>\n",
       "      <th>...</th>\n",
       "      <td>...</td>\n",
       "      <td>...</td>\n",
       "      <td>...</td>\n",
       "      <td>...</td>\n",
       "      <td>...</td>\n",
       "      <td>...</td>\n",
       "      <td>...</td>\n",
       "      <td>...</td>\n",
       "      <td>...</td>\n",
       "    </tr>\n",
       "    <tr>\n",
       "      <th>1268612</th>\n",
       "      <td>2020-01-25</td>\n",
       "      <td>SG</td>\n",
       "      <td>Singapore</td>\n",
       "      <td>wind gust</td>\n",
       "      <td>36</td>\n",
       "      <td>0.2</td>\n",
       "      <td>2.7</td>\n",
       "      <td>0.2</td>\n",
       "      <td>6.12</td>\n",
       "    </tr>\n",
       "    <tr>\n",
       "      <th>1268613</th>\n",
       "      <td>2020-02-25</td>\n",
       "      <td>SG</td>\n",
       "      <td>Singapore</td>\n",
       "      <td>wind gust</td>\n",
       "      <td>29</td>\n",
       "      <td>5.7</td>\n",
       "      <td>13.0</td>\n",
       "      <td>9.0</td>\n",
       "      <td>41.38</td>\n",
       "    </tr>\n",
       "    <tr>\n",
       "      <th>1268614</th>\n",
       "      <td>2020-01-09</td>\n",
       "      <td>SG</td>\n",
       "      <td>Singapore</td>\n",
       "      <td>wind gust</td>\n",
       "      <td>15</td>\n",
       "      <td>0.3</td>\n",
       "      <td>7.0</td>\n",
       "      <td>1.0</td>\n",
       "      <td>66.34</td>\n",
       "    </tr>\n",
       "    <tr>\n",
       "      <th>1268615</th>\n",
       "      <td>2020-01-20</td>\n",
       "      <td>SG</td>\n",
       "      <td>Singapore</td>\n",
       "      <td>wind gust</td>\n",
       "      <td>12</td>\n",
       "      <td>0.2</td>\n",
       "      <td>0.7</td>\n",
       "      <td>0.2</td>\n",
       "      <td>0.51</td>\n",
       "    </tr>\n",
       "    <tr>\n",
       "      <th>1268616</th>\n",
       "      <td>2020-02-02</td>\n",
       "      <td>SG</td>\n",
       "      <td>Singapore</td>\n",
       "      <td>wind gust</td>\n",
       "      <td>27</td>\n",
       "      <td>0.3</td>\n",
       "      <td>13.0</td>\n",
       "      <td>0.6</td>\n",
       "      <td>160.58</td>\n",
       "    </tr>\n",
       "  </tbody>\n",
       "</table>\n",
       "<p>1268617 rows × 9 columns</p>\n",
       "</div>"
      ],
      "text/plain": [
       "               Date Country       City     Specie  count  min   max  median  \\\n",
       "0        2020-01-06      BE      Liège  wind gust    144  1.0   9.7     3.5   \n",
       "1        2020-01-09      BE      Liège  wind gust    144  3.0  13.5     9.5   \n",
       "2        2020-01-30      BE      Liège  wind gust    144  5.4  15.8    10.0   \n",
       "3        2020-01-04      BE      Liège  wind gust    144  0.2  11.1     6.5   \n",
       "4        2020-01-31      BE      Liège  wind gust    144  6.8  16.8    11.5   \n",
       "...             ...     ...        ...        ...    ...  ...   ...     ...   \n",
       "1268612  2020-01-25      SG  Singapore  wind gust     36  0.2   2.7     0.2   \n",
       "1268613  2020-02-25      SG  Singapore  wind gust     29  5.7  13.0     9.0   \n",
       "1268614  2020-01-09      SG  Singapore  wind gust     15  0.3   7.0     1.0   \n",
       "1268615  2020-01-20      SG  Singapore  wind gust     12  0.2   0.7     0.2   \n",
       "1268616  2020-02-02      SG  Singapore  wind gust     27  0.3  13.0     0.6   \n",
       "\n",
       "         variance  \n",
       "0           51.75  \n",
       "1           81.61  \n",
       "2           77.89  \n",
       "3           79.45  \n",
       "4           70.07  \n",
       "...           ...  \n",
       "1268612      6.12  \n",
       "1268613     41.38  \n",
       "1268614     66.34  \n",
       "1268615      0.51  \n",
       "1268616    160.58  \n",
       "\n",
       "[1268617 rows x 9 columns]"
      ]
     },
     "execution_count": 141,
     "metadata": {},
     "output_type": "execute_result"
    }
   ],
   "source": [
    "import pandas as pd\n",
    "#import world covid cases\n",
    "df_covid_cases = pd.read_csv('../datasets/COVID-19-geographic-disbtribution-worldwide-2020-08-01.csv',delimiter=';', keep_default_na=False, na_values=[''])\n",
    "#import environmental air quality data\n",
    "df_air_data = pd.read_csv('../datasets/waqi-covid19-airqualitydata-2020.csv',delimiter=',', keep_default_na=False, na_values=[''])\n",
    "df_air_data"
   ]
  },
  {
   "cell_type": "code",
   "execution_count": 142,
   "metadata": {},
   "outputs": [
    {
     "data": {
      "text/plain": [
       "dateRep                                                          0\n",
       "day                                                              0\n",
       "month                                                            0\n",
       "year                                                             0\n",
       "cases                                                            0\n",
       "deaths                                                           0\n",
       "countriesAndTerritories                                          0\n",
       "geoId                                                            0\n",
       "countryterritoryCode                                            64\n",
       "popData2019                                                     64\n",
       "continentExp                                                     0\n",
       "Cumulative_number_for_14_days_of_COVID-19_cases_per_100000    2781\n",
       "dtype: int64"
      ]
     },
     "execution_count": 142,
     "metadata": {},
     "output_type": "execute_result"
    }
   ],
   "source": [
    "#controllo campi null\n",
    "df_covid_cases.isna().sum()"
   ]
  },
  {
   "cell_type": "code",
   "execution_count": 143,
   "metadata": {},
   "outputs": [
    {
     "data": {
      "text/html": [
       "<div>\n",
       "<style scoped>\n",
       "    .dataframe tbody tr th:only-of-type {\n",
       "        vertical-align: middle;\n",
       "    }\n",
       "\n",
       "    .dataframe tbody tr th {\n",
       "        vertical-align: top;\n",
       "    }\n",
       "\n",
       "    .dataframe thead th {\n",
       "        text-align: right;\n",
       "    }\n",
       "</style>\n",
       "<table border=\"1\" class=\"dataframe\">\n",
       "  <thead>\n",
       "    <tr style=\"text-align: right;\">\n",
       "      <th></th>\n",
       "      <th>dateRep</th>\n",
       "      <th>day</th>\n",
       "      <th>month</th>\n",
       "      <th>year</th>\n",
       "      <th>cases</th>\n",
       "      <th>deaths</th>\n",
       "      <th>countriesAndTerritories</th>\n",
       "      <th>geoId</th>\n",
       "      <th>countryterritoryCode</th>\n",
       "      <th>popData2019</th>\n",
       "      <th>continentExp</th>\n",
       "      <th>Cumulative_number_for_14_days_of_COVID-19_cases_per_100000</th>\n",
       "    </tr>\n",
       "  </thead>\n",
       "  <tbody>\n",
       "    <tr>\n",
       "      <th>5940</th>\n",
       "      <td>10/03/2020</td>\n",
       "      <td>10</td>\n",
       "      <td>3</td>\n",
       "      <td>2020</td>\n",
       "      <td>-9</td>\n",
       "      <td>1</td>\n",
       "      <td>Cases_on_an_international_conveyance_Japan</td>\n",
       "      <td>JPG11668</td>\n",
       "      <td>NaN</td>\n",
       "      <td>NaN</td>\n",
       "      <td>Other</td>\n",
       "      <td>NaN</td>\n",
       "    </tr>\n",
       "    <tr>\n",
       "      <th>5941</th>\n",
       "      <td>02/03/2020</td>\n",
       "      <td>2</td>\n",
       "      <td>3</td>\n",
       "      <td>2020</td>\n",
       "      <td>0</td>\n",
       "      <td>0</td>\n",
       "      <td>Cases_on_an_international_conveyance_Japan</td>\n",
       "      <td>JPG11668</td>\n",
       "      <td>NaN</td>\n",
       "      <td>NaN</td>\n",
       "      <td>Other</td>\n",
       "      <td>NaN</td>\n",
       "    </tr>\n",
       "    <tr>\n",
       "      <th>5942</th>\n",
       "      <td>01/03/2020</td>\n",
       "      <td>1</td>\n",
       "      <td>3</td>\n",
       "      <td>2020</td>\n",
       "      <td>0</td>\n",
       "      <td>0</td>\n",
       "      <td>Cases_on_an_international_conveyance_Japan</td>\n",
       "      <td>JPG11668</td>\n",
       "      <td>NaN</td>\n",
       "      <td>NaN</td>\n",
       "      <td>Other</td>\n",
       "      <td>NaN</td>\n",
       "    </tr>\n",
       "    <tr>\n",
       "      <th>5943</th>\n",
       "      <td>29/02/2020</td>\n",
       "      <td>29</td>\n",
       "      <td>2</td>\n",
       "      <td>2020</td>\n",
       "      <td>0</td>\n",
       "      <td>2</td>\n",
       "      <td>Cases_on_an_international_conveyance_Japan</td>\n",
       "      <td>JPG11668</td>\n",
       "      <td>NaN</td>\n",
       "      <td>NaN</td>\n",
       "      <td>Other</td>\n",
       "      <td>NaN</td>\n",
       "    </tr>\n",
       "    <tr>\n",
       "      <th>5944</th>\n",
       "      <td>28/02/2020</td>\n",
       "      <td>28</td>\n",
       "      <td>2</td>\n",
       "      <td>2020</td>\n",
       "      <td>0</td>\n",
       "      <td>0</td>\n",
       "      <td>Cases_on_an_international_conveyance_Japan</td>\n",
       "      <td>JPG11668</td>\n",
       "      <td>NaN</td>\n",
       "      <td>NaN</td>\n",
       "      <td>Other</td>\n",
       "      <td>NaN</td>\n",
       "    </tr>\n",
       "    <tr>\n",
       "      <th>...</th>\n",
       "      <td>...</td>\n",
       "      <td>...</td>\n",
       "      <td>...</td>\n",
       "      <td>...</td>\n",
       "      <td>...</td>\n",
       "      <td>...</td>\n",
       "      <td>...</td>\n",
       "      <td>...</td>\n",
       "      <td>...</td>\n",
       "      <td>...</td>\n",
       "      <td>...</td>\n",
       "      <td>...</td>\n",
       "    </tr>\n",
       "    <tr>\n",
       "      <th>5999</th>\n",
       "      <td>04/01/2020</td>\n",
       "      <td>4</td>\n",
       "      <td>1</td>\n",
       "      <td>2020</td>\n",
       "      <td>0</td>\n",
       "      <td>0</td>\n",
       "      <td>Cases_on_an_international_conveyance_Japan</td>\n",
       "      <td>JPG11668</td>\n",
       "      <td>NaN</td>\n",
       "      <td>NaN</td>\n",
       "      <td>Other</td>\n",
       "      <td>NaN</td>\n",
       "    </tr>\n",
       "    <tr>\n",
       "      <th>6000</th>\n",
       "      <td>03/01/2020</td>\n",
       "      <td>3</td>\n",
       "      <td>1</td>\n",
       "      <td>2020</td>\n",
       "      <td>0</td>\n",
       "      <td>0</td>\n",
       "      <td>Cases_on_an_international_conveyance_Japan</td>\n",
       "      <td>JPG11668</td>\n",
       "      <td>NaN</td>\n",
       "      <td>NaN</td>\n",
       "      <td>Other</td>\n",
       "      <td>NaN</td>\n",
       "    </tr>\n",
       "    <tr>\n",
       "      <th>6001</th>\n",
       "      <td>02/01/2020</td>\n",
       "      <td>2</td>\n",
       "      <td>1</td>\n",
       "      <td>2020</td>\n",
       "      <td>0</td>\n",
       "      <td>0</td>\n",
       "      <td>Cases_on_an_international_conveyance_Japan</td>\n",
       "      <td>JPG11668</td>\n",
       "      <td>NaN</td>\n",
       "      <td>NaN</td>\n",
       "      <td>Other</td>\n",
       "      <td>NaN</td>\n",
       "    </tr>\n",
       "    <tr>\n",
       "      <th>6002</th>\n",
       "      <td>01/01/2020</td>\n",
       "      <td>1</td>\n",
       "      <td>1</td>\n",
       "      <td>2020</td>\n",
       "      <td>0</td>\n",
       "      <td>0</td>\n",
       "      <td>Cases_on_an_international_conveyance_Japan</td>\n",
       "      <td>JPG11668</td>\n",
       "      <td>NaN</td>\n",
       "      <td>NaN</td>\n",
       "      <td>Other</td>\n",
       "      <td>NaN</td>\n",
       "    </tr>\n",
       "    <tr>\n",
       "      <th>6003</th>\n",
       "      <td>31/12/2019</td>\n",
       "      <td>31</td>\n",
       "      <td>12</td>\n",
       "      <td>2019</td>\n",
       "      <td>0</td>\n",
       "      <td>0</td>\n",
       "      <td>Cases_on_an_international_conveyance_Japan</td>\n",
       "      <td>JPG11668</td>\n",
       "      <td>NaN</td>\n",
       "      <td>NaN</td>\n",
       "      <td>Other</td>\n",
       "      <td>NaN</td>\n",
       "    </tr>\n",
       "  </tbody>\n",
       "</table>\n",
       "<p>64 rows × 12 columns</p>\n",
       "</div>"
      ],
      "text/plain": [
       "         dateRep  day  month  year  cases  deaths  \\\n",
       "5940  10/03/2020   10      3  2020     -9       1   \n",
       "5941  02/03/2020    2      3  2020      0       0   \n",
       "5942  01/03/2020    1      3  2020      0       0   \n",
       "5943  29/02/2020   29      2  2020      0       2   \n",
       "5944  28/02/2020   28      2  2020      0       0   \n",
       "...          ...  ...    ...   ...    ...     ...   \n",
       "5999  04/01/2020    4      1  2020      0       0   \n",
       "6000  03/01/2020    3      1  2020      0       0   \n",
       "6001  02/01/2020    2      1  2020      0       0   \n",
       "6002  01/01/2020    1      1  2020      0       0   \n",
       "6003  31/12/2019   31     12  2019      0       0   \n",
       "\n",
       "                         countriesAndTerritories     geoId  \\\n",
       "5940  Cases_on_an_international_conveyance_Japan  JPG11668   \n",
       "5941  Cases_on_an_international_conveyance_Japan  JPG11668   \n",
       "5942  Cases_on_an_international_conveyance_Japan  JPG11668   \n",
       "5943  Cases_on_an_international_conveyance_Japan  JPG11668   \n",
       "5944  Cases_on_an_international_conveyance_Japan  JPG11668   \n",
       "...                                          ...       ...   \n",
       "5999  Cases_on_an_international_conveyance_Japan  JPG11668   \n",
       "6000  Cases_on_an_international_conveyance_Japan  JPG11668   \n",
       "6001  Cases_on_an_international_conveyance_Japan  JPG11668   \n",
       "6002  Cases_on_an_international_conveyance_Japan  JPG11668   \n",
       "6003  Cases_on_an_international_conveyance_Japan  JPG11668   \n",
       "\n",
       "     countryterritoryCode  popData2019 continentExp  \\\n",
       "5940                  NaN          NaN        Other   \n",
       "5941                  NaN          NaN        Other   \n",
       "5942                  NaN          NaN        Other   \n",
       "5943                  NaN          NaN        Other   \n",
       "5944                  NaN          NaN        Other   \n",
       "...                   ...          ...          ...   \n",
       "5999                  NaN          NaN        Other   \n",
       "6000                  NaN          NaN        Other   \n",
       "6001                  NaN          NaN        Other   \n",
       "6002                  NaN          NaN        Other   \n",
       "6003                  NaN          NaN        Other   \n",
       "\n",
       "      Cumulative_number_for_14_days_of_COVID-19_cases_per_100000  \n",
       "5940                                                NaN           \n",
       "5941                                                NaN           \n",
       "5942                                                NaN           \n",
       "5943                                                NaN           \n",
       "5944                                                NaN           \n",
       "...                                                 ...           \n",
       "5999                                                NaN           \n",
       "6000                                                NaN           \n",
       "6001                                                NaN           \n",
       "6002                                                NaN           \n",
       "6003                                                NaN           \n",
       "\n",
       "[64 rows x 12 columns]"
      ]
     },
     "execution_count": 143,
     "metadata": {},
     "output_type": "execute_result"
    }
   ],
   "source": [
    "#64 record con countryterritoryCode null                                          \n",
    "df_covid_cases.loc[df_covid_cases.countryterritoryCode.isna()]"
   ]
  },
  {
   "cell_type": "code",
   "execution_count": 144,
   "metadata": {},
   "outputs": [
    {
     "data": {
      "text/html": [
       "<div>\n",
       "<style scoped>\n",
       "    .dataframe tbody tr th:only-of-type {\n",
       "        vertical-align: middle;\n",
       "    }\n",
       "\n",
       "    .dataframe tbody tr th {\n",
       "        vertical-align: top;\n",
       "    }\n",
       "\n",
       "    .dataframe thead th {\n",
       "        text-align: right;\n",
       "    }\n",
       "</style>\n",
       "<table border=\"1\" class=\"dataframe\">\n",
       "  <thead>\n",
       "    <tr style=\"text-align: right;\">\n",
       "      <th></th>\n",
       "      <th>dateRep</th>\n",
       "      <th>day</th>\n",
       "      <th>month</th>\n",
       "      <th>year</th>\n",
       "      <th>cases</th>\n",
       "      <th>deaths</th>\n",
       "      <th>countriesAndTerritories</th>\n",
       "      <th>geoId</th>\n",
       "      <th>countryterritoryCode</th>\n",
       "      <th>popData2019</th>\n",
       "      <th>continentExp</th>\n",
       "      <th>Cumulative_number_for_14_days_of_COVID-19_cases_per_100000</th>\n",
       "    </tr>\n",
       "  </thead>\n",
       "  <tbody>\n",
       "    <tr>\n",
       "      <th>0</th>\n",
       "      <td>01/08/2020</td>\n",
       "      <td>1</td>\n",
       "      <td>8</td>\n",
       "      <td>2020</td>\n",
       "      <td>168</td>\n",
       "      <td>12</td>\n",
       "      <td>Afghanistan</td>\n",
       "      <td>AF</td>\n",
       "      <td>AFG</td>\n",
       "      <td>38041757.0</td>\n",
       "      <td>Asia</td>\n",
       "      <td>3.735369</td>\n",
       "    </tr>\n",
       "    <tr>\n",
       "      <th>1</th>\n",
       "      <td>31/07/2020</td>\n",
       "      <td>31</td>\n",
       "      <td>7</td>\n",
       "      <td>2020</td>\n",
       "      <td>71</td>\n",
       "      <td>0</td>\n",
       "      <td>Afghanistan</td>\n",
       "      <td>AF</td>\n",
       "      <td>AFG</td>\n",
       "      <td>38041757.0</td>\n",
       "      <td>Asia</td>\n",
       "      <td>3.869432</td>\n",
       "    </tr>\n",
       "    <tr>\n",
       "      <th>2</th>\n",
       "      <td>30/07/2020</td>\n",
       "      <td>30</td>\n",
       "      <td>7</td>\n",
       "      <td>2020</td>\n",
       "      <td>0</td>\n",
       "      <td>0</td>\n",
       "      <td>Afghanistan</td>\n",
       "      <td>AF</td>\n",
       "      <td>AFG</td>\n",
       "      <td>38041757.0</td>\n",
       "      <td>Asia</td>\n",
       "      <td>3.882576</td>\n",
       "    </tr>\n",
       "    <tr>\n",
       "      <th>3</th>\n",
       "      <td>29/07/2020</td>\n",
       "      <td>29</td>\n",
       "      <td>7</td>\n",
       "      <td>2020</td>\n",
       "      <td>103</td>\n",
       "      <td>1</td>\n",
       "      <td>Afghanistan</td>\n",
       "      <td>AF</td>\n",
       "      <td>AFG</td>\n",
       "      <td>38041757.0</td>\n",
       "      <td>Asia</td>\n",
       "      <td>4.550263</td>\n",
       "    </tr>\n",
       "    <tr>\n",
       "      <th>4</th>\n",
       "      <td>28/07/2020</td>\n",
       "      <td>28</td>\n",
       "      <td>7</td>\n",
       "      <td>2020</td>\n",
       "      <td>105</td>\n",
       "      <td>1</td>\n",
       "      <td>Afghanistan</td>\n",
       "      <td>AF</td>\n",
       "      <td>AFG</td>\n",
       "      <td>38041757.0</td>\n",
       "      <td>Asia</td>\n",
       "      <td>5.028685</td>\n",
       "    </tr>\n",
       "    <tr>\n",
       "      <th>...</th>\n",
       "      <td>...</td>\n",
       "      <td>...</td>\n",
       "      <td>...</td>\n",
       "      <td>...</td>\n",
       "      <td>...</td>\n",
       "      <td>...</td>\n",
       "      <td>...</td>\n",
       "      <td>...</td>\n",
       "      <td>...</td>\n",
       "      <td>...</td>\n",
       "      <td>...</td>\n",
       "      <td>...</td>\n",
       "    </tr>\n",
       "    <tr>\n",
       "      <th>33472</th>\n",
       "      <td>25/03/2020</td>\n",
       "      <td>25</td>\n",
       "      <td>3</td>\n",
       "      <td>2020</td>\n",
       "      <td>0</td>\n",
       "      <td>0</td>\n",
       "      <td>Zimbabwe</td>\n",
       "      <td>ZW</td>\n",
       "      <td>ZWE</td>\n",
       "      <td>14645473.0</td>\n",
       "      <td>Africa</td>\n",
       "      <td>NaN</td>\n",
       "    </tr>\n",
       "    <tr>\n",
       "      <th>33473</th>\n",
       "      <td>24/03/2020</td>\n",
       "      <td>24</td>\n",
       "      <td>3</td>\n",
       "      <td>2020</td>\n",
       "      <td>0</td>\n",
       "      <td>1</td>\n",
       "      <td>Zimbabwe</td>\n",
       "      <td>ZW</td>\n",
       "      <td>ZWE</td>\n",
       "      <td>14645473.0</td>\n",
       "      <td>Africa</td>\n",
       "      <td>NaN</td>\n",
       "    </tr>\n",
       "    <tr>\n",
       "      <th>33474</th>\n",
       "      <td>23/03/2020</td>\n",
       "      <td>23</td>\n",
       "      <td>3</td>\n",
       "      <td>2020</td>\n",
       "      <td>0</td>\n",
       "      <td>0</td>\n",
       "      <td>Zimbabwe</td>\n",
       "      <td>ZW</td>\n",
       "      <td>ZWE</td>\n",
       "      <td>14645473.0</td>\n",
       "      <td>Africa</td>\n",
       "      <td>NaN</td>\n",
       "    </tr>\n",
       "    <tr>\n",
       "      <th>33475</th>\n",
       "      <td>22/03/2020</td>\n",
       "      <td>22</td>\n",
       "      <td>3</td>\n",
       "      <td>2020</td>\n",
       "      <td>1</td>\n",
       "      <td>0</td>\n",
       "      <td>Zimbabwe</td>\n",
       "      <td>ZW</td>\n",
       "      <td>ZWE</td>\n",
       "      <td>14645473.0</td>\n",
       "      <td>Africa</td>\n",
       "      <td>NaN</td>\n",
       "    </tr>\n",
       "    <tr>\n",
       "      <th>33476</th>\n",
       "      <td>21/03/2020</td>\n",
       "      <td>21</td>\n",
       "      <td>3</td>\n",
       "      <td>2020</td>\n",
       "      <td>1</td>\n",
       "      <td>0</td>\n",
       "      <td>Zimbabwe</td>\n",
       "      <td>ZW</td>\n",
       "      <td>ZWE</td>\n",
       "      <td>14645473.0</td>\n",
       "      <td>Africa</td>\n",
       "      <td>NaN</td>\n",
       "    </tr>\n",
       "  </tbody>\n",
       "</table>\n",
       "<p>33477 rows × 12 columns</p>\n",
       "</div>"
      ],
      "text/plain": [
       "          dateRep  day  month  year  cases  deaths countriesAndTerritories  \\\n",
       "0      01/08/2020    1      8  2020    168      12             Afghanistan   \n",
       "1      31/07/2020   31      7  2020     71       0             Afghanistan   \n",
       "2      30/07/2020   30      7  2020      0       0             Afghanistan   \n",
       "3      29/07/2020   29      7  2020    103       1             Afghanistan   \n",
       "4      28/07/2020   28      7  2020    105       1             Afghanistan   \n",
       "...           ...  ...    ...   ...    ...     ...                     ...   \n",
       "33472  25/03/2020   25      3  2020      0       0                Zimbabwe   \n",
       "33473  24/03/2020   24      3  2020      0       1                Zimbabwe   \n",
       "33474  23/03/2020   23      3  2020      0       0                Zimbabwe   \n",
       "33475  22/03/2020   22      3  2020      1       0                Zimbabwe   \n",
       "33476  21/03/2020   21      3  2020      1       0                Zimbabwe   \n",
       "\n",
       "      geoId countryterritoryCode  popData2019 continentExp  \\\n",
       "0        AF                  AFG   38041757.0         Asia   \n",
       "1        AF                  AFG   38041757.0         Asia   \n",
       "2        AF                  AFG   38041757.0         Asia   \n",
       "3        AF                  AFG   38041757.0         Asia   \n",
       "4        AF                  AFG   38041757.0         Asia   \n",
       "...     ...                  ...          ...          ...   \n",
       "33472    ZW                  ZWE   14645473.0       Africa   \n",
       "33473    ZW                  ZWE   14645473.0       Africa   \n",
       "33474    ZW                  ZWE   14645473.0       Africa   \n",
       "33475    ZW                  ZWE   14645473.0       Africa   \n",
       "33476    ZW                  ZWE   14645473.0       Africa   \n",
       "\n",
       "       Cumulative_number_for_14_days_of_COVID-19_cases_per_100000  \n",
       "0                                               3.735369           \n",
       "1                                               3.869432           \n",
       "2                                               3.882576           \n",
       "3                                               4.550263           \n",
       "4                                               5.028685           \n",
       "...                                                  ...           \n",
       "33472                                                NaN           \n",
       "33473                                                NaN           \n",
       "33474                                                NaN           \n",
       "33475                                                NaN           \n",
       "33476                                                NaN           \n",
       "\n",
       "[33477 rows x 12 columns]"
      ]
     },
     "execution_count": 144,
     "metadata": {},
     "output_type": "execute_result"
    }
   ],
   "source": [
    "df_covid_cases"
   ]
  },
  {
   "cell_type": "code",
   "execution_count": 145,
   "metadata": {},
   "outputs": [],
   "source": [
    "#trattasi dei casi sulla nave da crociera in Giappone\n",
    "#rimozione\n",
    "df_covid_cases = df_covid_cases.loc[~df_covid_cases.countryterritoryCode.isna()]"
   ]
  },
  {
   "cell_type": "code",
   "execution_count": 146,
   "metadata": {},
   "outputs": [],
   "source": [
    "#df_covid_cases['dateRep']=pd.to_datetime(df_covid_cases['dateRep'], format='%d/%m/%Y')\n",
    "#df_covid_cases.set_index('dateRep',inplace=True)\n",
    "#df_covid_cases['31/7/2020']"
   ]
  },
  {
   "cell_type": "code",
   "execution_count": 147,
   "metadata": {},
   "outputs": [
    {
     "name": "stderr",
     "output_type": "stream",
     "text": [
      "C:\\Users\\r.palmieri\\AppData\\Local\\Continuum\\anaconda3\\lib\\site-packages\\ipykernel_launcher.py:1: SettingWithCopyWarning:\n",
      "\n",
      "\n",
      "A value is trying to be set on a copy of a slice from a DataFrame.\n",
      "Try using .loc[row_indexer,col_indexer] = value instead\n",
      "\n",
      "See the caveats in the documentation: http://pandas.pydata.org/pandas-docs/stable/user_guide/indexing.html#returning-a-view-versus-a-copy\n",
      "\n"
     ]
    }
   ],
   "source": [
    "df_covid_cases['Cases_x_pop'] = df_covid_cases['cases']/df_covid_cases_grp['popData2019']\n",
    "df_covid_cases.to_csv(\"../datasets/covid_cases_x_pop.csv\")"
   ]
  },
  {
   "cell_type": "code",
   "execution_count": 148,
   "metadata": {},
   "outputs": [
    {
     "data": {
      "text/plain": [
       "Date        0\n",
       "Country     0\n",
       "City        0\n",
       "Specie      0\n",
       "count       0\n",
       "min         0\n",
       "max         0\n",
       "median      0\n",
       "variance    0\n",
       "dtype: int64"
      ]
     },
     "execution_count": 148,
     "metadata": {},
     "output_type": "execute_result"
    }
   ],
   "source": [
    "#controllo campi null air data\n",
    "df_air_data.isna().sum()"
   ]
  },
  {
   "cell_type": "code",
   "execution_count": 149,
   "metadata": {},
   "outputs": [
    {
     "data": {
      "text/html": [
       "<div>\n",
       "<style scoped>\n",
       "    .dataframe tbody tr th:only-of-type {\n",
       "        vertical-align: middle;\n",
       "    }\n",
       "\n",
       "    .dataframe tbody tr th {\n",
       "        vertical-align: top;\n",
       "    }\n",
       "\n",
       "    .dataframe thead th {\n",
       "        text-align: right;\n",
       "    }\n",
       "</style>\n",
       "<table border=\"1\" class=\"dataframe\">\n",
       "  <thead>\n",
       "    <tr style=\"text-align: right;\">\n",
       "      <th></th>\n",
       "      <th>countryterritoryCode</th>\n",
       "      <th>TotalCases</th>\n",
       "      <th>countryName</th>\n",
       "      <th>popData2019</th>\n",
       "    </tr>\n",
       "  </thead>\n",
       "  <tbody>\n",
       "    <tr>\n",
       "      <th>0</th>\n",
       "      <td>ABW</td>\n",
       "      <td>121</td>\n",
       "      <td>Aruba</td>\n",
       "      <td>106310.0</td>\n",
       "    </tr>\n",
       "    <tr>\n",
       "      <th>1</th>\n",
       "      <td>AFG</td>\n",
       "      <td>36710</td>\n",
       "      <td>Afghanistan</td>\n",
       "      <td>38041757.0</td>\n",
       "    </tr>\n",
       "    <tr>\n",
       "      <th>2</th>\n",
       "      <td>AGO</td>\n",
       "      <td>1109</td>\n",
       "      <td>Angola</td>\n",
       "      <td>31825299.0</td>\n",
       "    </tr>\n",
       "    <tr>\n",
       "      <th>3</th>\n",
       "      <td>AIA</td>\n",
       "      <td>3</td>\n",
       "      <td>Anguilla</td>\n",
       "      <td>14872.0</td>\n",
       "    </tr>\n",
       "    <tr>\n",
       "      <th>4</th>\n",
       "      <td>ALB</td>\n",
       "      <td>5276</td>\n",
       "      <td>Albania</td>\n",
       "      <td>2862427.0</td>\n",
       "    </tr>\n",
       "    <tr>\n",
       "      <th>...</th>\n",
       "      <td>...</td>\n",
       "      <td>...</td>\n",
       "      <td>...</td>\n",
       "      <td>...</td>\n",
       "    </tr>\n",
       "    <tr>\n",
       "      <th>204</th>\n",
       "      <td>XKX</td>\n",
       "      <td>8104</td>\n",
       "      <td>Kosovo</td>\n",
       "      <td>1798506.0</td>\n",
       "    </tr>\n",
       "    <tr>\n",
       "      <th>205</th>\n",
       "      <td>YEM</td>\n",
       "      <td>1728</td>\n",
       "      <td>Yemen</td>\n",
       "      <td>29161922.0</td>\n",
       "    </tr>\n",
       "    <tr>\n",
       "      <th>206</th>\n",
       "      <td>ZAF</td>\n",
       "      <td>493183</td>\n",
       "      <td>South_Africa</td>\n",
       "      <td>58558267.0</td>\n",
       "    </tr>\n",
       "    <tr>\n",
       "      <th>207</th>\n",
       "      <td>ZMB</td>\n",
       "      <td>5963</td>\n",
       "      <td>Zambia</td>\n",
       "      <td>17861034.0</td>\n",
       "    </tr>\n",
       "    <tr>\n",
       "      <th>208</th>\n",
       "      <td>ZWE</td>\n",
       "      <td>3169</td>\n",
       "      <td>Zimbabwe</td>\n",
       "      <td>14645473.0</td>\n",
       "    </tr>\n",
       "  </tbody>\n",
       "</table>\n",
       "<p>209 rows × 4 columns</p>\n",
       "</div>"
      ],
      "text/plain": [
       "    countryterritoryCode  TotalCases   countryName  popData2019\n",
       "0                    ABW         121         Aruba     106310.0\n",
       "1                    AFG       36710   Afghanistan   38041757.0\n",
       "2                    AGO        1109        Angola   31825299.0\n",
       "3                    AIA           3      Anguilla      14872.0\n",
       "4                    ALB        5276       Albania    2862427.0\n",
       "..                   ...         ...           ...          ...\n",
       "204                  XKX        8104        Kosovo    1798506.0\n",
       "205                  YEM        1728         Yemen   29161922.0\n",
       "206                  ZAF      493183  South_Africa   58558267.0\n",
       "207                  ZMB        5963        Zambia   17861034.0\n",
       "208                  ZWE        3169      Zimbabwe   14645473.0\n",
       "\n",
       "[209 rows x 4 columns]"
      ]
     },
     "execution_count": 149,
     "metadata": {},
     "output_type": "execute_result"
    }
   ],
   "source": [
    "#aggrego sulle province e regioni\n",
    "df_covid_cases_grp = df_covid_cases.groupby(['countryterritoryCode']).agg(TotalCases=('cases', 'sum'),countryName=('countriesAndTerritories','first'), popData2019=('popData2019','max'))\n",
    "df_covid_cases_grp.reset_index(inplace=True)\n",
    "df_covid_cases_grp"
   ]
  },
  {
   "cell_type": "code",
   "execution_count": 150,
   "metadata": {},
   "outputs": [
    {
     "name": "stdout",
     "output_type": "stream",
     "text": [
      "min time covid cases: 2019-12-31 00:00:00\n",
      "max time covid cases: 2020-08-01 00:00:00\n",
      "min time air quality data: 2019-12-30 00:00:00\n",
      "max time air quality data: 2020-08-02 00:00:00\n"
     ]
    }
   ],
   "source": [
    "#convert to datetime\n",
    "df_covid_cases.dateRep=pd.to_datetime(df_covid_cases['dateRep'], format='%d/%m/%Y')\n",
    "#identify temporal intervals\n",
    "print(\"min time covid cases:\",df_covid_cases.dateRep.min())\n",
    "print(\"max time covid cases:\",df_covid_cases.dateRep.max())\n",
    "\n",
    "df_air_data.Date=pd.to_datetime(df_air_data['Date'], format='%Y-%m-%d')\n",
    "#identify temporal intervals\n",
    "print(\"min time air quality data:\",df_air_data.Date.min())\n",
    "print(\"max time air quality data:\",df_air_data.Date.max())"
   ]
  },
  {
   "cell_type": "code",
   "execution_count": 151,
   "metadata": {},
   "outputs": [],
   "source": [
    "#legge i geo json con geopandas\n",
    "import geopandas\n",
    "import os\n",
    "import fnmatch\n",
    "created=False\n",
    "for file_name in os.listdir('../datasets/'):\n",
    "    if fnmatch.fnmatch(file_name, '*.geojson'):\n",
    "        if(~created):\n",
    "            country=geopandas.read_file('../datasets/'+file_name)\n",
    "            countries=country\n",
    "            created=True\n",
    "        else:\n",
    "            countries.append(geopandas.read_file('../data_covid/'+file_name))"
   ]
  },
  {
   "cell_type": "code",
   "execution_count": 152,
   "metadata": {},
   "outputs": [
    {
     "data": {
      "text/html": [
       "<div>\n",
       "<style scoped>\n",
       "    .dataframe tbody tr th:only-of-type {\n",
       "        vertical-align: middle;\n",
       "    }\n",
       "\n",
       "    .dataframe tbody tr th {\n",
       "        vertical-align: top;\n",
       "    }\n",
       "\n",
       "    .dataframe thead th {\n",
       "        text-align: right;\n",
       "    }\n",
       "</style>\n",
       "<table border=\"1\" class=\"dataframe\">\n",
       "  <thead>\n",
       "    <tr style=\"text-align: right;\">\n",
       "      <th></th>\n",
       "      <th>id</th>\n",
       "      <th>CNTR_NAME</th>\n",
       "      <th>ISO3_CODE</th>\n",
       "      <th>CNTR_ID</th>\n",
       "      <th>NAME_ENGL</th>\n",
       "      <th>FID</th>\n",
       "      <th>geometry</th>\n",
       "    </tr>\n",
       "  </thead>\n",
       "  <tbody>\n",
       "    <tr>\n",
       "      <th>9</th>\n",
       "      <td>AS</td>\n",
       "      <td>American Samoa-Sāmoa Amelika</td>\n",
       "      <td>ASM</td>\n",
       "      <td>AS</td>\n",
       "      <td>American Samoa</td>\n",
       "      <td>AS</td>\n",
       "      <td>MULTIPOLYGON (((-170.67082 -14.23838, -170.589...</td>\n",
       "    </tr>\n",
       "    <tr>\n",
       "      <th>15</th>\n",
       "      <td>CK</td>\n",
       "      <td>Cook Islands-Kūki 'Āirani</td>\n",
       "      <td>COK</td>\n",
       "      <td>CK</td>\n",
       "      <td>Cook Islands</td>\n",
       "      <td>CK</td>\n",
       "      <td>MULTIPOLYGON (((-159.72146 -21.24608, -159.754...</td>\n",
       "    </tr>\n",
       "    <tr>\n",
       "      <th>16</th>\n",
       "      <td>AQ</td>\n",
       "      <td>Antarctica</td>\n",
       "      <td>ATA</td>\n",
       "      <td>AQ</td>\n",
       "      <td>Antarctica</td>\n",
       "      <td>AQ</td>\n",
       "      <td>MULTIPOLYGON (((-57.34206 -63.23948, -57.09707...</td>\n",
       "    </tr>\n",
       "    <tr>\n",
       "      <th>20</th>\n",
       "      <td>BL</td>\n",
       "      <td>Saint-Barthélemy</td>\n",
       "      <td>BLM</td>\n",
       "      <td>BL</td>\n",
       "      <td>Saint Barthélemy</td>\n",
       "      <td>BL</td>\n",
       "      <td>POLYGON ((-62.85933 17.89355, -62.79877 17.928...</td>\n",
       "    </tr>\n",
       "    <tr>\n",
       "      <th>26</th>\n",
       "      <td>BV</td>\n",
       "      <td>Bouvetøya</td>\n",
       "      <td>BVT</td>\n",
       "      <td>BV</td>\n",
       "      <td>Bouvet Island</td>\n",
       "      <td>BV</td>\n",
       "      <td>POLYGON ((3.29560 -54.41711, 3.30409 -54.39881...</td>\n",
       "    </tr>\n",
       "    <tr>\n",
       "      <th>41</th>\n",
       "      <td>CC</td>\n",
       "      <td>Cocos Keeling Islands</td>\n",
       "      <td>CCK</td>\n",
       "      <td>CC</td>\n",
       "      <td>Cocos (Keeling) Islands</td>\n",
       "      <td>CC</td>\n",
       "      <td>MULTIPOLYGON (((96.84800 -11.81060, 96.83228 -...</td>\n",
       "    </tr>\n",
       "    <tr>\n",
       "      <th>54</th>\n",
       "      <td>CP</td>\n",
       "      <td>Île Clipperton</td>\n",
       "      <td>CPT</td>\n",
       "      <td>CP</td>\n",
       "      <td>Clipperton Island</td>\n",
       "      <td>CP</td>\n",
       "      <td>POLYGON ((-109.25142 10.31413, -109.23663 10.3...</td>\n",
       "    </tr>\n",
       "    <tr>\n",
       "      <th>59</th>\n",
       "      <td>CX</td>\n",
       "      <td>Christmas Island</td>\n",
       "      <td>CXR</td>\n",
       "      <td>CX</td>\n",
       "      <td>Christmas Island</td>\n",
       "      <td>CX</td>\n",
       "      <td>POLYGON ((105.55213 -10.49521, 105.55928 -10.4...</td>\n",
       "    </tr>\n",
       "    <tr>\n",
       "      <th>66</th>\n",
       "      <td>FM</td>\n",
       "      <td>Micronesia</td>\n",
       "      <td>FSM</td>\n",
       "      <td>FM</td>\n",
       "      <td>Micronesia</td>\n",
       "      <td>FM</td>\n",
       "      <td>MULTIPOLYGON (((158.21659 6.98726, 158.31908 6...</td>\n",
       "    </tr>\n",
       "    <tr>\n",
       "      <th>83</th>\n",
       "      <td>HK</td>\n",
       "      <td>香港</td>\n",
       "      <td>HKG</td>\n",
       "      <td>HK</td>\n",
       "      <td>Hong Kong</td>\n",
       "      <td>HK</td>\n",
       "      <td>MULTIPOLYGON (((114.03762 22.50370, 114.16130 ...</td>\n",
       "    </tr>\n",
       "    <tr>\n",
       "      <th>84</th>\n",
       "      <td>HM</td>\n",
       "      <td>Heard Island and Mcdonald Islands</td>\n",
       "      <td>HMD</td>\n",
       "      <td>HM</td>\n",
       "      <td>Heard Island and Mcdonald Islands</td>\n",
       "      <td>HM</td>\n",
       "      <td>MULTIPOLYGON (((73.53062 -53.20407, 73.46738 -...</td>\n",
       "    </tr>\n",
       "    <tr>\n",
       "      <th>95</th>\n",
       "      <td>GS</td>\n",
       "      <td>South Georgia and The South Sandwich Islands</td>\n",
       "      <td>SGS</td>\n",
       "      <td>GS</td>\n",
       "      <td>South Georgia and The South Sandwich Islands</td>\n",
       "      <td>GS</td>\n",
       "      <td>MULTIPOLYGON (((-37.38482 -54.01199, -37.45585...</td>\n",
       "    </tr>\n",
       "    <tr>\n",
       "      <th>100</th>\n",
       "      <td>KI</td>\n",
       "      <td>Kiribati</td>\n",
       "      <td>KIR</td>\n",
       "      <td>KI</td>\n",
       "      <td>Kiribati</td>\n",
       "      <td>KI</td>\n",
       "      <td>MULTIPOLYGON (((-157.34525 1.90518, -157.33943...</td>\n",
       "    </tr>\n",
       "    <tr>\n",
       "      <th>103</th>\n",
       "      <td>KP</td>\n",
       "      <td>조선민주주의인민공화국</td>\n",
       "      <td>PRK</td>\n",
       "      <td>KP</td>\n",
       "      <td>North Korea</td>\n",
       "      <td>KP</td>\n",
       "      <td>MULTIPOLYGON (((130.63393 42.41417, 130.67486 ...</td>\n",
       "    </tr>\n",
       "    <tr>\n",
       "      <th>107</th>\n",
       "      <td>NR</td>\n",
       "      <td>Nauru-Naoero</td>\n",
       "      <td>NRU</td>\n",
       "      <td>NR</td>\n",
       "      <td>Nauru</td>\n",
       "      <td>NR</td>\n",
       "      <td>POLYGON ((166.90251 -0.53360, 166.93495 -0.495...</td>\n",
       "    </tr>\n",
       "    <tr>\n",
       "      <th>108</th>\n",
       "      <td>NU</td>\n",
       "      <td>Niue-Niuē</td>\n",
       "      <td>NIU</td>\n",
       "      <td>NU</td>\n",
       "      <td>Niue</td>\n",
       "      <td>NU</td>\n",
       "      <td>POLYGON ((-169.95159 -19.07451, -169.92152 -19...</td>\n",
       "    </tr>\n",
       "    <tr>\n",
       "      <th>113</th>\n",
       "      <td>MS</td>\n",
       "      <td>Montserrat</td>\n",
       "      <td>MSR</td>\n",
       "      <td>MS</td>\n",
       "      <td>Montserrat</td>\n",
       "      <td>MS</td>\n",
       "      <td>POLYGON ((-62.24175 16.72228, -62.20328 16.826...</td>\n",
       "    </tr>\n",
       "    <tr>\n",
       "      <th>120</th>\n",
       "      <td>IO</td>\n",
       "      <td>British Indian Ocean Territory</td>\n",
       "      <td>IOT</td>\n",
       "      <td>IO</td>\n",
       "      <td>British Indian Ocean Territory</td>\n",
       "      <td>IO</td>\n",
       "      <td>POLYGON ((72.33781 -7.26068, 72.37376 -7.24287...</td>\n",
       "    </tr>\n",
       "    <tr>\n",
       "      <th>145</th>\n",
       "      <td>MO</td>\n",
       "      <td>澳門-Macau</td>\n",
       "      <td>MAC</td>\n",
       "      <td>MO</td>\n",
       "      <td>Macau</td>\n",
       "      <td>MO</td>\n",
       "      <td>POLYGON ((113.53219 22.20792, 113.55089 22.214...</td>\n",
       "    </tr>\n",
       "    <tr>\n",
       "      <th>151</th>\n",
       "      <td>MH</td>\n",
       "      <td>Marshall Islands-Aorōkin M̧Ajeļ</td>\n",
       "      <td>MHL</td>\n",
       "      <td>MH</td>\n",
       "      <td>Marshall Islands</td>\n",
       "      <td>MH</td>\n",
       "      <td>MULTIPOLYGON (((169.65482 6.04704, 169.60448 6...</td>\n",
       "    </tr>\n",
       "    <tr>\n",
       "      <th>161</th>\n",
       "      <td>NF</td>\n",
       "      <td>Norfolk Island-Norfuk Ailen</td>\n",
       "      <td>NFK</td>\n",
       "      <td>NF</td>\n",
       "      <td>Norfolk Island</td>\n",
       "      <td>NF</td>\n",
       "      <td>POLYGON ((167.91575 -29.03288, 167.94211 -29.0...</td>\n",
       "    </tr>\n",
       "    <tr>\n",
       "      <th>172</th>\n",
       "      <td>PW</td>\n",
       "      <td>Palau-Belau</td>\n",
       "      <td>PLW</td>\n",
       "      <td>PW</td>\n",
       "      <td>Palau</td>\n",
       "      <td>PW</td>\n",
       "      <td>MULTIPOLYGON (((134.58547 7.37633, 134.56705 7...</td>\n",
       "    </tr>\n",
       "    <tr>\n",
       "      <th>179</th>\n",
       "      <td>PM</td>\n",
       "      <td>Saint-Pierre-Et-Miquelon</td>\n",
       "      <td>SPM</td>\n",
       "      <td>PM</td>\n",
       "      <td>Saint Pierre and Miquelon</td>\n",
       "      <td>PM</td>\n",
       "      <td>MULTIPOLYGON (((-56.26968 46.99904, -56.33484 ...</td>\n",
       "    </tr>\n",
       "    <tr>\n",
       "      <th>180</th>\n",
       "      <td>PN</td>\n",
       "      <td>Pitcairn Islands-Pitkern Ailen</td>\n",
       "      <td>PCN</td>\n",
       "      <td>PN</td>\n",
       "      <td>Pitcairn Islands</td>\n",
       "      <td>PN</td>\n",
       "      <td>POLYGON ((-128.35759 -24.36836, -128.34076 -24...</td>\n",
       "    </tr>\n",
       "    <tr>\n",
       "      <th>186</th>\n",
       "      <td>TK</td>\n",
       "      <td>Tokelau-Tokelau</td>\n",
       "      <td>TKL</td>\n",
       "      <td>TK</td>\n",
       "      <td>Tokelau</td>\n",
       "      <td>TK</td>\n",
       "      <td>POLYGON ((-172.50288 -8.58278, -172.49741 -8.5...</td>\n",
       "    </tr>\n",
       "    <tr>\n",
       "      <th>191</th>\n",
       "      <td>TF</td>\n",
       "      <td>Terres Australes Et Antarctiques Françaises</td>\n",
       "      <td>ATF</td>\n",
       "      <td>TF</td>\n",
       "      <td>French Southern and Antarctic Lands</td>\n",
       "      <td>TF</td>\n",
       "      <td>MULTIPOLYGON (((69.00860 -48.79300, 69.01727 -...</td>\n",
       "    </tr>\n",
       "    <tr>\n",
       "      <th>202</th>\n",
       "      <td>SB</td>\n",
       "      <td>Solomon Islands</td>\n",
       "      <td>SLB</td>\n",
       "      <td>SB</td>\n",
       "      <td>Solomon Islands</td>\n",
       "      <td>SB</td>\n",
       "      <td>MULTIPOLYGON (((159.70100 -9.25415, 159.92165 ...</td>\n",
       "    </tr>\n",
       "    <tr>\n",
       "      <th>206</th>\n",
       "      <td>SH</td>\n",
       "      <td>Saint Helena, Ascension and Tristan Da Cunha</td>\n",
       "      <td>SHN</td>\n",
       "      <td>SH</td>\n",
       "      <td>Saint Helena, Ascension and Tristan Da Cunha</td>\n",
       "      <td>SH</td>\n",
       "      <td>MULTIPOLYGON (((-5.63602 -15.95065, -5.67574 -...</td>\n",
       "    </tr>\n",
       "    <tr>\n",
       "      <th>213</th>\n",
       "      <td>TV</td>\n",
       "      <td>Tuvalu-Tuvalu</td>\n",
       "      <td>TUV</td>\n",
       "      <td>TV</td>\n",
       "      <td>Tuvalu</td>\n",
       "      <td>TV</td>\n",
       "      <td>MULTIPOLYGON (((177.38350 -6.11979, 177.32598 ...</td>\n",
       "    </tr>\n",
       "    <tr>\n",
       "      <th>216</th>\n",
       "      <td>TM</td>\n",
       "      <td>Türkmenistan</td>\n",
       "      <td>TKM</td>\n",
       "      <td>TM</td>\n",
       "      <td>Turkmenistan</td>\n",
       "      <td>TM</td>\n",
       "      <td>MULTIPOLYGON (((66.55373 37.35475, 66.42328 37...</td>\n",
       "    </tr>\n",
       "    <tr>\n",
       "      <th>218</th>\n",
       "      <td>TO</td>\n",
       "      <td>Tonga-Tonga</td>\n",
       "      <td>TON</td>\n",
       "      <td>TO</td>\n",
       "      <td>Tonga</td>\n",
       "      <td>TO</td>\n",
       "      <td>MULTIPOLYGON (((-175.35332 -21.11423, -175.290...</td>\n",
       "    </tr>\n",
       "    <tr>\n",
       "      <th>221</th>\n",
       "      <td>SJ</td>\n",
       "      <td>Svalbard Og Jan Mayen</td>\n",
       "      <td>SJM</td>\n",
       "      <td>SJ</td>\n",
       "      <td>Svalbard and Jan Mayen</td>\n",
       "      <td>SJ</td>\n",
       "      <td>MULTIPOLYGON (((16.46837 80.03504, 16.79681 79...</td>\n",
       "    </tr>\n",
       "    <tr>\n",
       "      <th>225</th>\n",
       "      <td>UM</td>\n",
       "      <td>United States Minor Outlying Islands</td>\n",
       "      <td>UMI</td>\n",
       "      <td>UM</td>\n",
       "      <td>United States Minor Outlying Islands</td>\n",
       "      <td>UM</td>\n",
       "      <td>MULTIPOLYGON (((-162.35335 6.36055, -162.40750...</td>\n",
       "    </tr>\n",
       "    <tr>\n",
       "      <th>226</th>\n",
       "      <td>XH</td>\n",
       "      <td>Jammu Kashmir (Disputed Territory)</td>\n",
       "      <td>XH</td>\n",
       "      <td>XH</td>\n",
       "      <td>Jammu Kashmir</td>\n",
       "      <td>XH</td>\n",
       "      <td>POLYGON ((77.92435 35.49361, 78.12374 35.48909...</td>\n",
       "    </tr>\n",
       "    <tr>\n",
       "      <th>227</th>\n",
       "      <td>XI</td>\n",
       "      <td>Kuril Islands (Disputed Territory)</td>\n",
       "      <td>XI</td>\n",
       "      <td>XI</td>\n",
       "      <td>Kuril Islands</td>\n",
       "      <td>XI</td>\n",
       "      <td>MULTIPOLYGON (((148.84110 45.33681, 148.77625 ...</td>\n",
       "    </tr>\n",
       "    <tr>\n",
       "      <th>228</th>\n",
       "      <td>XL</td>\n",
       "      <td>Navassa Island (Disputed Territory)</td>\n",
       "      <td>XL</td>\n",
       "      <td>XL</td>\n",
       "      <td>Navassa Island</td>\n",
       "      <td>XL</td>\n",
       "      <td>POLYGON ((-75.04168 18.40671, -74.99451 18.429...</td>\n",
       "    </tr>\n",
       "    <tr>\n",
       "      <th>229</th>\n",
       "      <td>XM</td>\n",
       "      <td>Scarborough Reef (Disputed Territory)</td>\n",
       "      <td>XM</td>\n",
       "      <td>XM</td>\n",
       "      <td>Scarborough Reef</td>\n",
       "      <td>XM</td>\n",
       "      <td>MULTIPOLYGON (((117.75279 15.19655, 117.70969 ...</td>\n",
       "    </tr>\n",
       "    <tr>\n",
       "      <th>230</th>\n",
       "      <td>XN</td>\n",
       "      <td>Senkaku Islands (Disputed Territory)</td>\n",
       "      <td>XN</td>\n",
       "      <td>XN</td>\n",
       "      <td>Senkaku Islands</td>\n",
       "      <td>XN</td>\n",
       "      <td>MULTIPOLYGON (((123.70981 25.90493, 123.67715 ...</td>\n",
       "    </tr>\n",
       "    <tr>\n",
       "      <th>231</th>\n",
       "      <td>XO</td>\n",
       "      <td>Fr Territory (Juan de Nova, Glorioso, Europa, ...</td>\n",
       "      <td>XO</td>\n",
       "      <td>XO</td>\n",
       "      <td>Bassas Da India</td>\n",
       "      <td>XO</td>\n",
       "      <td>MULTIPOLYGON (((42.77579 -17.06284, 42.71735 -...</td>\n",
       "    </tr>\n",
       "    <tr>\n",
       "      <th>232</th>\n",
       "      <td>XU</td>\n",
       "      <td>Abyei Region (Disputed Territory)</td>\n",
       "      <td>XU</td>\n",
       "      <td>XU</td>\n",
       "      <td>Abyei</td>\n",
       "      <td>XU</td>\n",
       "      <td>POLYGON ((28.97701 9.64116, 28.89532 9.56921, ...</td>\n",
       "    </tr>\n",
       "    <tr>\n",
       "      <th>233</th>\n",
       "      <td>XV</td>\n",
       "      <td>Bir Tawil (Disputed Territory)</td>\n",
       "      <td>XV</td>\n",
       "      <td>XV</td>\n",
       "      <td>Bir Tawil (Disputed Territory)</td>\n",
       "      <td>XV</td>\n",
       "      <td>POLYGON ((33.18263 22.00166, 33.67922 22.00213...</td>\n",
       "    </tr>\n",
       "    <tr>\n",
       "      <th>246</th>\n",
       "      <td>VU</td>\n",
       "      <td>Vanuatu-Vanuatu-Vanuatu</td>\n",
       "      <td>VUT</td>\n",
       "      <td>VU</td>\n",
       "      <td>Vanuatu</td>\n",
       "      <td>VU</td>\n",
       "      <td>MULTIPOLYGON (((166.82317 -15.13636, 166.87116...</td>\n",
       "    </tr>\n",
       "    <tr>\n",
       "      <th>247</th>\n",
       "      <td>WF</td>\n",
       "      <td>Wallis-Et-Futuna</td>\n",
       "      <td>WLF</td>\n",
       "      <td>WF</td>\n",
       "      <td>Wallis and Futuna</td>\n",
       "      <td>WF</td>\n",
       "      <td>MULTIPOLYGON (((-176.19246 -13.22250, -176.158...</td>\n",
       "    </tr>\n",
       "    <tr>\n",
       "      <th>249</th>\n",
       "      <td>WS</td>\n",
       "      <td>Samoa-Sāmoa</td>\n",
       "      <td>WSM</td>\n",
       "      <td>WS</td>\n",
       "      <td>Samoa</td>\n",
       "      <td>WS</td>\n",
       "      <td>MULTIPOLYGON (((-172.30612 -13.45987, -172.210...</td>\n",
       "    </tr>\n",
       "    <tr>\n",
       "      <th>250</th>\n",
       "      <td>XA</td>\n",
       "      <td>Paracel Islands (Disputed Territory)</td>\n",
       "      <td>XA</td>\n",
       "      <td>XA</td>\n",
       "      <td>Paracel Islands</td>\n",
       "      <td>XA</td>\n",
       "      <td>MULTIPOLYGON (((112.76763 16.64926, 112.75321 ...</td>\n",
       "    </tr>\n",
       "    <tr>\n",
       "      <th>251</th>\n",
       "      <td>XB</td>\n",
       "      <td>Spratly Islands (Disputed Territory)</td>\n",
       "      <td>XB</td>\n",
       "      <td>XB</td>\n",
       "      <td>Spratly Islands</td>\n",
       "      <td>XB</td>\n",
       "      <td>POLYGON ((114.25703 11.04299, 114.26826 11.076...</td>\n",
       "    </tr>\n",
       "    <tr>\n",
       "      <th>252</th>\n",
       "      <td>XC</td>\n",
       "      <td>Aksai Chin (Disputed Territory)</td>\n",
       "      <td>XC</td>\n",
       "      <td>XC</td>\n",
       "      <td>Aksai Chin</td>\n",
       "      <td>XC</td>\n",
       "      <td>POLYGON ((78.94793 33.37869, 78.83903 33.43723...</td>\n",
       "    </tr>\n",
       "    <tr>\n",
       "      <th>253</th>\n",
       "      <td>XD</td>\n",
       "      <td>Arunashal Pradesh (Disputed Territory)</td>\n",
       "      <td>XD</td>\n",
       "      <td>XD</td>\n",
       "      <td>Arunachal Pradesh</td>\n",
       "      <td>XD</td>\n",
       "      <td>POLYGON ((97.34711 28.20807, 97.31516 28.07765...</td>\n",
       "    </tr>\n",
       "    <tr>\n",
       "      <th>254</th>\n",
       "      <td>XE</td>\n",
       "      <td>China/India (Disputed Territory)</td>\n",
       "      <td>XE</td>\n",
       "      <td>XE</td>\n",
       "      <td>China/India</td>\n",
       "      <td>XE</td>\n",
       "      <td>MULTIPOLYGON (((79.25368 32.52334, 79.29862 32...</td>\n",
       "    </tr>\n",
       "    <tr>\n",
       "      <th>255</th>\n",
       "      <td>XF</td>\n",
       "      <td>Hala'Ib Triangle (Disputed Territory)</td>\n",
       "      <td>XF</td>\n",
       "      <td>XF</td>\n",
       "      <td>Hala'Ib Triangle</td>\n",
       "      <td>XF</td>\n",
       "      <td>POLYGON ((36.88250 22.00513, 34.08653 22.00251...</td>\n",
       "    </tr>\n",
       "    <tr>\n",
       "      <th>256</th>\n",
       "      <td>XG</td>\n",
       "      <td>Ilemi Triangle (Disputed Territory)</td>\n",
       "      <td>XG</td>\n",
       "      <td>XG</td>\n",
       "      <td>Ilemi Triangle</td>\n",
       "      <td>XG</td>\n",
       "      <td>POLYGON ((35.50877 4.62000, 34.37846 4.62000, ...</td>\n",
       "    </tr>\n",
       "  </tbody>\n",
       "</table>\n",
       "</div>"
      ],
      "text/plain": [
       "     id                                          CNTR_NAME ISO3_CODE CNTR_ID  \\\n",
       "9    AS                       American Samoa-Sāmoa Amelika       ASM      AS   \n",
       "15   CK                          Cook Islands-Kūki 'Āirani       COK      CK   \n",
       "16   AQ                                         Antarctica       ATA      AQ   \n",
       "20   BL                                   Saint-Barthélemy       BLM      BL   \n",
       "26   BV                                          Bouvetøya       BVT      BV   \n",
       "41   CC                              Cocos Keeling Islands       CCK      CC   \n",
       "54   CP                                     Île Clipperton       CPT      CP   \n",
       "59   CX                                   Christmas Island       CXR      CX   \n",
       "66   FM                                         Micronesia       FSM      FM   \n",
       "83   HK                                                 香港       HKG      HK   \n",
       "84   HM                  Heard Island and Mcdonald Islands       HMD      HM   \n",
       "95   GS       South Georgia and The South Sandwich Islands       SGS      GS   \n",
       "100  KI                                           Kiribati       KIR      KI   \n",
       "103  KP                                        조선민주주의인민공화국       PRK      KP   \n",
       "107  NR                                       Nauru-Naoero       NRU      NR   \n",
       "108  NU                                          Niue-Niuē       NIU      NU   \n",
       "113  MS                                         Montserrat       MSR      MS   \n",
       "120  IO                     British Indian Ocean Territory       IOT      IO   \n",
       "145  MO                                           澳門-Macau       MAC      MO   \n",
       "151  MH                    Marshall Islands-Aorōkin M̧Ajeļ       MHL      MH   \n",
       "161  NF                        Norfolk Island-Norfuk Ailen       NFK      NF   \n",
       "172  PW                                        Palau-Belau       PLW      PW   \n",
       "179  PM                           Saint-Pierre-Et-Miquelon       SPM      PM   \n",
       "180  PN                     Pitcairn Islands-Pitkern Ailen       PCN      PN   \n",
       "186  TK                                    Tokelau-Tokelau       TKL      TK   \n",
       "191  TF        Terres Australes Et Antarctiques Françaises       ATF      TF   \n",
       "202  SB                                    Solomon Islands       SLB      SB   \n",
       "206  SH       Saint Helena, Ascension and Tristan Da Cunha       SHN      SH   \n",
       "213  TV                                      Tuvalu-Tuvalu       TUV      TV   \n",
       "216  TM                                       Türkmenistan       TKM      TM   \n",
       "218  TO                                        Tonga-Tonga       TON      TO   \n",
       "221  SJ                              Svalbard Og Jan Mayen       SJM      SJ   \n",
       "225  UM               United States Minor Outlying Islands       UMI      UM   \n",
       "226  XH                 Jammu Kashmir (Disputed Territory)        XH      XH   \n",
       "227  XI                 Kuril Islands (Disputed Territory)        XI      XI   \n",
       "228  XL                Navassa Island (Disputed Territory)        XL      XL   \n",
       "229  XM              Scarborough Reef (Disputed Territory)        XM      XM   \n",
       "230  XN               Senkaku Islands (Disputed Territory)        XN      XN   \n",
       "231  XO  Fr Territory (Juan de Nova, Glorioso, Europa, ...        XO      XO   \n",
       "232  XU                  Abyei Region (Disputed Territory)        XU      XU   \n",
       "233  XV                     Bir Tawil (Disputed Territory)        XV      XV   \n",
       "246  VU                            Vanuatu-Vanuatu-Vanuatu       VUT      VU   \n",
       "247  WF                                   Wallis-Et-Futuna       WLF      WF   \n",
       "249  WS                                        Samoa-Sāmoa       WSM      WS   \n",
       "250  XA               Paracel Islands (Disputed Territory)        XA      XA   \n",
       "251  XB               Spratly Islands (Disputed Territory)        XB      XB   \n",
       "252  XC                    Aksai Chin (Disputed Territory)        XC      XC   \n",
       "253  XD             Arunashal Pradesh (Disputed Territory)        XD      XD   \n",
       "254  XE                   China/India (Disputed Territory)        XE      XE   \n",
       "255  XF              Hala'Ib Triangle (Disputed Territory)        XF      XF   \n",
       "256  XG                Ilemi Triangle (Disputed Territory)        XG      XG   \n",
       "\n",
       "                                        NAME_ENGL FID  \\\n",
       "9                                  American Samoa  AS   \n",
       "15                                   Cook Islands  CK   \n",
       "16                                     Antarctica  AQ   \n",
       "20                               Saint Barthélemy  BL   \n",
       "26                                  Bouvet Island  BV   \n",
       "41                        Cocos (Keeling) Islands  CC   \n",
       "54                              Clipperton Island  CP   \n",
       "59                               Christmas Island  CX   \n",
       "66                                     Micronesia  FM   \n",
       "83                                      Hong Kong  HK   \n",
       "84              Heard Island and Mcdonald Islands  HM   \n",
       "95   South Georgia and The South Sandwich Islands  GS   \n",
       "100                                      Kiribati  KI   \n",
       "103                                   North Korea  KP   \n",
       "107                                         Nauru  NR   \n",
       "108                                          Niue  NU   \n",
       "113                                    Montserrat  MS   \n",
       "120                British Indian Ocean Territory  IO   \n",
       "145                                         Macau  MO   \n",
       "151                              Marshall Islands  MH   \n",
       "161                                Norfolk Island  NF   \n",
       "172                                         Palau  PW   \n",
       "179                     Saint Pierre and Miquelon  PM   \n",
       "180                              Pitcairn Islands  PN   \n",
       "186                                       Tokelau  TK   \n",
       "191           French Southern and Antarctic Lands  TF   \n",
       "202                               Solomon Islands  SB   \n",
       "206  Saint Helena, Ascension and Tristan Da Cunha  SH   \n",
       "213                                        Tuvalu  TV   \n",
       "216                                  Turkmenistan  TM   \n",
       "218                                         Tonga  TO   \n",
       "221                        Svalbard and Jan Mayen  SJ   \n",
       "225          United States Minor Outlying Islands  UM   \n",
       "226                                 Jammu Kashmir  XH   \n",
       "227                                 Kuril Islands  XI   \n",
       "228                                Navassa Island  XL   \n",
       "229                              Scarborough Reef  XM   \n",
       "230                               Senkaku Islands  XN   \n",
       "231                               Bassas Da India  XO   \n",
       "232                                         Abyei  XU   \n",
       "233                Bir Tawil (Disputed Territory)  XV   \n",
       "246                                       Vanuatu  VU   \n",
       "247                             Wallis and Futuna  WF   \n",
       "249                                         Samoa  WS   \n",
       "250                               Paracel Islands  XA   \n",
       "251                               Spratly Islands  XB   \n",
       "252                                    Aksai Chin  XC   \n",
       "253                             Arunachal Pradesh  XD   \n",
       "254                                   China/India  XE   \n",
       "255                              Hala'Ib Triangle  XF   \n",
       "256                                Ilemi Triangle  XG   \n",
       "\n",
       "                                              geometry  \n",
       "9    MULTIPOLYGON (((-170.67082 -14.23838, -170.589...  \n",
       "15   MULTIPOLYGON (((-159.72146 -21.24608, -159.754...  \n",
       "16   MULTIPOLYGON (((-57.34206 -63.23948, -57.09707...  \n",
       "20   POLYGON ((-62.85933 17.89355, -62.79877 17.928...  \n",
       "26   POLYGON ((3.29560 -54.41711, 3.30409 -54.39881...  \n",
       "41   MULTIPOLYGON (((96.84800 -11.81060, 96.83228 -...  \n",
       "54   POLYGON ((-109.25142 10.31413, -109.23663 10.3...  \n",
       "59   POLYGON ((105.55213 -10.49521, 105.55928 -10.4...  \n",
       "66   MULTIPOLYGON (((158.21659 6.98726, 158.31908 6...  \n",
       "83   MULTIPOLYGON (((114.03762 22.50370, 114.16130 ...  \n",
       "84   MULTIPOLYGON (((73.53062 -53.20407, 73.46738 -...  \n",
       "95   MULTIPOLYGON (((-37.38482 -54.01199, -37.45585...  \n",
       "100  MULTIPOLYGON (((-157.34525 1.90518, -157.33943...  \n",
       "103  MULTIPOLYGON (((130.63393 42.41417, 130.67486 ...  \n",
       "107  POLYGON ((166.90251 -0.53360, 166.93495 -0.495...  \n",
       "108  POLYGON ((-169.95159 -19.07451, -169.92152 -19...  \n",
       "113  POLYGON ((-62.24175 16.72228, -62.20328 16.826...  \n",
       "120  POLYGON ((72.33781 -7.26068, 72.37376 -7.24287...  \n",
       "145  POLYGON ((113.53219 22.20792, 113.55089 22.214...  \n",
       "151  MULTIPOLYGON (((169.65482 6.04704, 169.60448 6...  \n",
       "161  POLYGON ((167.91575 -29.03288, 167.94211 -29.0...  \n",
       "172  MULTIPOLYGON (((134.58547 7.37633, 134.56705 7...  \n",
       "179  MULTIPOLYGON (((-56.26968 46.99904, -56.33484 ...  \n",
       "180  POLYGON ((-128.35759 -24.36836, -128.34076 -24...  \n",
       "186  POLYGON ((-172.50288 -8.58278, -172.49741 -8.5...  \n",
       "191  MULTIPOLYGON (((69.00860 -48.79300, 69.01727 -...  \n",
       "202  MULTIPOLYGON (((159.70100 -9.25415, 159.92165 ...  \n",
       "206  MULTIPOLYGON (((-5.63602 -15.95065, -5.67574 -...  \n",
       "213  MULTIPOLYGON (((177.38350 -6.11979, 177.32598 ...  \n",
       "216  MULTIPOLYGON (((66.55373 37.35475, 66.42328 37...  \n",
       "218  MULTIPOLYGON (((-175.35332 -21.11423, -175.290...  \n",
       "221  MULTIPOLYGON (((16.46837 80.03504, 16.79681 79...  \n",
       "225  MULTIPOLYGON (((-162.35335 6.36055, -162.40750...  \n",
       "226  POLYGON ((77.92435 35.49361, 78.12374 35.48909...  \n",
       "227  MULTIPOLYGON (((148.84110 45.33681, 148.77625 ...  \n",
       "228  POLYGON ((-75.04168 18.40671, -74.99451 18.429...  \n",
       "229  MULTIPOLYGON (((117.75279 15.19655, 117.70969 ...  \n",
       "230  MULTIPOLYGON (((123.70981 25.90493, 123.67715 ...  \n",
       "231  MULTIPOLYGON (((42.77579 -17.06284, 42.71735 -...  \n",
       "232  POLYGON ((28.97701 9.64116, 28.89532 9.56921, ...  \n",
       "233  POLYGON ((33.18263 22.00166, 33.67922 22.00213...  \n",
       "246  MULTIPOLYGON (((166.82317 -15.13636, 166.87116...  \n",
       "247  MULTIPOLYGON (((-176.19246 -13.22250, -176.158...  \n",
       "249  MULTIPOLYGON (((-172.30612 -13.45987, -172.210...  \n",
       "250  MULTIPOLYGON (((112.76763 16.64926, 112.75321 ...  \n",
       "251  POLYGON ((114.25703 11.04299, 114.26826 11.076...  \n",
       "252  POLYGON ((78.94793 33.37869, 78.83903 33.43723...  \n",
       "253  POLYGON ((97.34711 28.20807, 97.31516 28.07765...  \n",
       "254  MULTIPOLYGON (((79.25368 32.52334, 79.29862 32...  \n",
       "255  POLYGON ((36.88250 22.00513, 34.08653 22.00251...  \n",
       "256  POLYGON ((35.50877 4.62000, 34.37846 4.62000, ...  "
      ]
     },
     "execution_count": 152,
     "metadata": {},
     "output_type": "execute_result"
    }
   ],
   "source": [
    "#paesi che non sono presenti nel dataset covid cases\n",
    "countries.loc[~countries['ISO3_CODE'].isin(df_covid_cases_grp['countryterritoryCode']) ]"
   ]
  },
  {
   "cell_type": "code",
   "execution_count": 153,
   "metadata": {},
   "outputs": [
    {
     "data": {
      "text/html": [
       "<div>\n",
       "<style scoped>\n",
       "    .dataframe tbody tr th:only-of-type {\n",
       "        vertical-align: middle;\n",
       "    }\n",
       "\n",
       "    .dataframe tbody tr th {\n",
       "        vertical-align: top;\n",
       "    }\n",
       "\n",
       "    .dataframe thead th {\n",
       "        text-align: right;\n",
       "    }\n",
       "</style>\n",
       "<table border=\"1\" class=\"dataframe\">\n",
       "  <thead>\n",
       "    <tr style=\"text-align: right;\">\n",
       "      <th></th>\n",
       "      <th>countryterritoryCode</th>\n",
       "      <th>TotalCases</th>\n",
       "      <th>countryName</th>\n",
       "      <th>popData2019</th>\n",
       "    </tr>\n",
       "  </thead>\n",
       "  <tbody>\n",
       "    <tr>\n",
       "      <th>39</th>\n",
       "      <td>CNG1925</td>\n",
       "      <td>467</td>\n",
       "      <td>Taiwan</td>\n",
       "      <td>23773881.0</td>\n",
       "    </tr>\n",
       "    <tr>\n",
       "      <th>135</th>\n",
       "      <td>MSF</td>\n",
       "      <td>13</td>\n",
       "      <td>Montserrat</td>\n",
       "      <td>4991.0</td>\n",
       "    </tr>\n",
       "    <tr>\n",
       "      <th>204</th>\n",
       "      <td>XKX</td>\n",
       "      <td>8104</td>\n",
       "      <td>Kosovo</td>\n",
       "      <td>1798506.0</td>\n",
       "    </tr>\n",
       "  </tbody>\n",
       "</table>\n",
       "</div>"
      ],
      "text/plain": [
       "    countryterritoryCode  TotalCases countryName  popData2019\n",
       "39               CNG1925         467      Taiwan   23773881.0\n",
       "135                  MSF          13  Montserrat       4991.0\n",
       "204                  XKX        8104      Kosovo    1798506.0"
      ]
     },
     "execution_count": 153,
     "metadata": {},
     "output_type": "execute_result"
    }
   ],
   "source": [
    "#paesi che non sono preenti nel dataset geo layer\n",
    "df_covid_cases_grp.loc[~df_covid_cases_grp['countryterritoryCode'].isin(countries['ISO3_CODE'])]"
   ]
  },
  {
   "cell_type": "code",
   "execution_count": 154,
   "metadata": {},
   "outputs": [
    {
     "data": {
      "text/html": [
       "<div>\n",
       "<style scoped>\n",
       "    .dataframe tbody tr th:only-of-type {\n",
       "        vertical-align: middle;\n",
       "    }\n",
       "\n",
       "    .dataframe tbody tr th {\n",
       "        vertical-align: top;\n",
       "    }\n",
       "\n",
       "    .dataframe thead th {\n",
       "        text-align: right;\n",
       "    }\n",
       "</style>\n",
       "<table border=\"1\" class=\"dataframe\">\n",
       "  <thead>\n",
       "    <tr style=\"text-align: right;\">\n",
       "      <th></th>\n",
       "      <th>id</th>\n",
       "      <th>CNTR_NAME</th>\n",
       "      <th>ISO3_CODE</th>\n",
       "      <th>CNTR_ID</th>\n",
       "      <th>NAME_ENGL</th>\n",
       "      <th>FID</th>\n",
       "      <th>geometry</th>\n",
       "    </tr>\n",
       "  </thead>\n",
       "  <tbody>\n",
       "    <tr>\n",
       "      <th>113</th>\n",
       "      <td>MS</td>\n",
       "      <td>Montserrat</td>\n",
       "      <td>MSR</td>\n",
       "      <td>MS</td>\n",
       "      <td>Montserrat</td>\n",
       "      <td>MS</td>\n",
       "      <td>POLYGON ((-62.24175 16.72228, -62.20328 16.826...</td>\n",
       "    </tr>\n",
       "  </tbody>\n",
       "</table>\n",
       "</div>"
      ],
      "text/plain": [
       "     id   CNTR_NAME ISO3_CODE CNTR_ID   NAME_ENGL FID  \\\n",
       "113  MS  Montserrat       MSR      MS  Montserrat  MS   \n",
       "\n",
       "                                              geometry  \n",
       "113  POLYGON ((-62.24175 16.72228, -62.20328 16.826...  "
      ]
     },
     "execution_count": 154,
     "metadata": {},
     "output_type": "execute_result"
    }
   ],
   "source": [
    "#ricerca Taiwan, Kosovo, Montserrat\n",
    "countries.loc[(countries['CNTR_NAME'].str.contains('Taiwan'))|(countries['CNTR_NAME'].str.contains('Kosovo'))|(countries['CNTR_NAME'].str.contains('Montserrat'))]"
   ]
  },
  {
   "cell_type": "code",
   "execution_count": 155,
   "metadata": {},
   "outputs": [],
   "source": [
    "#fix errore Montserrat MSF->MSR\n",
    "df_covid_cases_grp.loc[(df_covid_cases_grp['countryterritoryCode']=='MSF'),['countryterritoryCode']]='MSR'\n",
    "\n"
   ]
  },
  {
   "cell_type": "code",
   "execution_count": 157,
   "metadata": {},
   "outputs": [
    {
     "data": {
      "application/vnd.plotly.v1+json": {
       "config": {
        "plotlyServerURL": "https://plotly.com"
       },
       "data": [
        {
         "coloraxis": "coloraxis",
         "geo": "geo",
         "hoverlabel": {
          "namelength": 0
         },
         "hovertemplate": "<b>%{hovertext}</b><br><br>countryterritoryCode=%{location}<br>Totale casi Covid per nazione=%{z}",
         "hovertext": [
          "Aruba",
          "Afghanistan",
          "Angola",
          "Anguilla",
          "Albania",
          "Andorra",
          "United_Arab_Emirates",
          "Argentina",
          "Armenia",
          "Antigua_and_Barbuda",
          "Australia",
          "Austria",
          "Azerbaijan",
          "Burundi",
          "Belgium",
          "Benin",
          "Bonaire, Saint Eustatius and Saba",
          "Burkina_Faso",
          "Bangladesh",
          "Bulgaria",
          "Bahrain",
          "Bahamas",
          "Bosnia_and_Herzegovina",
          "Belarus",
          "Belize",
          "Bermuda",
          "Bolivia",
          "Brazil",
          "Barbados",
          "Brunei_Darussalam",
          "Bhutan",
          "Botswana",
          "Central_African_Republic",
          "Canada",
          "Switzerland",
          "Chile",
          "China",
          "Cote_dIvoire",
          "Cameroon",
          "Taiwan",
          "Democratic_Republic_of_the_Congo",
          "Congo",
          "Colombia",
          "Comoros",
          "Cape_Verde",
          "Costa_Rica",
          "Cuba",
          "Curaçao",
          "Cayman_Islands",
          "Cyprus",
          "Czechia",
          "Germany",
          "Djibouti",
          "Dominica",
          "Denmark",
          "Dominican_Republic",
          "Algeria",
          "Ecuador",
          "Egypt",
          "Eritrea",
          "Western_Sahara",
          "Spain",
          "Estonia",
          "Ethiopia",
          "Finland",
          "Fiji",
          "Falkland_Islands_(Malvinas)",
          "France",
          "Faroe_Islands",
          "Gabon",
          "United_Kingdom",
          "Georgia",
          "Guernsey",
          "Ghana",
          "Gibraltar",
          "Guinea",
          "Gambia",
          "Guinea_Bissau",
          "Equatorial_Guinea",
          "Greece",
          "Grenada",
          "Greenland",
          "Guatemala",
          "Guam",
          "Guyana",
          "Honduras",
          "Croatia",
          "Haiti",
          "Hungary",
          "Indonesia",
          "Isle_of_Man",
          "India",
          "Ireland",
          "Iran",
          "Iraq",
          "Iceland",
          "Israel",
          "Italy",
          "Jamaica",
          "Jersey",
          "Jordan",
          "Japan",
          "Kazakhstan",
          "Kenya",
          "Kyrgyzstan",
          "Cambodia",
          "Saint_Kitts_and_Nevis",
          "South_Korea",
          "Kuwait",
          "Laos",
          "Lebanon",
          "Liberia",
          "Libya",
          "Saint_Lucia",
          "Liechtenstein",
          "Sri_Lanka",
          "Lesotho",
          "Lithuania",
          "Luxembourg",
          "Latvia",
          "Morocco",
          "Monaco",
          "Moldova",
          "Madagascar",
          "Maldives",
          "Mexico",
          "North_Macedonia",
          "Mali",
          "Malta",
          "Myanmar",
          "Montenegro",
          "Mongolia",
          "Northern_Mariana_Islands",
          "Mozambique",
          "Mauritania",
          "Montserrat",
          "Mauritius",
          "Malawi",
          "Malaysia",
          "Namibia",
          "New_Caledonia",
          "Niger",
          "Nigeria",
          "Nicaragua",
          "Netherlands",
          "Norway",
          "Nepal",
          "New_Zealand",
          "Oman",
          "Pakistan",
          "Panama",
          "Peru",
          "Philippines",
          "Papua_New_Guinea",
          "Poland",
          "Puerto_Rico",
          "Portugal",
          "Paraguay",
          "Palestine",
          "French_Polynesia",
          "Qatar",
          "Romania",
          "Russia",
          "Rwanda",
          "Saudi_Arabia",
          "Sudan",
          "Senegal",
          "Singapore",
          "Sierra_Leone",
          "El_Salvador",
          "San_Marino",
          "Somalia",
          "Serbia",
          "South_Sudan",
          "Sao_Tome_and_Principe",
          "Suriname",
          "Slovakia",
          "Slovenia",
          "Sweden",
          "Eswatini",
          "Sint_Maarten",
          "Seychelles",
          "Syria",
          "Turks_and_Caicos_islands",
          "Chad",
          "Togo",
          "Thailand",
          "Tajikistan",
          "Timor_Leste",
          "Trinidad_and_Tobago",
          "Tunisia",
          "Turkey",
          "United_Republic_of_Tanzania",
          "Uganda",
          "Ukraine",
          "Uruguay",
          "United_States_of_America",
          "Uzbekistan",
          "Holy_See",
          "Saint_Vincent_and_the_Grenadines",
          "Venezuela",
          "British_Virgin_Islands",
          "United_States_Virgin_Islands",
          "Vietnam",
          "Kosovo",
          "Yemen",
          "South_Africa",
          "Zambia",
          "Zimbabwe"
         ],
         "locations": [
          "ABW",
          "AFG",
          "AGO",
          "AIA",
          "ALB",
          "AND",
          "ARE",
          "ARG",
          "ARM",
          "ATG",
          "AUS",
          "AUT",
          "AZE",
          "BDI",
          "BEL",
          "BEN",
          "BES",
          "BFA",
          "BGD",
          "BGR",
          "BHR",
          "BHS",
          "BIH",
          "BLR",
          "BLZ",
          "BMU",
          "BOL",
          "BRA",
          "BRB",
          "BRN",
          "BTN",
          "BWA",
          "CAF",
          "CAN",
          "CHE",
          "CHL",
          "CHN",
          "CIV",
          "CMR",
          "CNG1925",
          "COD",
          "COG",
          "COL",
          "COM",
          "CPV",
          "CRI",
          "CUB",
          "CUW",
          "CYM",
          "CYP",
          "CZE",
          "DEU",
          "DJI",
          "DMA",
          "DNK",
          "DOM",
          "DZA",
          "ECU",
          "EGY",
          "ERI",
          "ESH",
          "ESP",
          "EST",
          "ETH",
          "FIN",
          "FJI",
          "FLK",
          "FRA",
          "FRO",
          "GAB",
          "GBR",
          "GEO",
          "GGY",
          "GHA",
          "GIB",
          "GIN",
          "GMB",
          "GNB",
          "GNQ",
          "GRC",
          "GRD",
          "GRL",
          "GTM",
          "GUM",
          "GUY",
          "HND",
          "HRV",
          "HTI",
          "HUN",
          "IDN",
          "IMN",
          "IND",
          "IRL",
          "IRN",
          "IRQ",
          "ISL",
          "ISR",
          "ITA",
          "JAM",
          "JEY",
          "JOR",
          "JPN",
          "KAZ",
          "KEN",
          "KGZ",
          "KHM",
          "KNA",
          "KOR",
          "KWT",
          "LAO",
          "LBN",
          "LBR",
          "LBY",
          "LCA",
          "LIE",
          "LKA",
          "LSO",
          "LTU",
          "LUX",
          "LVA",
          "MAR",
          "MCO",
          "MDA",
          "MDG",
          "MDV",
          "MEX",
          "MKD",
          "MLI",
          "MLT",
          "MMR",
          "MNE",
          "MNG",
          "MNP",
          "MOZ",
          "MRT",
          "MSR",
          "MUS",
          "MWI",
          "MYS",
          "NAM",
          "NCL",
          "NER",
          "NGA",
          "NIC",
          "NLD",
          "NOR",
          "NPL",
          "NZL",
          "OMN",
          "PAK",
          "PAN",
          "PER",
          "PHL",
          "PNG",
          "POL",
          "PRI",
          "PRT",
          "PRY",
          "PSE",
          "PYF",
          "QAT",
          "ROU",
          "RUS",
          "RWA",
          "SAU",
          "SDN",
          "SEN",
          "SGP",
          "SLE",
          "SLV",
          "SMR",
          "SOM",
          "SRB",
          "SSD",
          "STP",
          "SUR",
          "SVK",
          "SVN",
          "SWE",
          "SWZ",
          "SXM",
          "SYC",
          "SYR",
          "TCA",
          "TCD",
          "TGO",
          "THA",
          "TJK",
          "TLS",
          "TTO",
          "TUN",
          "TUR",
          "TZA",
          "UGA",
          "UKR",
          "URY",
          "USA",
          "UZB",
          "VAT",
          "VCT",
          "VEN",
          "VGB",
          "VIR",
          "VNM",
          "XKX",
          "YEM",
          "ZAF",
          "ZMB",
          "ZWE"
         ],
         "name": "",
         "type": "choropleth",
         "z": [
          121,
          36710,
          1109,
          3,
          5276,
          925,
          60506,
          185360,
          38841,
          91,
          16905,
          21098,
          31878,
          387,
          68658,
          1805,
          11,
          1143,
          237661,
          11690,
          40982,
          574,
          11444,
          67808,
          48,
          156,
          76789,
          2662485,
          110,
          141,
          101,
          804,
          4608,
          116298,
          35070,
          355667,
          87655,
          16047,
          17255,
          467,
          9070,
          3376,
          295508,
          382,
          2451,
          17820,
          2608,
          29,
          203,
          1114,
          16574,
          209653,
          5081,
          18,
          13789,
          69649,
          30394,
          85355,
          94078,
          279,
          766,
          288522,
          2064,
          17530,
          7432,
          27,
          13,
          187919,
          225,
          7352,
          303181,
          1168,
          252,
          35501,
          187,
          7308,
          498,
          1981,
          3071,
          4477,
          24,
          14,
          49789,
          359,
          413,
          42402,
          5138,
          7424,
          4505,
          108376,
          336,
          1695988,
          26065,
          304204,
          124609,
          1885,
          70970,
          247537,
          864,
          335,
          1193,
          34372,
          90367,
          20636,
          36299,
          239,
          17,
          14336,
          66957,
          20,
          4555,
          1186,
          3222,
          25,
          89,
          2815,
          604,
          2075,
          6695,
          1231,
          24322,
          120,
          24733,
          10868,
          3793,
          424637,
          10762,
          2535,
          824,
          353,
          3112,
          291,
          42,
          1864,
          6295,
          13,
          344,
          4078,
          8976,
          2129,
          22,
          1134,
          43151,
          3672,
          54301,
          9208,
          19771,
          1212,
          79159,
          278305,
          65256,
          414735,
          93354,
          72,
          45688,
          16781,
          51072,
          5338,
          15232,
          62,
          110695,
          50886,
          839981,
          2022,
          275905,
          11644,
          10232,
          52205,
          1818,
          16632,
          716,
          3212,
          25552,
          2322,
          871,
          1706,
          2292,
          2165,
          80422,
          2648,
          128,
          114,
          738,
          107,
          936,
          941,
          3312,
          7409,
          24,
          169,
          1535,
          230873,
          509,
          1154,
          69884,
          1264,
          4562037,
          24304,
          12,
          54,
          18574,
          8,
          406,
          558,
          8104,
          1728,
          493183,
          5963,
          3169
         ]
        }
       ],
       "layout": {
        "autosize": true,
        "coloraxis": {
         "colorbar": {
          "title": {
           "text": "Totale casi Covid per nazione"
          }
         },
         "colorscale": [
          [
           0,
           "#0d0887"
          ],
          [
           0.1111111111111111,
           "#46039f"
          ],
          [
           0.2222222222222222,
           "#7201a8"
          ],
          [
           0.3333333333333333,
           "#9c179e"
          ],
          [
           0.4444444444444444,
           "#bd3786"
          ],
          [
           0.5555555555555556,
           "#d8576b"
          ],
          [
           0.6666666666666666,
           "#ed7953"
          ],
          [
           0.7777777777777778,
           "#fb9f3a"
          ],
          [
           0.8888888888888888,
           "#fdca26"
          ],
          [
           1,
           "#f0f921"
          ]
         ]
        },
        "geo": {
         "center": {},
         "domain": {
          "x": [
           0,
           1
          ],
          "y": [
           0,
           1
          ]
         }
        },
        "legend": {
         "tracegroupgap": 0
        },
        "margin": {
         "b": 0,
         "l": 0,
         "r": 0,
         "t": 0
        },
        "template": {
         "data": {
          "bar": [
           {
            "error_x": {
             "color": "#2a3f5f"
            },
            "error_y": {
             "color": "#2a3f5f"
            },
            "marker": {
             "line": {
              "color": "#E5ECF6",
              "width": 0.5
             }
            },
            "type": "bar"
           }
          ],
          "barpolar": [
           {
            "marker": {
             "line": {
              "color": "#E5ECF6",
              "width": 0.5
             }
            },
            "type": "barpolar"
           }
          ],
          "carpet": [
           {
            "aaxis": {
             "endlinecolor": "#2a3f5f",
             "gridcolor": "white",
             "linecolor": "white",
             "minorgridcolor": "white",
             "startlinecolor": "#2a3f5f"
            },
            "baxis": {
             "endlinecolor": "#2a3f5f",
             "gridcolor": "white",
             "linecolor": "white",
             "minorgridcolor": "white",
             "startlinecolor": "#2a3f5f"
            },
            "type": "carpet"
           }
          ],
          "choropleth": [
           {
            "colorbar": {
             "outlinewidth": 0,
             "ticks": ""
            },
            "type": "choropleth"
           }
          ],
          "contour": [
           {
            "colorbar": {
             "outlinewidth": 0,
             "ticks": ""
            },
            "colorscale": [
             [
              0,
              "#0d0887"
             ],
             [
              0.1111111111111111,
              "#46039f"
             ],
             [
              0.2222222222222222,
              "#7201a8"
             ],
             [
              0.3333333333333333,
              "#9c179e"
             ],
             [
              0.4444444444444444,
              "#bd3786"
             ],
             [
              0.5555555555555556,
              "#d8576b"
             ],
             [
              0.6666666666666666,
              "#ed7953"
             ],
             [
              0.7777777777777778,
              "#fb9f3a"
             ],
             [
              0.8888888888888888,
              "#fdca26"
             ],
             [
              1,
              "#f0f921"
             ]
            ],
            "type": "contour"
           }
          ],
          "contourcarpet": [
           {
            "colorbar": {
             "outlinewidth": 0,
             "ticks": ""
            },
            "type": "contourcarpet"
           }
          ],
          "heatmap": [
           {
            "colorbar": {
             "outlinewidth": 0,
             "ticks": ""
            },
            "colorscale": [
             [
              0,
              "#0d0887"
             ],
             [
              0.1111111111111111,
              "#46039f"
             ],
             [
              0.2222222222222222,
              "#7201a8"
             ],
             [
              0.3333333333333333,
              "#9c179e"
             ],
             [
              0.4444444444444444,
              "#bd3786"
             ],
             [
              0.5555555555555556,
              "#d8576b"
             ],
             [
              0.6666666666666666,
              "#ed7953"
             ],
             [
              0.7777777777777778,
              "#fb9f3a"
             ],
             [
              0.8888888888888888,
              "#fdca26"
             ],
             [
              1,
              "#f0f921"
             ]
            ],
            "type": "heatmap"
           }
          ],
          "heatmapgl": [
           {
            "colorbar": {
             "outlinewidth": 0,
             "ticks": ""
            },
            "colorscale": [
             [
              0,
              "#0d0887"
             ],
             [
              0.1111111111111111,
              "#46039f"
             ],
             [
              0.2222222222222222,
              "#7201a8"
             ],
             [
              0.3333333333333333,
              "#9c179e"
             ],
             [
              0.4444444444444444,
              "#bd3786"
             ],
             [
              0.5555555555555556,
              "#d8576b"
             ],
             [
              0.6666666666666666,
              "#ed7953"
             ],
             [
              0.7777777777777778,
              "#fb9f3a"
             ],
             [
              0.8888888888888888,
              "#fdca26"
             ],
             [
              1,
              "#f0f921"
             ]
            ],
            "type": "heatmapgl"
           }
          ],
          "histogram": [
           {
            "marker": {
             "colorbar": {
              "outlinewidth": 0,
              "ticks": ""
             }
            },
            "type": "histogram"
           }
          ],
          "histogram2d": [
           {
            "colorbar": {
             "outlinewidth": 0,
             "ticks": ""
            },
            "colorscale": [
             [
              0,
              "#0d0887"
             ],
             [
              0.1111111111111111,
              "#46039f"
             ],
             [
              0.2222222222222222,
              "#7201a8"
             ],
             [
              0.3333333333333333,
              "#9c179e"
             ],
             [
              0.4444444444444444,
              "#bd3786"
             ],
             [
              0.5555555555555556,
              "#d8576b"
             ],
             [
              0.6666666666666666,
              "#ed7953"
             ],
             [
              0.7777777777777778,
              "#fb9f3a"
             ],
             [
              0.8888888888888888,
              "#fdca26"
             ],
             [
              1,
              "#f0f921"
             ]
            ],
            "type": "histogram2d"
           }
          ],
          "histogram2dcontour": [
           {
            "colorbar": {
             "outlinewidth": 0,
             "ticks": ""
            },
            "colorscale": [
             [
              0,
              "#0d0887"
             ],
             [
              0.1111111111111111,
              "#46039f"
             ],
             [
              0.2222222222222222,
              "#7201a8"
             ],
             [
              0.3333333333333333,
              "#9c179e"
             ],
             [
              0.4444444444444444,
              "#bd3786"
             ],
             [
              0.5555555555555556,
              "#d8576b"
             ],
             [
              0.6666666666666666,
              "#ed7953"
             ],
             [
              0.7777777777777778,
              "#fb9f3a"
             ],
             [
              0.8888888888888888,
              "#fdca26"
             ],
             [
              1,
              "#f0f921"
             ]
            ],
            "type": "histogram2dcontour"
           }
          ],
          "mesh3d": [
           {
            "colorbar": {
             "outlinewidth": 0,
             "ticks": ""
            },
            "type": "mesh3d"
           }
          ],
          "parcoords": [
           {
            "line": {
             "colorbar": {
              "outlinewidth": 0,
              "ticks": ""
             }
            },
            "type": "parcoords"
           }
          ],
          "pie": [
           {
            "automargin": true,
            "type": "pie"
           }
          ],
          "scatter": [
           {
            "marker": {
             "colorbar": {
              "outlinewidth": 0,
              "ticks": ""
             }
            },
            "type": "scatter"
           }
          ],
          "scatter3d": [
           {
            "line": {
             "colorbar": {
              "outlinewidth": 0,
              "ticks": ""
             }
            },
            "marker": {
             "colorbar": {
              "outlinewidth": 0,
              "ticks": ""
             }
            },
            "type": "scatter3d"
           }
          ],
          "scattercarpet": [
           {
            "marker": {
             "colorbar": {
              "outlinewidth": 0,
              "ticks": ""
             }
            },
            "type": "scattercarpet"
           }
          ],
          "scattergeo": [
           {
            "marker": {
             "colorbar": {
              "outlinewidth": 0,
              "ticks": ""
             }
            },
            "type": "scattergeo"
           }
          ],
          "scattergl": [
           {
            "marker": {
             "colorbar": {
              "outlinewidth": 0,
              "ticks": ""
             }
            },
            "type": "scattergl"
           }
          ],
          "scattermapbox": [
           {
            "marker": {
             "colorbar": {
              "outlinewidth": 0,
              "ticks": ""
             }
            },
            "type": "scattermapbox"
           }
          ],
          "scatterpolar": [
           {
            "marker": {
             "colorbar": {
              "outlinewidth": 0,
              "ticks": ""
             }
            },
            "type": "scatterpolar"
           }
          ],
          "scatterpolargl": [
           {
            "marker": {
             "colorbar": {
              "outlinewidth": 0,
              "ticks": ""
             }
            },
            "type": "scatterpolargl"
           }
          ],
          "scatterternary": [
           {
            "marker": {
             "colorbar": {
              "outlinewidth": 0,
              "ticks": ""
             }
            },
            "type": "scatterternary"
           }
          ],
          "surface": [
           {
            "colorbar": {
             "outlinewidth": 0,
             "ticks": ""
            },
            "colorscale": [
             [
              0,
              "#0d0887"
             ],
             [
              0.1111111111111111,
              "#46039f"
             ],
             [
              0.2222222222222222,
              "#7201a8"
             ],
             [
              0.3333333333333333,
              "#9c179e"
             ],
             [
              0.4444444444444444,
              "#bd3786"
             ],
             [
              0.5555555555555556,
              "#d8576b"
             ],
             [
              0.6666666666666666,
              "#ed7953"
             ],
             [
              0.7777777777777778,
              "#fb9f3a"
             ],
             [
              0.8888888888888888,
              "#fdca26"
             ],
             [
              1,
              "#f0f921"
             ]
            ],
            "type": "surface"
           }
          ],
          "table": [
           {
            "cells": {
             "fill": {
              "color": "#EBF0F8"
             },
             "line": {
              "color": "white"
             }
            },
            "header": {
             "fill": {
              "color": "#C8D4E3"
             },
             "line": {
              "color": "white"
             }
            },
            "type": "table"
           }
          ]
         },
         "layout": {
          "annotationdefaults": {
           "arrowcolor": "#2a3f5f",
           "arrowhead": 0,
           "arrowwidth": 1
          },
          "coloraxis": {
           "colorbar": {
            "outlinewidth": 0,
            "ticks": ""
           }
          },
          "colorscale": {
           "diverging": [
            [
             0,
             "#8e0152"
            ],
            [
             0.1,
             "#c51b7d"
            ],
            [
             0.2,
             "#de77ae"
            ],
            [
             0.3,
             "#f1b6da"
            ],
            [
             0.4,
             "#fde0ef"
            ],
            [
             0.5,
             "#f7f7f7"
            ],
            [
             0.6,
             "#e6f5d0"
            ],
            [
             0.7,
             "#b8e186"
            ],
            [
             0.8,
             "#7fbc41"
            ],
            [
             0.9,
             "#4d9221"
            ],
            [
             1,
             "#276419"
            ]
           ],
           "sequential": [
            [
             0,
             "#0d0887"
            ],
            [
             0.1111111111111111,
             "#46039f"
            ],
            [
             0.2222222222222222,
             "#7201a8"
            ],
            [
             0.3333333333333333,
             "#9c179e"
            ],
            [
             0.4444444444444444,
             "#bd3786"
            ],
            [
             0.5555555555555556,
             "#d8576b"
            ],
            [
             0.6666666666666666,
             "#ed7953"
            ],
            [
             0.7777777777777778,
             "#fb9f3a"
            ],
            [
             0.8888888888888888,
             "#fdca26"
            ],
            [
             1,
             "#f0f921"
            ]
           ],
           "sequentialminus": [
            [
             0,
             "#0d0887"
            ],
            [
             0.1111111111111111,
             "#46039f"
            ],
            [
             0.2222222222222222,
             "#7201a8"
            ],
            [
             0.3333333333333333,
             "#9c179e"
            ],
            [
             0.4444444444444444,
             "#bd3786"
            ],
            [
             0.5555555555555556,
             "#d8576b"
            ],
            [
             0.6666666666666666,
             "#ed7953"
            ],
            [
             0.7777777777777778,
             "#fb9f3a"
            ],
            [
             0.8888888888888888,
             "#fdca26"
            ],
            [
             1,
             "#f0f921"
            ]
           ]
          },
          "colorway": [
           "#636efa",
           "#EF553B",
           "#00cc96",
           "#ab63fa",
           "#FFA15A",
           "#19d3f3",
           "#FF6692",
           "#B6E880",
           "#FF97FF",
           "#FECB52"
          ],
          "font": {
           "color": "#2a3f5f"
          },
          "geo": {
           "bgcolor": "white",
           "lakecolor": "white",
           "landcolor": "#E5ECF6",
           "showlakes": true,
           "showland": true,
           "subunitcolor": "white"
          },
          "hoverlabel": {
           "align": "left"
          },
          "hovermode": "closest",
          "mapbox": {
           "style": "light"
          },
          "paper_bgcolor": "white",
          "plot_bgcolor": "#E5ECF6",
          "polar": {
           "angularaxis": {
            "gridcolor": "white",
            "linecolor": "white",
            "ticks": ""
           },
           "bgcolor": "#E5ECF6",
           "radialaxis": {
            "gridcolor": "white",
            "linecolor": "white",
            "ticks": ""
           }
          },
          "scene": {
           "xaxis": {
            "backgroundcolor": "#E5ECF6",
            "gridcolor": "white",
            "gridwidth": 2,
            "linecolor": "white",
            "showbackground": true,
            "ticks": "",
            "zerolinecolor": "white"
           },
           "yaxis": {
            "backgroundcolor": "#E5ECF6",
            "gridcolor": "white",
            "gridwidth": 2,
            "linecolor": "white",
            "showbackground": true,
            "ticks": "",
            "zerolinecolor": "white"
           },
           "zaxis": {
            "backgroundcolor": "#E5ECF6",
            "gridcolor": "white",
            "gridwidth": 2,
            "linecolor": "white",
            "showbackground": true,
            "ticks": "",
            "zerolinecolor": "white"
           }
          },
          "shapedefaults": {
           "line": {
            "color": "#2a3f5f"
           }
          },
          "ternary": {
           "aaxis": {
            "gridcolor": "white",
            "linecolor": "white",
            "ticks": ""
           },
           "baxis": {
            "gridcolor": "white",
            "linecolor": "white",
            "ticks": ""
           },
           "bgcolor": "#E5ECF6",
           "caxis": {
            "gridcolor": "white",
            "linecolor": "white",
            "ticks": ""
           }
          },
          "title": {
           "x": 0.05
          },
          "xaxis": {
           "automargin": true,
           "gridcolor": "white",
           "linecolor": "white",
           "ticks": "",
           "title": {
            "standoff": 15
           },
           "zerolinecolor": "white",
           "zerolinewidth": 2
          },
          "yaxis": {
           "automargin": true,
           "gridcolor": "white",
           "linecolor": "white",
           "ticks": "",
           "title": {
            "standoff": 15
           },
           "zerolinecolor": "white",
           "zerolinewidth": 2
          }
         }
        }
       }
      },
      "image/png": "[encoded data removed]",
      "text/html": [
       "<div>\n",
       "        \n",
       "        \n",
       "            <div id=\"60888322-f136-47f8-8d9a-e3c97c961840\" class=\"plotly-graph-div\" style=\"height:525px; width:100%;\"></div>\n",
       "            <script type=\"text/javascript\">\n",
       "                require([\"plotly\"], function(Plotly) {\n",
       "                    window.PLOTLYENV=window.PLOTLYENV || {};\n",
       "                    \n",
       "                if (document.getElementById(\"60888322-f136-47f8-8d9a-e3c97c961840\")) {\n",
       "                    Plotly.newPlot(\n",
       "                        '60888322-f136-47f8-8d9a-e3c97c961840',\n",
       "                        [{\"coloraxis\": \"coloraxis\", \"geo\": \"geo\", \"hoverlabel\": {\"namelength\": 0}, \"hovertemplate\": \"<b>%{hovertext}</b><br><br>countryterritoryCode=%{location}<br>Totale casi Covid per nazione=%{z}\", \"hovertext\": [\"Aruba\", \"Afghanistan\", \"Angola\", \"Anguilla\", \"Albania\", \"Andorra\", \"United_Arab_Emirates\", \"Argentina\", \"Armenia\", \"Antigua_and_Barbuda\", \"Australia\", \"Austria\", \"Azerbaijan\", \"Burundi\", \"Belgium\", \"Benin\", \"Bonaire, Saint Eustatius and Saba\", \"Burkina_Faso\", \"Bangladesh\", \"Bulgaria\", \"Bahrain\", \"Bahamas\", \"Bosnia_and_Herzegovina\", \"Belarus\", \"Belize\", \"Bermuda\", \"Bolivia\", \"Brazil\", \"Barbados\", \"Brunei_Darussalam\", \"Bhutan\", \"Botswana\", \"Central_African_Republic\", \"Canada\", \"Switzerland\", \"Chile\", \"China\", \"Cote_dIvoire\", \"Cameroon\", \"Taiwan\", \"Democratic_Republic_of_the_Congo\", \"Congo\", \"Colombia\", \"Comoros\", \"Cape_Verde\", \"Costa_Rica\", \"Cuba\", \"Cura\\u00e7ao\", \"Cayman_Islands\", \"Cyprus\", \"Czechia\", \"Germany\", \"Djibouti\", \"Dominica\", \"Denmark\", \"Dominican_Republic\", \"Algeria\", \"Ecuador\", \"Egypt\", \"Eritrea\", \"Western_Sahara\", \"Spain\", \"Estonia\", \"Ethiopia\", \"Finland\", \"Fiji\", \"Falkland_Islands_(Malvinas)\", \"France\", \"Faroe_Islands\", \"Gabon\", \"United_Kingdom\", \"Georgia\", \"Guernsey\", \"Ghana\", \"Gibraltar\", \"Guinea\", \"Gambia\", \"Guinea_Bissau\", \"Equatorial_Guinea\", \"Greece\", \"Grenada\", \"Greenland\", \"Guatemala\", \"Guam\", \"Guyana\", \"Honduras\", \"Croatia\", \"Haiti\", \"Hungary\", \"Indonesia\", \"Isle_of_Man\", \"India\", \"Ireland\", \"Iran\", \"Iraq\", \"Iceland\", \"Israel\", \"Italy\", \"Jamaica\", \"Jersey\", \"Jordan\", \"Japan\", \"Kazakhstan\", \"Kenya\", \"Kyrgyzstan\", \"Cambodia\", \"Saint_Kitts_and_Nevis\", \"South_Korea\", \"Kuwait\", \"Laos\", \"Lebanon\", \"Liberia\", \"Libya\", \"Saint_Lucia\", \"Liechtenstein\", \"Sri_Lanka\", \"Lesotho\", \"Lithuania\", \"Luxembourg\", \"Latvia\", \"Morocco\", \"Monaco\", \"Moldova\", \"Madagascar\", \"Maldives\", \"Mexico\", \"North_Macedonia\", \"Mali\", \"Malta\", \"Myanmar\", \"Montenegro\", \"Mongolia\", \"Northern_Mariana_Islands\", \"Mozambique\", \"Mauritania\", \"Montserrat\", \"Mauritius\", \"Malawi\", \"Malaysia\", \"Namibia\", \"New_Caledonia\", \"Niger\", \"Nigeria\", \"Nicaragua\", \"Netherlands\", \"Norway\", \"Nepal\", \"New_Zealand\", \"Oman\", \"Pakistan\", \"Panama\", \"Peru\", \"Philippines\", \"Papua_New_Guinea\", \"Poland\", \"Puerto_Rico\", \"Portugal\", \"Paraguay\", \"Palestine\", \"French_Polynesia\", \"Qatar\", \"Romania\", \"Russia\", \"Rwanda\", \"Saudi_Arabia\", \"Sudan\", \"Senegal\", \"Singapore\", \"Sierra_Leone\", \"El_Salvador\", \"San_Marino\", \"Somalia\", \"Serbia\", \"South_Sudan\", \"Sao_Tome_and_Principe\", \"Suriname\", \"Slovakia\", \"Slovenia\", \"Sweden\", \"Eswatini\", \"Sint_Maarten\", \"Seychelles\", \"Syria\", \"Turks_and_Caicos_islands\", \"Chad\", \"Togo\", \"Thailand\", \"Tajikistan\", \"Timor_Leste\", \"Trinidad_and_Tobago\", \"Tunisia\", \"Turkey\", \"United_Republic_of_Tanzania\", \"Uganda\", \"Ukraine\", \"Uruguay\", \"United_States_of_America\", \"Uzbekistan\", \"Holy_See\", \"Saint_Vincent_and_the_Grenadines\", \"Venezuela\", \"British_Virgin_Islands\", \"United_States_Virgin_Islands\", \"Vietnam\", \"Kosovo\", \"Yemen\", \"South_Africa\", \"Zambia\", \"Zimbabwe\"], \"locations\": [\"ABW\", \"AFG\", \"AGO\", \"AIA\", \"ALB\", \"AND\", \"ARE\", \"ARG\", \"ARM\", \"ATG\", \"AUS\", \"AUT\", \"AZE\", \"BDI\", \"BEL\", \"BEN\", \"BES\", \"BFA\", \"BGD\", \"BGR\", \"BHR\", \"BHS\", \"BIH\", \"BLR\", \"BLZ\", \"BMU\", \"BOL\", \"BRA\", \"BRB\", \"BRN\", \"BTN\", \"BWA\", \"CAF\", \"CAN\", \"CHE\", \"CHL\", \"CHN\", \"CIV\", \"CMR\", \"CNG1925\", \"COD\", \"COG\", \"COL\", \"COM\", \"CPV\", \"CRI\", \"CUB\", \"CUW\", \"CYM\", \"CYP\", \"CZE\", \"DEU\", \"DJI\", \"DMA\", \"DNK\", \"DOM\", \"DZA\", \"ECU\", \"EGY\", \"ERI\", \"ESH\", \"ESP\", \"EST\", \"ETH\", \"FIN\", \"FJI\", \"FLK\", \"FRA\", \"FRO\", \"GAB\", \"GBR\", \"GEO\", \"GGY\", \"GHA\", \"GIB\", \"GIN\", \"GMB\", \"GNB\", \"GNQ\", \"GRC\", \"GRD\", \"GRL\", \"GTM\", \"GUM\", \"GUY\", \"HND\", \"HRV\", \"HTI\", \"HUN\", \"IDN\", \"IMN\", \"IND\", \"IRL\", \"IRN\", \"IRQ\", \"ISL\", \"ISR\", \"ITA\", \"JAM\", \"JEY\", \"JOR\", \"JPN\", \"KAZ\", \"KEN\", \"KGZ\", \"KHM\", \"KNA\", \"KOR\", \"KWT\", \"LAO\", \"LBN\", \"LBR\", \"LBY\", \"LCA\", \"LIE\", \"LKA\", \"LSO\", \"LTU\", \"LUX\", \"LVA\", \"MAR\", \"MCO\", \"MDA\", \"MDG\", \"MDV\", \"MEX\", \"MKD\", \"MLI\", \"MLT\", \"MMR\", \"MNE\", \"MNG\", \"MNP\", \"MOZ\", \"MRT\", \"MSR\", \"MUS\", \"MWI\", \"MYS\", \"NAM\", \"NCL\", \"NER\", \"NGA\", \"NIC\", \"NLD\", \"NOR\", \"NPL\", \"NZL\", \"OMN\", \"PAK\", \"PAN\", \"PER\", \"PHL\", \"PNG\", \"POL\", \"PRI\", \"PRT\", \"PRY\", \"PSE\", \"PYF\", \"QAT\", \"ROU\", \"RUS\", \"RWA\", \"SAU\", \"SDN\", \"SEN\", \"SGP\", \"SLE\", \"SLV\", \"SMR\", \"SOM\", \"SRB\", \"SSD\", \"STP\", \"SUR\", \"SVK\", \"SVN\", \"SWE\", \"SWZ\", \"SXM\", \"SYC\", \"SYR\", \"TCA\", \"TCD\", \"TGO\", \"THA\", \"TJK\", \"TLS\", \"TTO\", \"TUN\", \"TUR\", \"TZA\", \"UGA\", \"UKR\", \"URY\", \"USA\", \"UZB\", \"VAT\", \"VCT\", \"VEN\", \"VGB\", \"VIR\", \"VNM\", \"XKX\", \"YEM\", \"ZAF\", \"ZMB\", \"ZWE\"], \"name\": \"\", \"type\": \"choropleth\", \"z\": [121, 36710, 1109, 3, 5276, 925, 60506, 185360, 38841, 91, 16905, 21098, 31878, 387, 68658, 1805, 11, 1143, 237661, 11690, 40982, 574, 11444, 67808, 48, 156, 76789, 2662485, 110, 141, 101, 804, 4608, 116298, 35070, 355667, 87655, 16047, 17255, 467, 9070, 3376, 295508, 382, 2451, 17820, 2608, 29, 203, 1114, 16574, 209653, 5081, 18, 13789, 69649, 30394, 85355, 94078, 279, 766, 288522, 2064, 17530, 7432, 27, 13, 187919, 225, 7352, 303181, 1168, 252, 35501, 187, 7308, 498, 1981, 3071, 4477, 24, 14, 49789, 359, 413, 42402, 5138, 7424, 4505, 108376, 336, 1695988, 26065, 304204, 124609, 1885, 70970, 247537, 864, 335, 1193, 34372, 90367, 20636, 36299, 239, 17, 14336, 66957, 20, 4555, 1186, 3222, 25, 89, 2815, 604, 2075, 6695, 1231, 24322, 120, 24733, 10868, 3793, 424637, 10762, 2535, 824, 353, 3112, 291, 42, 1864, 6295, 13, 344, 4078, 8976, 2129, 22, 1134, 43151, 3672, 54301, 9208, 19771, 1212, 79159, 278305, 65256, 414735, 93354, 72, 45688, 16781, 51072, 5338, 15232, 62, 110695, 50886, 839981, 2022, 275905, 11644, 10232, 52205, 1818, 16632, 716, 3212, 25552, 2322, 871, 1706, 2292, 2165, 80422, 2648, 128, 114, 738, 107, 936, 941, 3312, 7409, 24, 169, 1535, 230873, 509, 1154, 69884, 1264, 4562037, 24304, 12, 54, 18574, 8, 406, 558, 8104, 1728, 493183, 5963, 3169]}],\n",
       "                        {\"coloraxis\": {\"colorbar\": {\"title\": {\"text\": \"Totale casi Covid per nazione\"}}, \"colorscale\": [[0.0, \"#0d0887\"], [0.1111111111111111, \"#46039f\"], [0.2222222222222222, \"#7201a8\"], [0.3333333333333333, \"#9c179e\"], [0.4444444444444444, \"#bd3786\"], [0.5555555555555556, \"#d8576b\"], [0.6666666666666666, \"#ed7953\"], [0.7777777777777778, \"#fb9f3a\"], [0.8888888888888888, \"#fdca26\"], [1.0, \"#f0f921\"]]}, \"geo\": {\"center\": {}, \"domain\": {\"x\": [0.0, 1.0], \"y\": [0.0, 1.0]}}, \"legend\": {\"tracegroupgap\": 0}, \"margin\": {\"b\": 0, \"l\": 0, \"r\": 0, \"t\": 0}, \"template\": {\"data\": {\"bar\": [{\"error_x\": {\"color\": \"#2a3f5f\"}, \"error_y\": {\"color\": \"#2a3f5f\"}, \"marker\": {\"line\": {\"color\": \"#E5ECF6\", \"width\": 0.5}}, \"type\": \"bar\"}], \"barpolar\": [{\"marker\": {\"line\": {\"color\": \"#E5ECF6\", \"width\": 0.5}}, \"type\": \"barpolar\"}], \"carpet\": [{\"aaxis\": {\"endlinecolor\": \"#2a3f5f\", \"gridcolor\": \"white\", \"linecolor\": \"white\", \"minorgridcolor\": \"white\", \"startlinecolor\": \"#2a3f5f\"}, \"baxis\": {\"endlinecolor\": \"#2a3f5f\", \"gridcolor\": \"white\", \"linecolor\": \"white\", \"minorgridcolor\": \"white\", \"startlinecolor\": \"#2a3f5f\"}, \"type\": \"carpet\"}], \"choropleth\": [{\"colorbar\": {\"outlinewidth\": 0, \"ticks\": \"\"}, \"type\": \"choropleth\"}], \"contour\": [{\"colorbar\": {\"outlinewidth\": 0, \"ticks\": \"\"}, \"colorscale\": [[0.0, \"#0d0887\"], [0.1111111111111111, \"#46039f\"], [0.2222222222222222, \"#7201a8\"], [0.3333333333333333, \"#9c179e\"], [0.4444444444444444, \"#bd3786\"], [0.5555555555555556, \"#d8576b\"], [0.6666666666666666, \"#ed7953\"], [0.7777777777777778, \"#fb9f3a\"], [0.8888888888888888, \"#fdca26\"], [1.0, \"#f0f921\"]], \"type\": \"contour\"}], \"contourcarpet\": [{\"colorbar\": {\"outlinewidth\": 0, \"ticks\": \"\"}, \"type\": \"contourcarpet\"}], \"heatmap\": [{\"colorbar\": {\"outlinewidth\": 0, \"ticks\": \"\"}, \"colorscale\": [[0.0, \"#0d0887\"], [0.1111111111111111, \"#46039f\"], [0.2222222222222222, \"#7201a8\"], [0.3333333333333333, \"#9c179e\"], [0.4444444444444444, \"#bd3786\"], [0.5555555555555556, \"#d8576b\"], [0.6666666666666666, \"#ed7953\"], [0.7777777777777778, \"#fb9f3a\"], [0.8888888888888888, \"#fdca26\"], [1.0, \"#f0f921\"]], \"type\": \"heatmap\"}], \"heatmapgl\": [{\"colorbar\": {\"outlinewidth\": 0, \"ticks\": \"\"}, \"colorscale\": [[0.0, \"#0d0887\"], [0.1111111111111111, \"#46039f\"], [0.2222222222222222, \"#7201a8\"], [0.3333333333333333, \"#9c179e\"], [0.4444444444444444, \"#bd3786\"], [0.5555555555555556, \"#d8576b\"], [0.6666666666666666, \"#ed7953\"], [0.7777777777777778, \"#fb9f3a\"], [0.8888888888888888, \"#fdca26\"], [1.0, \"#f0f921\"]], \"type\": \"heatmapgl\"}], \"histogram\": [{\"marker\": {\"colorbar\": {\"outlinewidth\": 0, \"ticks\": \"\"}}, \"type\": \"histogram\"}], \"histogram2d\": [{\"colorbar\": {\"outlinewidth\": 0, \"ticks\": \"\"}, \"colorscale\": [[0.0, \"#0d0887\"], [0.1111111111111111, \"#46039f\"], [0.2222222222222222, \"#7201a8\"], [0.3333333333333333, \"#9c179e\"], [0.4444444444444444, \"#bd3786\"], [0.5555555555555556, \"#d8576b\"], [0.6666666666666666, \"#ed7953\"], [0.7777777777777778, \"#fb9f3a\"], [0.8888888888888888, \"#fdca26\"], [1.0, \"#f0f921\"]], \"type\": \"histogram2d\"}], \"histogram2dcontour\": [{\"colorbar\": {\"outlinewidth\": 0, \"ticks\": \"\"}, \"colorscale\": [[0.0, \"#0d0887\"], [0.1111111111111111, \"#46039f\"], [0.2222222222222222, \"#7201a8\"], [0.3333333333333333, \"#9c179e\"], [0.4444444444444444, \"#bd3786\"], [0.5555555555555556, \"#d8576b\"], [0.6666666666666666, \"#ed7953\"], [0.7777777777777778, \"#fb9f3a\"], [0.8888888888888888, \"#fdca26\"], [1.0, \"#f0f921\"]], \"type\": \"histogram2dcontour\"}], \"mesh3d\": [{\"colorbar\": {\"outlinewidth\": 0, \"ticks\": \"\"}, \"type\": \"mesh3d\"}], \"parcoords\": [{\"line\": {\"colorbar\": {\"outlinewidth\": 0, \"ticks\": \"\"}}, \"type\": \"parcoords\"}], \"pie\": [{\"automargin\": true, \"type\": \"pie\"}], \"scatter\": [{\"marker\": {\"colorbar\": {\"outlinewidth\": 0, \"ticks\": \"\"}}, \"type\": \"scatter\"}], \"scatter3d\": [{\"line\": {\"colorbar\": {\"outlinewidth\": 0, \"ticks\": \"\"}}, \"marker\": {\"colorbar\": {\"outlinewidth\": 0, \"ticks\": \"\"}}, \"type\": \"scatter3d\"}], \"scattercarpet\": [{\"marker\": {\"colorbar\": {\"outlinewidth\": 0, \"ticks\": \"\"}}, \"type\": \"scattercarpet\"}], \"scattergeo\": [{\"marker\": {\"colorbar\": {\"outlinewidth\": 0, \"ticks\": \"\"}}, \"type\": \"scattergeo\"}], \"scattergl\": [{\"marker\": {\"colorbar\": {\"outlinewidth\": 0, \"ticks\": \"\"}}, \"type\": \"scattergl\"}], \"scattermapbox\": [{\"marker\": {\"colorbar\": {\"outlinewidth\": 0, \"ticks\": \"\"}}, \"type\": \"scattermapbox\"}], \"scatterpolar\": [{\"marker\": {\"colorbar\": {\"outlinewidth\": 0, \"ticks\": \"\"}}, \"type\": \"scatterpolar\"}], \"scatterpolargl\": [{\"marker\": {\"colorbar\": {\"outlinewidth\": 0, \"ticks\": \"\"}}, \"type\": \"scatterpolargl\"}], \"scatterternary\": [{\"marker\": {\"colorbar\": {\"outlinewidth\": 0, \"ticks\": \"\"}}, \"type\": \"scatterternary\"}], \"surface\": [{\"colorbar\": {\"outlinewidth\": 0, \"ticks\": \"\"}, \"colorscale\": [[0.0, \"#0d0887\"], [0.1111111111111111, \"#46039f\"], [0.2222222222222222, \"#7201a8\"], [0.3333333333333333, \"#9c179e\"], [0.4444444444444444, \"#bd3786\"], [0.5555555555555556, \"#d8576b\"], [0.6666666666666666, \"#ed7953\"], [0.7777777777777778, \"#fb9f3a\"], [0.8888888888888888, \"#fdca26\"], [1.0, \"#f0f921\"]], \"type\": \"surface\"}], \"table\": [{\"cells\": {\"fill\": {\"color\": \"#EBF0F8\"}, \"line\": {\"color\": \"white\"}}, \"header\": {\"fill\": {\"color\": \"#C8D4E3\"}, \"line\": {\"color\": \"white\"}}, \"type\": \"table\"}]}, \"layout\": {\"annotationdefaults\": {\"arrowcolor\": \"#2a3f5f\", \"arrowhead\": 0, \"arrowwidth\": 1}, \"coloraxis\": {\"colorbar\": {\"outlinewidth\": 0, \"ticks\": \"\"}}, \"colorscale\": {\"diverging\": [[0, \"#8e0152\"], [0.1, \"#c51b7d\"], [0.2, \"#de77ae\"], [0.3, \"#f1b6da\"], [0.4, \"#fde0ef\"], [0.5, \"#f7f7f7\"], [0.6, \"#e6f5d0\"], [0.7, \"#b8e186\"], [0.8, \"#7fbc41\"], [0.9, \"#4d9221\"], [1, \"#276419\"]], \"sequential\": [[0.0, \"#0d0887\"], [0.1111111111111111, \"#46039f\"], [0.2222222222222222, \"#7201a8\"], [0.3333333333333333, \"#9c179e\"], [0.4444444444444444, \"#bd3786\"], [0.5555555555555556, \"#d8576b\"], [0.6666666666666666, \"#ed7953\"], [0.7777777777777778, \"#fb9f3a\"], [0.8888888888888888, \"#fdca26\"], [1.0, \"#f0f921\"]], \"sequentialminus\": [[0.0, \"#0d0887\"], [0.1111111111111111, \"#46039f\"], [0.2222222222222222, \"#7201a8\"], [0.3333333333333333, \"#9c179e\"], [0.4444444444444444, \"#bd3786\"], [0.5555555555555556, \"#d8576b\"], [0.6666666666666666, \"#ed7953\"], [0.7777777777777778, \"#fb9f3a\"], [0.8888888888888888, \"#fdca26\"], [1.0, \"#f0f921\"]]}, \"colorway\": [\"#636efa\", \"#EF553B\", \"#00cc96\", \"#ab63fa\", \"#FFA15A\", \"#19d3f3\", \"#FF6692\", \"#B6E880\", \"#FF97FF\", \"#FECB52\"], \"font\": {\"color\": \"#2a3f5f\"}, \"geo\": {\"bgcolor\": \"white\", \"lakecolor\": \"white\", \"landcolor\": \"#E5ECF6\", \"showlakes\": true, \"showland\": true, \"subunitcolor\": \"white\"}, \"hoverlabel\": {\"align\": \"left\"}, \"hovermode\": \"closest\", \"mapbox\": {\"style\": \"light\"}, \"paper_bgcolor\": \"white\", \"plot_bgcolor\": \"#E5ECF6\", \"polar\": {\"angularaxis\": {\"gridcolor\": \"white\", \"linecolor\": \"white\", \"ticks\": \"\"}, \"bgcolor\": \"#E5ECF6\", \"radialaxis\": {\"gridcolor\": \"white\", \"linecolor\": \"white\", \"ticks\": \"\"}}, \"scene\": {\"xaxis\": {\"backgroundcolor\": \"#E5ECF6\", \"gridcolor\": \"white\", \"gridwidth\": 2, \"linecolor\": \"white\", \"showbackground\": true, \"ticks\": \"\", \"zerolinecolor\": \"white\"}, \"yaxis\": {\"backgroundcolor\": \"#E5ECF6\", \"gridcolor\": \"white\", \"gridwidth\": 2, \"linecolor\": \"white\", \"showbackground\": true, \"ticks\": \"\", \"zerolinecolor\": \"white\"}, \"zaxis\": {\"backgroundcolor\": \"#E5ECF6\", \"gridcolor\": \"white\", \"gridwidth\": 2, \"linecolor\": \"white\", \"showbackground\": true, \"ticks\": \"\", \"zerolinecolor\": \"white\"}}, \"shapedefaults\": {\"line\": {\"color\": \"#2a3f5f\"}}, \"ternary\": {\"aaxis\": {\"gridcolor\": \"white\", \"linecolor\": \"white\", \"ticks\": \"\"}, \"baxis\": {\"gridcolor\": \"white\", \"linecolor\": \"white\", \"ticks\": \"\"}, \"bgcolor\": \"#E5ECF6\", \"caxis\": {\"gridcolor\": \"white\", \"linecolor\": \"white\", \"ticks\": \"\"}}, \"title\": {\"x\": 0.05}, \"xaxis\": {\"automargin\": true, \"gridcolor\": \"white\", \"linecolor\": \"white\", \"ticks\": \"\", \"title\": {\"standoff\": 15}, \"zerolinecolor\": \"white\", \"zerolinewidth\": 2}, \"yaxis\": {\"automargin\": true, \"gridcolor\": \"white\", \"linecolor\": \"white\", \"ticks\": \"\", \"title\": {\"standoff\": 15}, \"zerolinecolor\": \"white\", \"zerolinewidth\": 2}}}},\n",
       "                        {\"responsive\": true}\n",
       "                    ).then(function(){\n",
       "                            \n",
       "var gd = document.getElementById('60888322-f136-47f8-8d9a-e3c97c961840');\n",
       "var x = new MutationObserver(function (mutations, observer) {{\n",
       "        var display = window.getComputedStyle(gd).display;\n",
       "        if (!display || display === 'none') {{\n",
       "            console.log([gd, 'removed!']);\n",
       "            Plotly.purge(gd);\n",
       "            observer.disconnect();\n",
       "        }}\n",
       "}});\n",
       "\n",
       "// Listen for the removal of the full notebook cells\n",
       "var notebookContainer = gd.closest('#notebook-container');\n",
       "if (notebookContainer) {{\n",
       "    x.observe(notebookContainer, {childList: true});\n",
       "}}\n",
       "\n",
       "// Listen for the clearing of the current output cell\n",
       "var outputEl = gd.closest('.output');\n",
       "if (outputEl) {{\n",
       "    x.observe(outputEl, {childList: true});\n",
       "}}\n",
       "\n",
       "                        })\n",
       "                };\n",
       "                });\n",
       "            </script>\n",
       "        </div>"
      ]
     },
     "metadata": {},
     "output_type": "display_data"
    }
   ],
   "source": [
    "import plotly.express as px\n",
    "\n",
    "fig = px.choropleth(df_covid_cases_grp, locations=\"countryterritoryCode\",\n",
    "                    color=\"TotalCases\", # lifeExp is a column of gapminder\n",
    "                    hover_name=\"countryName\", # column to add to hover information\n",
    "                    color_continuous_scale=px.colors.sequential.Plasma,\n",
    "                   labels={'TotalCases':'Totale casi Covid per nazione'})\n",
    "#disegno\n",
    "fig.update_layout(margin={\"r\":0,\"t\":0,\"l\":0,\"b\":0})\n",
    "fig.show()"
   ]
  },
  {
   "cell_type": "code",
   "execution_count": 158,
   "metadata": {},
   "outputs": [
    {
     "data": {
      "application/vnd.plotly.v1+json": {
       "config": {
        "plotlyServerURL": "https://plotly.com"
       },
       "data": [
        {
         "coloraxis": "coloraxis",
         "geo": "geo",
         "hoverlabel": {
          "namelength": 0
         },
         "hovertemplate": "<b>%{hovertext}</b><br><br>countryterritoryCode=%{location}<br>Casi Covid per unità di popolazione=%{z}",
         "hovertext": [
          "Aruba",
          "Afghanistan",
          "Angola",
          "Anguilla",
          "Albania",
          "Andorra",
          "United_Arab_Emirates",
          "Argentina",
          "Armenia",
          "Antigua_and_Barbuda",
          "Australia",
          "Austria",
          "Azerbaijan",
          "Burundi",
          "Belgium",
          "Benin",
          "Bonaire, Saint Eustatius and Saba",
          "Burkina_Faso",
          "Bangladesh",
          "Bulgaria",
          "Bahrain",
          "Bahamas",
          "Bosnia_and_Herzegovina",
          "Belarus",
          "Belize",
          "Bermuda",
          "Bolivia",
          "Brazil",
          "Barbados",
          "Brunei_Darussalam",
          "Bhutan",
          "Botswana",
          "Central_African_Republic",
          "Canada",
          "Switzerland",
          "Chile",
          "China",
          "Cote_dIvoire",
          "Cameroon",
          "Taiwan",
          "Democratic_Republic_of_the_Congo",
          "Congo",
          "Colombia",
          "Comoros",
          "Cape_Verde",
          "Costa_Rica",
          "Cuba",
          "Curaçao",
          "Cayman_Islands",
          "Cyprus",
          "Czechia",
          "Germany",
          "Djibouti",
          "Dominica",
          "Denmark",
          "Dominican_Republic",
          "Algeria",
          "Ecuador",
          "Egypt",
          "Eritrea",
          "Western_Sahara",
          "Spain",
          "Estonia",
          "Ethiopia",
          "Finland",
          "Fiji",
          "Falkland_Islands_(Malvinas)",
          "France",
          "Faroe_Islands",
          "Gabon",
          "United_Kingdom",
          "Georgia",
          "Guernsey",
          "Ghana",
          "Gibraltar",
          "Guinea",
          "Gambia",
          "Guinea_Bissau",
          "Equatorial_Guinea",
          "Greece",
          "Grenada",
          "Greenland",
          "Guatemala",
          "Guam",
          "Guyana",
          "Honduras",
          "Croatia",
          "Haiti",
          "Hungary",
          "Indonesia",
          "Isle_of_Man",
          "India",
          "Ireland",
          "Iran",
          "Iraq",
          "Iceland",
          "Israel",
          "Italy",
          "Jamaica",
          "Jersey",
          "Jordan",
          "Japan",
          "Kazakhstan",
          "Kenya",
          "Kyrgyzstan",
          "Cambodia",
          "Saint_Kitts_and_Nevis",
          "South_Korea",
          "Kuwait",
          "Laos",
          "Lebanon",
          "Liberia",
          "Libya",
          "Saint_Lucia",
          "Liechtenstein",
          "Sri_Lanka",
          "Lesotho",
          "Lithuania",
          "Luxembourg",
          "Latvia",
          "Morocco",
          "Monaco",
          "Moldova",
          "Madagascar",
          "Maldives",
          "Mexico",
          "North_Macedonia",
          "Mali",
          "Malta",
          "Myanmar",
          "Montenegro",
          "Mongolia",
          "Northern_Mariana_Islands",
          "Mozambique",
          "Mauritania",
          "Montserrat",
          "Mauritius",
          "Malawi",
          "Malaysia",
          "Namibia",
          "New_Caledonia",
          "Niger",
          "Nigeria",
          "Nicaragua",
          "Netherlands",
          "Norway",
          "Nepal",
          "New_Zealand",
          "Oman",
          "Pakistan",
          "Panama",
          "Peru",
          "Philippines",
          "Papua_New_Guinea",
          "Poland",
          "Puerto_Rico",
          "Portugal",
          "Paraguay",
          "Palestine",
          "French_Polynesia",
          "Qatar",
          "Romania",
          "Russia",
          "Rwanda",
          "Saudi_Arabia",
          "Sudan",
          "Senegal",
          "Singapore",
          "Sierra_Leone",
          "El_Salvador",
          "San_Marino",
          "Somalia",
          "Serbia",
          "South_Sudan",
          "Sao_Tome_and_Principe",
          "Suriname",
          "Slovakia",
          "Slovenia",
          "Sweden",
          "Eswatini",
          "Sint_Maarten",
          "Seychelles",
          "Syria",
          "Turks_and_Caicos_islands",
          "Chad",
          "Togo",
          "Thailand",
          "Tajikistan",
          "Timor_Leste",
          "Trinidad_and_Tobago",
          "Tunisia",
          "Turkey",
          "United_Republic_of_Tanzania",
          "Uganda",
          "Ukraine",
          "Uruguay",
          "United_States_of_America",
          "Uzbekistan",
          "Holy_See",
          "Saint_Vincent_and_the_Grenadines",
          "Venezuela",
          "British_Virgin_Islands",
          "United_States_Virgin_Islands",
          "Vietnam",
          "Kosovo",
          "Yemen",
          "South_Africa",
          "Zambia",
          "Zimbabwe"
         ],
         "locations": [
          "ABW",
          "AFG",
          "AGO",
          "AIA",
          "ALB",
          "AND",
          "ARE",
          "ARG",
          "ARM",
          "ATG",
          "AUS",
          "AUT",
          "AZE",
          "BDI",
          "BEL",
          "BEN",
          "BES",
          "BFA",
          "BGD",
          "BGR",
          "BHR",
          "BHS",
          "BIH",
          "BLR",
          "BLZ",
          "BMU",
          "BOL",
          "BRA",
          "BRB",
          "BRN",
          "BTN",
          "BWA",
          "CAF",
          "CAN",
          "CHE",
          "CHL",
          "CHN",
          "CIV",
          "CMR",
          "CNG1925",
          "COD",
          "COG",
          "COL",
          "COM",
          "CPV",
          "CRI",
          "CUB",
          "CUW",
          "CYM",
          "CYP",
          "CZE",
          "DEU",
          "DJI",
          "DMA",
          "DNK",
          "DOM",
          "DZA",
          "ECU",
          "EGY",
          "ERI",
          "ESH",
          "ESP",
          "EST",
          "ETH",
          "FIN",
          "FJI",
          "FLK",
          "FRA",
          "FRO",
          "GAB",
          "GBR",
          "GEO",
          "GGY",
          "GHA",
          "GIB",
          "GIN",
          "GMB",
          "GNB",
          "GNQ",
          "GRC",
          "GRD",
          "GRL",
          "GTM",
          "GUM",
          "GUY",
          "HND",
          "HRV",
          "HTI",
          "HUN",
          "IDN",
          "IMN",
          "IND",
          "IRL",
          "IRN",
          "IRQ",
          "ISL",
          "ISR",
          "ITA",
          "JAM",
          "JEY",
          "JOR",
          "JPN",
          "KAZ",
          "KEN",
          "KGZ",
          "KHM",
          "KNA",
          "KOR",
          "KWT",
          "LAO",
          "LBN",
          "LBR",
          "LBY",
          "LCA",
          "LIE",
          "LKA",
          "LSO",
          "LTU",
          "LUX",
          "LVA",
          "MAR",
          "MCO",
          "MDA",
          "MDG",
          "MDV",
          "MEX",
          "MKD",
          "MLI",
          "MLT",
          "MMR",
          "MNE",
          "MNG",
          "MNP",
          "MOZ",
          "MRT",
          "MSR",
          "MUS",
          "MWI",
          "MYS",
          "NAM",
          "NCL",
          "NER",
          "NGA",
          "NIC",
          "NLD",
          "NOR",
          "NPL",
          "NZL",
          "OMN",
          "PAK",
          "PAN",
          "PER",
          "PHL",
          "PNG",
          "POL",
          "PRI",
          "PRT",
          "PRY",
          "PSE",
          "PYF",
          "QAT",
          "ROU",
          "RUS",
          "RWA",
          "SAU",
          "SDN",
          "SEN",
          "SGP",
          "SLE",
          "SLV",
          "SMR",
          "SOM",
          "SRB",
          "SSD",
          "STP",
          "SUR",
          "SVK",
          "SVN",
          "SWE",
          "SWZ",
          "SXM",
          "SYC",
          "SYR",
          "TCA",
          "TCD",
          "TGO",
          "THA",
          "TJK",
          "TLS",
          "TTO",
          "TUN",
          "TUR",
          "TZA",
          "UGA",
          "UKR",
          "URY",
          "USA",
          "UZB",
          "VAT",
          "VCT",
          "VEN",
          "VGB",
          "VIR",
          "VNM",
          "XKX",
          "YEM",
          "ZAF",
          "ZMB",
          "ZWE"
         ],
         "name": "",
         "type": "choropleth",
         "z": [
          0.001138180792023328,
          0.0009649922320885441,
          3.484649115158353e-05,
          0.0002017213555675094,
          0.0018431911102012384,
          0.012142772752930674,
          0.006192706513446666,
          0.004139285528858151,
          0.0131320391868353,
          0.0009370334139937187,
          0.0006707481589639411,
          0.0023815933918628703,
          0.0031726603819234992,
          3.3562934448119985e-05,
          0.00599344298586559,
          0.00015295118247364177,
          0.00042335373128584076,
          5.624617182797057e-05,
          0.0014576300420127003,
          0.0016699906957661236,
          0.02497130085719648,
          0.0014737371818242505,
          0.0034668303343413113,
          0.007173621031421725,
          0.00012296625344881913,
          0.00249568055288923,
          0.006669705523324644,
          0.01261545163720558,
          0.00038324721884461417,
          0.00032541265093608067,
          0.00013235590897058553,
          0.0003490033220428154,
          0.0009710908692801683,
          0.003108654723774304,
          0.00410438167027853,
          0.01876669180908541,
          6.113544217937722e-05,
          0.0006239949567115407,
          0.0006668241590296203,
          1.9643406139704324e-05,
          0.00010450444338606011,
          0.0006274505139295501,
          0.005870307305545673,
          0.0004489411687278394,
          0.004456882255389718,
          0.0035304179582970863,
          0.00023011458788841984,
          0.00017745360200216616,
          0.003125577384984911,
          0.0012718361363581875,
          0.0015562733572461454,
          0.0025253551849497777,
          0.005219006180429087,
          0.000250668449197861,
          0.0023749238083312996,
          0.0064856391547149315,
          0.0007059661783807486,
          0.004912897727864663,
          0.0009371431722628094,
          7.978000164135201e-05,
          0.0013151162830624698,
          0.006146997702881262,
          0.0015579474947540043,
          0.00015640791494714247,
          0.0013468845773198194,
          3.0338612626481113e-05,
          0.003855278766310795,
          0.002804221988180989,
          0.0046223062226513545,
          0.003383998180962893,
          0.004549049327148639,
          0.0002922365654997721,
          0.003908916051374325,
          0.0011671104520245969,
          0.005547973654542218,
          0.0005722229452004918,
          0.0002121228642890732,
          0.001031278290524786,
          0.0022647793259792533,
          0.0004174515056460386,
          0.00021428188782343172,
          0.000247087892693258,
          0.0028319010303799294,
          0.0021459099196030965,
          0.0005276101050748939,
          0.0043506566462636655,
          0.001260473484671926,
          0.0006591448040096318,
          0.0004609753891328096,
          0.0004004647498807827,
          0.0039721476787762,
          0.0012411928874261496,
          0.005314788835782914,
          0.0036689146896045515,
          0.00316992289121674,
          0.005280245160242135,
          0.008330425255473613,
          0.004101041449185188,
          0.00029305251847095776,
          0.0031077219933949313,
          0.00011809896891581682,
          0.00027094370950520936,
          0.00487116140062102,
          0.0003925136560457764,
          0.005657706202965125,
          1.4496672498089654e-05,
          0.00032176250141954045,
          0.0002798615942299317,
          0.01591532553361871,
          2.7896119315049847e-06,
          0.0006644097641833981,
          0.0002402086615273625,
          0.0004753998294049402,
          0.0001367652288082278,
          0.0023190369482516027,
          0.00013201252651153875,
          0.0002841995852756383,
          0.0007426139438204499,
          0.010905791553590685,
          0.0006411565192753212,
          0.0006668720127234859,
          0.003627021308750189,
          0.006117096658190004,
          0.0004029766283196164,
          0.007143704669116332,
          0.0033285145147232743,
          0.005181182515121812,
          0.00012895498189212617,
          0.001669506583812675,
          6.531543041702958e-06,
          0.00500175189896204,
          9.022791385001578e-05,
          0.000734098893608096,
          6.138435620340787e-05,
          0.0013909456618625459,
          0.002604688439190543,
          0.0002709365425661786,
          0.00021890895625895223,
          0.00028094082248868684,
          0.0008534694394601936,
          7.78053240061254e-05,
          4.8647148120999614e-05,
          0.00021472047353768831,
          0.0005609958470724098,
          0.003142025682780564,
          0.0017281594651263877,
          0.0006910831192522978,
          0.0002533941646585388,
          0.015911382370062104,
          0.0012850857369742174,
          0.015367225252211264,
          0.012756970356188726,
          0.0008634564997785447,
          8.204082009371112e-06,
          0.0012031766306904003,
          0.005720657638702341,
          0.004969728851430388,
          0.0007577393248965632,
          0.003057761418325932,
          0.000221995452673792,
          0.039086237597856836,
          0.0026210363431211935,
          0.0057583326672254204,
          0.00016013383450524585,
          0.008051264762488054,
          0.00027197196044765313,
          0.000627870195814256,
          0.008994127328450438,
          0.00023268294312437903,
          0.002577186199843497,
          0.020781934809740808,
          0.0002079919414130993,
          0.003669280004319503,
          0.0002099056292495268,
          0.004050258546929058,
          0.0029344832746494016,
          0.0004205179746665441,
          0.001040411205108539,
          0.0078612459109977,
          0.0023063530096251914,
          0.0030196513246361083,
          0.0011663477967280875,
          4.32334090913884e-05,
          0.0028014871445776824,
          5.8694859597004604e-05,
          0.00011642640471674173,
          4.756872334034814e-05,
          0.0007948698334935983,
          1.8559762435040832e-05,
          0.00012114964561936502,
          0.0001312558033663223,
          0.0028153911055088833,
          8.775035853951752e-06,
          2.606755739555465e-05,
          0.0015885022297426018,
          0.00036513524592176575,
          0.013863638341002484,
          0.0007368931542826078,
          0.014723926380368098,
          0.00048827683488105036,
          0.0006513575319868835,
          0.0002663736556454567,
          0.0038822325705925665,
          5.784654840841753e-06,
          0.0045059621708240065,
          5.925535360803722e-05,
          0.008422090086784843,
          0.0003338552516052542,
          0.00021638085707440107
         ]
        }
       ],
       "layout": {
        "autosize": true,
        "coloraxis": {
         "colorbar": {
          "title": {
           "text": "Casi Covid per unità di popolazione"
          }
         },
         "colorscale": [
          [
           0,
           "#0d0887"
          ],
          [
           0.1111111111111111,
           "#46039f"
          ],
          [
           0.2222222222222222,
           "#7201a8"
          ],
          [
           0.3333333333333333,
           "#9c179e"
          ],
          [
           0.4444444444444444,
           "#bd3786"
          ],
          [
           0.5555555555555556,
           "#d8576b"
          ],
          [
           0.6666666666666666,
           "#ed7953"
          ],
          [
           0.7777777777777778,
           "#fb9f3a"
          ],
          [
           0.8888888888888888,
           "#fdca26"
          ],
          [
           1,
           "#f0f921"
          ]
         ]
        },
        "geo": {
         "center": {},
         "domain": {
          "x": [
           0,
           1
          ],
          "y": [
           0,
           1
          ]
         }
        },
        "legend": {
         "tracegroupgap": 0
        },
        "margin": {
         "b": 0,
         "l": 0,
         "r": 0,
         "t": 0
        },
        "template": {
         "data": {
          "bar": [
           {
            "error_x": {
             "color": "#2a3f5f"
            },
            "error_y": {
             "color": "#2a3f5f"
            },
            "marker": {
             "line": {
              "color": "#E5ECF6",
              "width": 0.5
             }
            },
            "type": "bar"
           }
          ],
          "barpolar": [
           {
            "marker": {
             "line": {
              "color": "#E5ECF6",
              "width": 0.5
             }
            },
            "type": "barpolar"
           }
          ],
          "carpet": [
           {
            "aaxis": {
             "endlinecolor": "#2a3f5f",
             "gridcolor": "white",
             "linecolor": "white",
             "minorgridcolor": "white",
             "startlinecolor": "#2a3f5f"
            },
            "baxis": {
             "endlinecolor": "#2a3f5f",
             "gridcolor": "white",
             "linecolor": "white",
             "minorgridcolor": "white",
             "startlinecolor": "#2a3f5f"
            },
            "type": "carpet"
           }
          ],
          "choropleth": [
           {
            "colorbar": {
             "outlinewidth": 0,
             "ticks": ""
            },
            "type": "choropleth"
           }
          ],
          "contour": [
           {
            "colorbar": {
             "outlinewidth": 0,
             "ticks": ""
            },
            "colorscale": [
             [
              0,
              "#0d0887"
             ],
             [
              0.1111111111111111,
              "#46039f"
             ],
             [
              0.2222222222222222,
              "#7201a8"
             ],
             [
              0.3333333333333333,
              "#9c179e"
             ],
             [
              0.4444444444444444,
              "#bd3786"
             ],
             [
              0.5555555555555556,
              "#d8576b"
             ],
             [
              0.6666666666666666,
              "#ed7953"
             ],
             [
              0.7777777777777778,
              "#fb9f3a"
             ],
             [
              0.8888888888888888,
              "#fdca26"
             ],
             [
              1,
              "#f0f921"
             ]
            ],
            "type": "contour"
           }
          ],
          "contourcarpet": [
           {
            "colorbar": {
             "outlinewidth": 0,
             "ticks": ""
            },
            "type": "contourcarpet"
           }
          ],
          "heatmap": [
           {
            "colorbar": {
             "outlinewidth": 0,
             "ticks": ""
            },
            "colorscale": [
             [
              0,
              "#0d0887"
             ],
             [
              0.1111111111111111,
              "#46039f"
             ],
             [
              0.2222222222222222,
              "#7201a8"
             ],
             [
              0.3333333333333333,
              "#9c179e"
             ],
             [
              0.4444444444444444,
              "#bd3786"
             ],
             [
              0.5555555555555556,
              "#d8576b"
             ],
             [
              0.6666666666666666,
              "#ed7953"
             ],
             [
              0.7777777777777778,
              "#fb9f3a"
             ],
             [
              0.8888888888888888,
              "#fdca26"
             ],
             [
              1,
              "#f0f921"
             ]
            ],
            "type": "heatmap"
           }
          ],
          "heatmapgl": [
           {
            "colorbar": {
             "outlinewidth": 0,
             "ticks": ""
            },
            "colorscale": [
             [
              0,
              "#0d0887"
             ],
             [
              0.1111111111111111,
              "#46039f"
             ],
             [
              0.2222222222222222,
              "#7201a8"
             ],
             [
              0.3333333333333333,
              "#9c179e"
             ],
             [
              0.4444444444444444,
              "#bd3786"
             ],
             [
              0.5555555555555556,
              "#d8576b"
             ],
             [
              0.6666666666666666,
              "#ed7953"
             ],
             [
              0.7777777777777778,
              "#fb9f3a"
             ],
             [
              0.8888888888888888,
              "#fdca26"
             ],
             [
              1,
              "#f0f921"
             ]
            ],
            "type": "heatmapgl"
           }
          ],
          "histogram": [
           {
            "marker": {
             "colorbar": {
              "outlinewidth": 0,
              "ticks": ""
             }
            },
            "type": "histogram"
           }
          ],
          "histogram2d": [
           {
            "colorbar": {
             "outlinewidth": 0,
             "ticks": ""
            },
            "colorscale": [
             [
              0,
              "#0d0887"
             ],
             [
              0.1111111111111111,
              "#46039f"
             ],
             [
              0.2222222222222222,
              "#7201a8"
             ],
             [
              0.3333333333333333,
              "#9c179e"
             ],
             [
              0.4444444444444444,
              "#bd3786"
             ],
             [
              0.5555555555555556,
              "#d8576b"
             ],
             [
              0.6666666666666666,
              "#ed7953"
             ],
             [
              0.7777777777777778,
              "#fb9f3a"
             ],
             [
              0.8888888888888888,
              "#fdca26"
             ],
             [
              1,
              "#f0f921"
             ]
            ],
            "type": "histogram2d"
           }
          ],
          "histogram2dcontour": [
           {
            "colorbar": {
             "outlinewidth": 0,
             "ticks": ""
            },
            "colorscale": [
             [
              0,
              "#0d0887"
             ],
             [
              0.1111111111111111,
              "#46039f"
             ],
             [
              0.2222222222222222,
              "#7201a8"
             ],
             [
              0.3333333333333333,
              "#9c179e"
             ],
             [
              0.4444444444444444,
              "#bd3786"
             ],
             [
              0.5555555555555556,
              "#d8576b"
             ],
             [
              0.6666666666666666,
              "#ed7953"
             ],
             [
              0.7777777777777778,
              "#fb9f3a"
             ],
             [
              0.8888888888888888,
              "#fdca26"
             ],
             [
              1,
              "#f0f921"
             ]
            ],
            "type": "histogram2dcontour"
           }
          ],
          "mesh3d": [
           {
            "colorbar": {
             "outlinewidth": 0,
             "ticks": ""
            },
            "type": "mesh3d"
           }
          ],
          "parcoords": [
           {
            "line": {
             "colorbar": {
              "outlinewidth": 0,
              "ticks": ""
             }
            },
            "type": "parcoords"
           }
          ],
          "pie": [
           {
            "automargin": true,
            "type": "pie"
           }
          ],
          "scatter": [
           {
            "marker": {
             "colorbar": {
              "outlinewidth": 0,
              "ticks": ""
             }
            },
            "type": "scatter"
           }
          ],
          "scatter3d": [
           {
            "line": {
             "colorbar": {
              "outlinewidth": 0,
              "ticks": ""
             }
            },
            "marker": {
             "colorbar": {
              "outlinewidth": 0,
              "ticks": ""
             }
            },
            "type": "scatter3d"
           }
          ],
          "scattercarpet": [
           {
            "marker": {
             "colorbar": {
              "outlinewidth": 0,
              "ticks": ""
             }
            },
            "type": "scattercarpet"
           }
          ],
          "scattergeo": [
           {
            "marker": {
             "colorbar": {
              "outlinewidth": 0,
              "ticks": ""
             }
            },
            "type": "scattergeo"
           }
          ],
          "scattergl": [
           {
            "marker": {
             "colorbar": {
              "outlinewidth": 0,
              "ticks": ""
             }
            },
            "type": "scattergl"
           }
          ],
          "scattermapbox": [
           {
            "marker": {
             "colorbar": {
              "outlinewidth": 0,
              "ticks": ""
             }
            },
            "type": "scattermapbox"
           }
          ],
          "scatterpolar": [
           {
            "marker": {
             "colorbar": {
              "outlinewidth": 0,
              "ticks": ""
             }
            },
            "type": "scatterpolar"
           }
          ],
          "scatterpolargl": [
           {
            "marker": {
             "colorbar": {
              "outlinewidth": 0,
              "ticks": ""
             }
            },
            "type": "scatterpolargl"
           }
          ],
          "scatterternary": [
           {
            "marker": {
             "colorbar": {
              "outlinewidth": 0,
              "ticks": ""
             }
            },
            "type": "scatterternary"
           }
          ],
          "surface": [
           {
            "colorbar": {
             "outlinewidth": 0,
             "ticks": ""
            },
            "colorscale": [
             [
              0,
              "#0d0887"
             ],
             [
              0.1111111111111111,
              "#46039f"
             ],
             [
              0.2222222222222222,
              "#7201a8"
             ],
             [
              0.3333333333333333,
              "#9c179e"
             ],
             [
              0.4444444444444444,
              "#bd3786"
             ],
             [
              0.5555555555555556,
              "#d8576b"
             ],
             [
              0.6666666666666666,
              "#ed7953"
             ],
             [
              0.7777777777777778,
              "#fb9f3a"
             ],
             [
              0.8888888888888888,
              "#fdca26"
             ],
             [
              1,
              "#f0f921"
             ]
            ],
            "type": "surface"
           }
          ],
          "table": [
           {
            "cells": {
             "fill": {
              "color": "#EBF0F8"
             },
             "line": {
              "color": "white"
             }
            },
            "header": {
             "fill": {
              "color": "#C8D4E3"
             },
             "line": {
              "color": "white"
             }
            },
            "type": "table"
           }
          ]
         },
         "layout": {
          "annotationdefaults": {
           "arrowcolor": "#2a3f5f",
           "arrowhead": 0,
           "arrowwidth": 1
          },
          "coloraxis": {
           "colorbar": {
            "outlinewidth": 0,
            "ticks": ""
           }
          },
          "colorscale": {
           "diverging": [
            [
             0,
             "#8e0152"
            ],
            [
             0.1,
             "#c51b7d"
            ],
            [
             0.2,
             "#de77ae"
            ],
            [
             0.3,
             "#f1b6da"
            ],
            [
             0.4,
             "#fde0ef"
            ],
            [
             0.5,
             "#f7f7f7"
            ],
            [
             0.6,
             "#e6f5d0"
            ],
            [
             0.7,
             "#b8e186"
            ],
            [
             0.8,
             "#7fbc41"
            ],
            [
             0.9,
             "#4d9221"
            ],
            [
             1,
             "#276419"
            ]
           ],
           "sequential": [
            [
             0,
             "#0d0887"
            ],
            [
             0.1111111111111111,
             "#46039f"
            ],
            [
             0.2222222222222222,
             "#7201a8"
            ],
            [
             0.3333333333333333,
             "#9c179e"
            ],
            [
             0.4444444444444444,
             "#bd3786"
            ],
            [
             0.5555555555555556,
             "#d8576b"
            ],
            [
             0.6666666666666666,
             "#ed7953"
            ],
            [
             0.7777777777777778,
             "#fb9f3a"
            ],
            [
             0.8888888888888888,
             "#fdca26"
            ],
            [
             1,
             "#f0f921"
            ]
           ],
           "sequentialminus": [
            [
             0,
             "#0d0887"
            ],
            [
             0.1111111111111111,
             "#46039f"
            ],
            [
             0.2222222222222222,
             "#7201a8"
            ],
            [
             0.3333333333333333,
             "#9c179e"
            ],
            [
             0.4444444444444444,
             "#bd3786"
            ],
            [
             0.5555555555555556,
             "#d8576b"
            ],
            [
             0.6666666666666666,
             "#ed7953"
            ],
            [
             0.7777777777777778,
             "#fb9f3a"
            ],
            [
             0.8888888888888888,
             "#fdca26"
            ],
            [
             1,
             "#f0f921"
            ]
           ]
          },
          "colorway": [
           "#636efa",
           "#EF553B",
           "#00cc96",
           "#ab63fa",
           "#FFA15A",
           "#19d3f3",
           "#FF6692",
           "#B6E880",
           "#FF97FF",
           "#FECB52"
          ],
          "font": {
           "color": "#2a3f5f"
          },
          "geo": {
           "bgcolor": "white",
           "lakecolor": "white",
           "landcolor": "#E5ECF6",
           "showlakes": true,
           "showland": true,
           "subunitcolor": "white"
          },
          "hoverlabel": {
           "align": "left"
          },
          "hovermode": "closest",
          "mapbox": {
           "style": "light"
          },
          "paper_bgcolor": "white",
          "plot_bgcolor": "#E5ECF6",
          "polar": {
           "angularaxis": {
            "gridcolor": "white",
            "linecolor": "white",
            "ticks": ""
           },
           "bgcolor": "#E5ECF6",
           "radialaxis": {
            "gridcolor": "white",
            "linecolor": "white",
            "ticks": ""
           }
          },
          "scene": {
           "xaxis": {
            "backgroundcolor": "#E5ECF6",
            "gridcolor": "white",
            "gridwidth": 2,
            "linecolor": "white",
            "showbackground": true,
            "ticks": "",
            "zerolinecolor": "white"
           },
           "yaxis": {
            "backgroundcolor": "#E5ECF6",
            "gridcolor": "white",
            "gridwidth": 2,
            "linecolor": "white",
            "showbackground": true,
            "ticks": "",
            "zerolinecolor": "white"
           },
           "zaxis": {
            "backgroundcolor": "#E5ECF6",
            "gridcolor": "white",
            "gridwidth": 2,
            "linecolor": "white",
            "showbackground": true,
            "ticks": "",
            "zerolinecolor": "white"
           }
          },
          "shapedefaults": {
           "line": {
            "color": "#2a3f5f"
           }
          },
          "ternary": {
           "aaxis": {
            "gridcolor": "white",
            "linecolor": "white",
            "ticks": ""
           },
           "baxis": {
            "gridcolor": "white",
            "linecolor": "white",
            "ticks": ""
           },
           "bgcolor": "#E5ECF6",
           "caxis": {
            "gridcolor": "white",
            "linecolor": "white",
            "ticks": ""
           }
          },
          "title": {
           "x": 0.05
          },
          "xaxis": {
           "automargin": true,
           "gridcolor": "white",
           "linecolor": "white",
           "ticks": "",
           "title": {
            "standoff": 15
           },
           "zerolinecolor": "white",
           "zerolinewidth": 2
          },
          "yaxis": {
           "automargin": true,
           "gridcolor": "white",
           "linecolor": "white",
           "ticks": "",
           "title": {
            "standoff": 15
           },
           "zerolinecolor": "white",
           "zerolinewidth": 2
          }
         }
        }
       }
      },
      "image/png": "[encoded data removed]",
      "text/html": [
       "<div>\n",
       "        \n",
       "        \n",
       "            <div id=\"4e3e48b0-cfde-4678-a44d-82d188611b2c\" class=\"plotly-graph-div\" style=\"height:525px; width:100%;\"></div>\n",
       "            <script type=\"text/javascript\">\n",
       "                require([\"plotly\"], function(Plotly) {\n",
       "                    window.PLOTLYENV=window.PLOTLYENV || {};\n",
       "                    \n",
       "                if (document.getElementById(\"4e3e48b0-cfde-4678-a44d-82d188611b2c\")) {\n",
       "                    Plotly.newPlot(\n",
       "                        '4e3e48b0-cfde-4678-a44d-82d188611b2c',\n",
       "                        [{\"coloraxis\": \"coloraxis\", \"geo\": \"geo\", \"hoverlabel\": {\"namelength\": 0}, \"hovertemplate\": \"<b>%{hovertext}</b><br><br>countryterritoryCode=%{location}<br>Casi Covid per unit\\u00e0 di popolazione=%{z}\", \"hovertext\": [\"Aruba\", \"Afghanistan\", \"Angola\", \"Anguilla\", \"Albania\", \"Andorra\", \"United_Arab_Emirates\", \"Argentina\", \"Armenia\", \"Antigua_and_Barbuda\", \"Australia\", \"Austria\", \"Azerbaijan\", \"Burundi\", \"Belgium\", \"Benin\", \"Bonaire, Saint Eustatius and Saba\", \"Burkina_Faso\", \"Bangladesh\", \"Bulgaria\", \"Bahrain\", \"Bahamas\", \"Bosnia_and_Herzegovina\", \"Belarus\", \"Belize\", \"Bermuda\", \"Bolivia\", \"Brazil\", \"Barbados\", \"Brunei_Darussalam\", \"Bhutan\", \"Botswana\", \"Central_African_Republic\", \"Canada\", \"Switzerland\", \"Chile\", \"China\", \"Cote_dIvoire\", \"Cameroon\", \"Taiwan\", \"Democratic_Republic_of_the_Congo\", \"Congo\", \"Colombia\", \"Comoros\", \"Cape_Verde\", \"Costa_Rica\", \"Cuba\", \"Cura\\u00e7ao\", \"Cayman_Islands\", \"Cyprus\", \"Czechia\", \"Germany\", \"Djibouti\", \"Dominica\", \"Denmark\", \"Dominican_Republic\", \"Algeria\", \"Ecuador\", \"Egypt\", \"Eritrea\", \"Western_Sahara\", \"Spain\", \"Estonia\", \"Ethiopia\", \"Finland\", \"Fiji\", \"Falkland_Islands_(Malvinas)\", \"France\", \"Faroe_Islands\", \"Gabon\", \"United_Kingdom\", \"Georgia\", \"Guernsey\", \"Ghana\", \"Gibraltar\", \"Guinea\", \"Gambia\", \"Guinea_Bissau\", \"Equatorial_Guinea\", \"Greece\", \"Grenada\", \"Greenland\", \"Guatemala\", \"Guam\", \"Guyana\", \"Honduras\", \"Croatia\", \"Haiti\", \"Hungary\", \"Indonesia\", \"Isle_of_Man\", \"India\", \"Ireland\", \"Iran\", \"Iraq\", \"Iceland\", \"Israel\", \"Italy\", \"Jamaica\", \"Jersey\", \"Jordan\", \"Japan\", \"Kazakhstan\", \"Kenya\", \"Kyrgyzstan\", \"Cambodia\", \"Saint_Kitts_and_Nevis\", \"South_Korea\", \"Kuwait\", \"Laos\", \"Lebanon\", \"Liberia\", \"Libya\", \"Saint_Lucia\", \"Liechtenstein\", \"Sri_Lanka\", \"Lesotho\", \"Lithuania\", \"Luxembourg\", \"Latvia\", \"Morocco\", \"Monaco\", \"Moldova\", \"Madagascar\", \"Maldives\", \"Mexico\", \"North_Macedonia\", \"Mali\", \"Malta\", \"Myanmar\", \"Montenegro\", \"Mongolia\", \"Northern_Mariana_Islands\", \"Mozambique\", \"Mauritania\", \"Montserrat\", \"Mauritius\", \"Malawi\", \"Malaysia\", \"Namibia\", \"New_Caledonia\", \"Niger\", \"Nigeria\", \"Nicaragua\", \"Netherlands\", \"Norway\", \"Nepal\", \"New_Zealand\", \"Oman\", \"Pakistan\", \"Panama\", \"Peru\", \"Philippines\", \"Papua_New_Guinea\", \"Poland\", \"Puerto_Rico\", \"Portugal\", \"Paraguay\", \"Palestine\", \"French_Polynesia\", \"Qatar\", \"Romania\", \"Russia\", \"Rwanda\", \"Saudi_Arabia\", \"Sudan\", \"Senegal\", \"Singapore\", \"Sierra_Leone\", \"El_Salvador\", \"San_Marino\", \"Somalia\", \"Serbia\", \"South_Sudan\", \"Sao_Tome_and_Principe\", \"Suriname\", \"Slovakia\", \"Slovenia\", \"Sweden\", \"Eswatini\", \"Sint_Maarten\", \"Seychelles\", \"Syria\", \"Turks_and_Caicos_islands\", \"Chad\", \"Togo\", \"Thailand\", \"Tajikistan\", \"Timor_Leste\", \"Trinidad_and_Tobago\", \"Tunisia\", \"Turkey\", \"United_Republic_of_Tanzania\", \"Uganda\", \"Ukraine\", \"Uruguay\", \"United_States_of_America\", \"Uzbekistan\", \"Holy_See\", \"Saint_Vincent_and_the_Grenadines\", \"Venezuela\", \"British_Virgin_Islands\", \"United_States_Virgin_Islands\", \"Vietnam\", \"Kosovo\", \"Yemen\", \"South_Africa\", \"Zambia\", \"Zimbabwe\"], \"locations\": [\"ABW\", \"AFG\", \"AGO\", \"AIA\", \"ALB\", \"AND\", \"ARE\", \"ARG\", \"ARM\", \"ATG\", \"AUS\", \"AUT\", \"AZE\", \"BDI\", \"BEL\", \"BEN\", \"BES\", \"BFA\", \"BGD\", \"BGR\", \"BHR\", \"BHS\", \"BIH\", \"BLR\", \"BLZ\", \"BMU\", \"BOL\", \"BRA\", \"BRB\", \"BRN\", \"BTN\", \"BWA\", \"CAF\", \"CAN\", \"CHE\", \"CHL\", \"CHN\", \"CIV\", \"CMR\", \"CNG1925\", \"COD\", \"COG\", \"COL\", \"COM\", \"CPV\", \"CRI\", \"CUB\", \"CUW\", \"CYM\", \"CYP\", \"CZE\", \"DEU\", \"DJI\", \"DMA\", \"DNK\", \"DOM\", \"DZA\", \"ECU\", \"EGY\", \"ERI\", \"ESH\", \"ESP\", \"EST\", \"ETH\", \"FIN\", \"FJI\", \"FLK\", \"FRA\", \"FRO\", \"GAB\", \"GBR\", \"GEO\", \"GGY\", \"GHA\", \"GIB\", \"GIN\", \"GMB\", \"GNB\", \"GNQ\", \"GRC\", \"GRD\", \"GRL\", \"GTM\", \"GUM\", \"GUY\", \"HND\", \"HRV\", \"HTI\", \"HUN\", \"IDN\", \"IMN\", \"IND\", \"IRL\", \"IRN\", \"IRQ\", \"ISL\", \"ISR\", \"ITA\", \"JAM\", \"JEY\", \"JOR\", \"JPN\", \"KAZ\", \"KEN\", \"KGZ\", \"KHM\", \"KNA\", \"KOR\", \"KWT\", \"LAO\", \"LBN\", \"LBR\", \"LBY\", \"LCA\", \"LIE\", \"LKA\", \"LSO\", \"LTU\", \"LUX\", \"LVA\", \"MAR\", \"MCO\", \"MDA\", \"MDG\", \"MDV\", \"MEX\", \"MKD\", \"MLI\", \"MLT\", \"MMR\", \"MNE\", \"MNG\", \"MNP\", \"MOZ\", \"MRT\", \"MSR\", \"MUS\", \"MWI\", \"MYS\", \"NAM\", \"NCL\", \"NER\", \"NGA\", \"NIC\", \"NLD\", \"NOR\", \"NPL\", \"NZL\", \"OMN\", \"PAK\", \"PAN\", \"PER\", \"PHL\", \"PNG\", \"POL\", \"PRI\", \"PRT\", \"PRY\", \"PSE\", \"PYF\", \"QAT\", \"ROU\", \"RUS\", \"RWA\", \"SAU\", \"SDN\", \"SEN\", \"SGP\", \"SLE\", \"SLV\", \"SMR\", \"SOM\", \"SRB\", \"SSD\", \"STP\", \"SUR\", \"SVK\", \"SVN\", \"SWE\", \"SWZ\", \"SXM\", \"SYC\", \"SYR\", \"TCA\", \"TCD\", \"TGO\", \"THA\", \"TJK\", \"TLS\", \"TTO\", \"TUN\", \"TUR\", \"TZA\", \"UGA\", \"UKR\", \"URY\", \"USA\", \"UZB\", \"VAT\", \"VCT\", \"VEN\", \"VGB\", \"VIR\", \"VNM\", \"XKX\", \"YEM\", \"ZAF\", \"ZMB\", \"ZWE\"], \"name\": \"\", \"type\": \"choropleth\", \"z\": [0.001138180792023328, 0.0009649922320885441, 3.484649115158353e-05, 0.0002017213555675094, 0.0018431911102012384, 0.012142772752930674, 0.006192706513446666, 0.004139285528858151, 0.0131320391868353, 0.0009370334139937187, 0.0006707481589639411, 0.0023815933918628703, 0.0031726603819234992, 3.3562934448119985e-05, 0.00599344298586559, 0.00015295118247364177, 0.00042335373128584076, 5.624617182797057e-05, 0.0014576300420127003, 0.0016699906957661236, 0.02497130085719648, 0.0014737371818242505, 0.0034668303343413113, 0.007173621031421725, 0.00012296625344881913, 0.00249568055288923, 0.006669705523324644, 0.01261545163720558, 0.00038324721884461417, 0.00032541265093608067, 0.00013235590897058553, 0.0003490033220428154, 0.0009710908692801683, 0.003108654723774304, 0.00410438167027853, 0.01876669180908541, 6.113544217937722e-05, 0.0006239949567115407, 0.0006668241590296203, 1.9643406139704324e-05, 0.00010450444338606011, 0.0006274505139295501, 0.005870307305545673, 0.0004489411687278394, 0.004456882255389718, 0.0035304179582970863, 0.00023011458788841984, 0.00017745360200216616, 0.003125577384984911, 0.0012718361363581875, 0.0015562733572461454, 0.0025253551849497777, 0.005219006180429087, 0.000250668449197861, 0.0023749238083312996, 0.0064856391547149315, 0.0007059661783807486, 0.004912897727864663, 0.0009371431722628094, 7.978000164135201e-05, 0.0013151162830624698, 0.006146997702881262, 0.0015579474947540043, 0.00015640791494714247, 0.0013468845773198194, 3.0338612626481113e-05, 0.003855278766310795, 0.002804221988180989, 0.0046223062226513545, 0.003383998180962893, 0.004549049327148639, 0.0002922365654997721, 0.003908916051374325, 0.0011671104520245969, 0.005547973654542218, 0.0005722229452004918, 0.0002121228642890732, 0.001031278290524786, 0.0022647793259792533, 0.0004174515056460386, 0.00021428188782343172, 0.000247087892693258, 0.0028319010303799294, 0.0021459099196030965, 0.0005276101050748939, 0.0043506566462636655, 0.001260473484671926, 0.0006591448040096318, 0.0004609753891328096, 0.0004004647498807827, 0.0039721476787762, 0.0012411928874261496, 0.005314788835782914, 0.0036689146896045515, 0.00316992289121674, 0.005280245160242135, 0.008330425255473613, 0.004101041449185188, 0.00029305251847095776, 0.0031077219933949313, 0.00011809896891581682, 0.00027094370950520936, 0.00487116140062102, 0.0003925136560457764, 0.005657706202965125, 1.4496672498089654e-05, 0.00032176250141954045, 0.0002798615942299317, 0.01591532553361871, 2.7896119315049847e-06, 0.0006644097641833981, 0.0002402086615273625, 0.0004753998294049402, 0.0001367652288082278, 0.0023190369482516027, 0.00013201252651153875, 0.0002841995852756383, 0.0007426139438204499, 0.010905791553590685, 0.0006411565192753212, 0.0006668720127234859, 0.003627021308750189, 0.006117096658190004, 0.0004029766283196164, 0.007143704669116332, 0.0033285145147232743, 0.005181182515121812, 0.00012895498189212617, 0.001669506583812675, 6.531543041702958e-06, 0.00500175189896204, 9.022791385001578e-05, 0.000734098893608096, 6.138435620340787e-05, 0.0013909456618625459, 0.002604688439190543, 0.0002709365425661786, 0.00021890895625895223, 0.00028094082248868684, 0.0008534694394601936, 7.78053240061254e-05, 4.8647148120999614e-05, 0.00021472047353768831, 0.0005609958470724098, 0.003142025682780564, 0.0017281594651263877, 0.0006910831192522978, 0.0002533941646585388, 0.015911382370062104, 0.0012850857369742174, 0.015367225252211264, 0.012756970356188726, 0.0008634564997785447, 8.204082009371112e-06, 0.0012031766306904003, 0.005720657638702341, 0.004969728851430388, 0.0007577393248965632, 0.003057761418325932, 0.000221995452673792, 0.039086237597856836, 0.0026210363431211935, 0.0057583326672254204, 0.00016013383450524585, 0.008051264762488054, 0.00027197196044765313, 0.000627870195814256, 0.008994127328450438, 0.00023268294312437903, 0.002577186199843497, 0.020781934809740808, 0.0002079919414130993, 0.003669280004319503, 0.0002099056292495268, 0.004050258546929058, 0.0029344832746494016, 0.0004205179746665441, 0.001040411205108539, 0.0078612459109977, 0.0023063530096251914, 0.0030196513246361083, 0.0011663477967280875, 4.32334090913884e-05, 0.0028014871445776824, 5.8694859597004604e-05, 0.00011642640471674173, 4.756872334034814e-05, 0.0007948698334935983, 1.8559762435040832e-05, 0.00012114964561936502, 0.0001312558033663223, 0.0028153911055088833, 8.775035853951752e-06, 2.606755739555465e-05, 0.0015885022297426018, 0.00036513524592176575, 0.013863638341002484, 0.0007368931542826078, 0.014723926380368098, 0.00048827683488105036, 0.0006513575319868835, 0.0002663736556454567, 0.0038822325705925665, 5.784654840841753e-06, 0.0045059621708240065, 5.925535360803722e-05, 0.008422090086784843, 0.0003338552516052542, 0.00021638085707440107]}],\n",
       "                        {\"coloraxis\": {\"colorbar\": {\"title\": {\"text\": \"Casi Covid per unit\\u00e0 di popolazione\"}}, \"colorscale\": [[0.0, \"#0d0887\"], [0.1111111111111111, \"#46039f\"], [0.2222222222222222, \"#7201a8\"], [0.3333333333333333, \"#9c179e\"], [0.4444444444444444, \"#bd3786\"], [0.5555555555555556, \"#d8576b\"], [0.6666666666666666, \"#ed7953\"], [0.7777777777777778, \"#fb9f3a\"], [0.8888888888888888, \"#fdca26\"], [1.0, \"#f0f921\"]]}, \"geo\": {\"center\": {}, \"domain\": {\"x\": [0.0, 1.0], \"y\": [0.0, 1.0]}}, \"legend\": {\"tracegroupgap\": 0}, \"margin\": {\"b\": 0, \"l\": 0, \"r\": 0, \"t\": 0}, \"template\": {\"data\": {\"bar\": [{\"error_x\": {\"color\": \"#2a3f5f\"}, \"error_y\": {\"color\": \"#2a3f5f\"}, \"marker\": {\"line\": {\"color\": \"#E5ECF6\", \"width\": 0.5}}, \"type\": \"bar\"}], \"barpolar\": [{\"marker\": {\"line\": {\"color\": \"#E5ECF6\", \"width\": 0.5}}, \"type\": \"barpolar\"}], \"carpet\": [{\"aaxis\": {\"endlinecolor\": \"#2a3f5f\", \"gridcolor\": \"white\", \"linecolor\": \"white\", \"minorgridcolor\": \"white\", \"startlinecolor\": \"#2a3f5f\"}, \"baxis\": {\"endlinecolor\": \"#2a3f5f\", \"gridcolor\": \"white\", \"linecolor\": \"white\", \"minorgridcolor\": \"white\", \"startlinecolor\": \"#2a3f5f\"}, \"type\": \"carpet\"}], \"choropleth\": [{\"colorbar\": {\"outlinewidth\": 0, \"ticks\": \"\"}, \"type\": \"choropleth\"}], \"contour\": [{\"colorbar\": {\"outlinewidth\": 0, \"ticks\": \"\"}, \"colorscale\": [[0.0, \"#0d0887\"], [0.1111111111111111, \"#46039f\"], [0.2222222222222222, \"#7201a8\"], [0.3333333333333333, \"#9c179e\"], [0.4444444444444444, \"#bd3786\"], [0.5555555555555556, \"#d8576b\"], [0.6666666666666666, \"#ed7953\"], [0.7777777777777778, \"#fb9f3a\"], [0.8888888888888888, \"#fdca26\"], [1.0, \"#f0f921\"]], \"type\": \"contour\"}], \"contourcarpet\": [{\"colorbar\": {\"outlinewidth\": 0, \"ticks\": \"\"}, \"type\": \"contourcarpet\"}], \"heatmap\": [{\"colorbar\": {\"outlinewidth\": 0, \"ticks\": \"\"}, \"colorscale\": [[0.0, \"#0d0887\"], [0.1111111111111111, \"#46039f\"], [0.2222222222222222, \"#7201a8\"], [0.3333333333333333, \"#9c179e\"], [0.4444444444444444, \"#bd3786\"], [0.5555555555555556, \"#d8576b\"], [0.6666666666666666, \"#ed7953\"], [0.7777777777777778, \"#fb9f3a\"], [0.8888888888888888, \"#fdca26\"], [1.0, \"#f0f921\"]], \"type\": \"heatmap\"}], \"heatmapgl\": [{\"colorbar\": {\"outlinewidth\": 0, \"ticks\": \"\"}, \"colorscale\": [[0.0, \"#0d0887\"], [0.1111111111111111, \"#46039f\"], [0.2222222222222222, \"#7201a8\"], [0.3333333333333333, \"#9c179e\"], [0.4444444444444444, \"#bd3786\"], [0.5555555555555556, \"#d8576b\"], [0.6666666666666666, \"#ed7953\"], [0.7777777777777778, \"#fb9f3a\"], [0.8888888888888888, \"#fdca26\"], [1.0, \"#f0f921\"]], \"type\": \"heatmapgl\"}], \"histogram\": [{\"marker\": {\"colorbar\": {\"outlinewidth\": 0, \"ticks\": \"\"}}, \"type\": \"histogram\"}], \"histogram2d\": [{\"colorbar\": {\"outlinewidth\": 0, \"ticks\": \"\"}, \"colorscale\": [[0.0, \"#0d0887\"], [0.1111111111111111, \"#46039f\"], [0.2222222222222222, \"#7201a8\"], [0.3333333333333333, \"#9c179e\"], [0.4444444444444444, \"#bd3786\"], [0.5555555555555556, \"#d8576b\"], [0.6666666666666666, \"#ed7953\"], [0.7777777777777778, \"#fb9f3a\"], [0.8888888888888888, \"#fdca26\"], [1.0, \"#f0f921\"]], \"type\": \"histogram2d\"}], \"histogram2dcontour\": [{\"colorbar\": {\"outlinewidth\": 0, \"ticks\": \"\"}, \"colorscale\": [[0.0, \"#0d0887\"], [0.1111111111111111, \"#46039f\"], [0.2222222222222222, \"#7201a8\"], [0.3333333333333333, \"#9c179e\"], [0.4444444444444444, \"#bd3786\"], [0.5555555555555556, \"#d8576b\"], [0.6666666666666666, \"#ed7953\"], [0.7777777777777778, \"#fb9f3a\"], [0.8888888888888888, \"#fdca26\"], [1.0, \"#f0f921\"]], \"type\": \"histogram2dcontour\"}], \"mesh3d\": [{\"colorbar\": {\"outlinewidth\": 0, \"ticks\": \"\"}, \"type\": \"mesh3d\"}], \"parcoords\": [{\"line\": {\"colorbar\": {\"outlinewidth\": 0, \"ticks\": \"\"}}, \"type\": \"parcoords\"}], \"pie\": [{\"automargin\": true, \"type\": \"pie\"}], \"scatter\": [{\"marker\": {\"colorbar\": {\"outlinewidth\": 0, \"ticks\": \"\"}}, \"type\": \"scatter\"}], \"scatter3d\": [{\"line\": {\"colorbar\": {\"outlinewidth\": 0, \"ticks\": \"\"}}, \"marker\": {\"colorbar\": {\"outlinewidth\": 0, \"ticks\": \"\"}}, \"type\": \"scatter3d\"}], \"scattercarpet\": [{\"marker\": {\"colorbar\": {\"outlinewidth\": 0, \"ticks\": \"\"}}, \"type\": \"scattercarpet\"}], \"scattergeo\": [{\"marker\": {\"colorbar\": {\"outlinewidth\": 0, \"ticks\": \"\"}}, \"type\": \"scattergeo\"}], \"scattergl\": [{\"marker\": {\"colorbar\": {\"outlinewidth\": 0, \"ticks\": \"\"}}, \"type\": \"scattergl\"}], \"scattermapbox\": [{\"marker\": {\"colorbar\": {\"outlinewidth\": 0, \"ticks\": \"\"}}, \"type\": \"scattermapbox\"}], \"scatterpolar\": [{\"marker\": {\"colorbar\": {\"outlinewidth\": 0, \"ticks\": \"\"}}, \"type\": \"scatterpolar\"}], \"scatterpolargl\": [{\"marker\": {\"colorbar\": {\"outlinewidth\": 0, \"ticks\": \"\"}}, \"type\": \"scatterpolargl\"}], \"scatterternary\": [{\"marker\": {\"colorbar\": {\"outlinewidth\": 0, \"ticks\": \"\"}}, \"type\": \"scatterternary\"}], \"surface\": [{\"colorbar\": {\"outlinewidth\": 0, \"ticks\": \"\"}, \"colorscale\": [[0.0, \"#0d0887\"], [0.1111111111111111, \"#46039f\"], [0.2222222222222222, \"#7201a8\"], [0.3333333333333333, \"#9c179e\"], [0.4444444444444444, \"#bd3786\"], [0.5555555555555556, \"#d8576b\"], [0.6666666666666666, \"#ed7953\"], [0.7777777777777778, \"#fb9f3a\"], [0.8888888888888888, \"#fdca26\"], [1.0, \"#f0f921\"]], \"type\": \"surface\"}], \"table\": [{\"cells\": {\"fill\": {\"color\": \"#EBF0F8\"}, \"line\": {\"color\": \"white\"}}, \"header\": {\"fill\": {\"color\": \"#C8D4E3\"}, \"line\": {\"color\": \"white\"}}, \"type\": \"table\"}]}, \"layout\": {\"annotationdefaults\": {\"arrowcolor\": \"#2a3f5f\", \"arrowhead\": 0, \"arrowwidth\": 1}, \"coloraxis\": {\"colorbar\": {\"outlinewidth\": 0, \"ticks\": \"\"}}, \"colorscale\": {\"diverging\": [[0, \"#8e0152\"], [0.1, \"#c51b7d\"], [0.2, \"#de77ae\"], [0.3, \"#f1b6da\"], [0.4, \"#fde0ef\"], [0.5, \"#f7f7f7\"], [0.6, \"#e6f5d0\"], [0.7, \"#b8e186\"], [0.8, \"#7fbc41\"], [0.9, \"#4d9221\"], [1, \"#276419\"]], \"sequential\": [[0.0, \"#0d0887\"], [0.1111111111111111, \"#46039f\"], [0.2222222222222222, \"#7201a8\"], [0.3333333333333333, \"#9c179e\"], [0.4444444444444444, \"#bd3786\"], [0.5555555555555556, \"#d8576b\"], [0.6666666666666666, \"#ed7953\"], [0.7777777777777778, \"#fb9f3a\"], [0.8888888888888888, \"#fdca26\"], [1.0, \"#f0f921\"]], \"sequentialminus\": [[0.0, \"#0d0887\"], [0.1111111111111111, \"#46039f\"], [0.2222222222222222, \"#7201a8\"], [0.3333333333333333, \"#9c179e\"], [0.4444444444444444, \"#bd3786\"], [0.5555555555555556, \"#d8576b\"], [0.6666666666666666, \"#ed7953\"], [0.7777777777777778, \"#fb9f3a\"], [0.8888888888888888, \"#fdca26\"], [1.0, \"#f0f921\"]]}, \"colorway\": [\"#636efa\", \"#EF553B\", \"#00cc96\", \"#ab63fa\", \"#FFA15A\", \"#19d3f3\", \"#FF6692\", \"#B6E880\", \"#FF97FF\", \"#FECB52\"], \"font\": {\"color\": \"#2a3f5f\"}, \"geo\": {\"bgcolor\": \"white\", \"lakecolor\": \"white\", \"landcolor\": \"#E5ECF6\", \"showlakes\": true, \"showland\": true, \"subunitcolor\": \"white\"}, \"hoverlabel\": {\"align\": \"left\"}, \"hovermode\": \"closest\", \"mapbox\": {\"style\": \"light\"}, \"paper_bgcolor\": \"white\", \"plot_bgcolor\": \"#E5ECF6\", \"polar\": {\"angularaxis\": {\"gridcolor\": \"white\", \"linecolor\": \"white\", \"ticks\": \"\"}, \"bgcolor\": \"#E5ECF6\", \"radialaxis\": {\"gridcolor\": \"white\", \"linecolor\": \"white\", \"ticks\": \"\"}}, \"scene\": {\"xaxis\": {\"backgroundcolor\": \"#E5ECF6\", \"gridcolor\": \"white\", \"gridwidth\": 2, \"linecolor\": \"white\", \"showbackground\": true, \"ticks\": \"\", \"zerolinecolor\": \"white\"}, \"yaxis\": {\"backgroundcolor\": \"#E5ECF6\", \"gridcolor\": \"white\", \"gridwidth\": 2, \"linecolor\": \"white\", \"showbackground\": true, \"ticks\": \"\", \"zerolinecolor\": \"white\"}, \"zaxis\": {\"backgroundcolor\": \"#E5ECF6\", \"gridcolor\": \"white\", \"gridwidth\": 2, \"linecolor\": \"white\", \"showbackground\": true, \"ticks\": \"\", \"zerolinecolor\": \"white\"}}, \"shapedefaults\": {\"line\": {\"color\": \"#2a3f5f\"}}, \"ternary\": {\"aaxis\": {\"gridcolor\": \"white\", \"linecolor\": \"white\", \"ticks\": \"\"}, \"baxis\": {\"gridcolor\": \"white\", \"linecolor\": \"white\", \"ticks\": \"\"}, \"bgcolor\": \"#E5ECF6\", \"caxis\": {\"gridcolor\": \"white\", \"linecolor\": \"white\", \"ticks\": \"\"}}, \"title\": {\"x\": 0.05}, \"xaxis\": {\"automargin\": true, \"gridcolor\": \"white\", \"linecolor\": \"white\", \"ticks\": \"\", \"title\": {\"standoff\": 15}, \"zerolinecolor\": \"white\", \"zerolinewidth\": 2}, \"yaxis\": {\"automargin\": true, \"gridcolor\": \"white\", \"linecolor\": \"white\", \"ticks\": \"\", \"title\": {\"standoff\": 15}, \"zerolinecolor\": \"white\", \"zerolinewidth\": 2}}}},\n",
       "                        {\"responsive\": true}\n",
       "                    ).then(function(){\n",
       "                            \n",
       "var gd = document.getElementById('4e3e48b0-cfde-4678-a44d-82d188611b2c');\n",
       "var x = new MutationObserver(function (mutations, observer) {{\n",
       "        var display = window.getComputedStyle(gd).display;\n",
       "        if (!display || display === 'none') {{\n",
       "            console.log([gd, 'removed!']);\n",
       "            Plotly.purge(gd);\n",
       "            observer.disconnect();\n",
       "        }}\n",
       "}});\n",
       "\n",
       "// Listen for the removal of the full notebook cells\n",
       "var notebookContainer = gd.closest('#notebook-container');\n",
       "if (notebookContainer) {{\n",
       "    x.observe(notebookContainer, {childList: true});\n",
       "}}\n",
       "\n",
       "// Listen for the clearing of the current output cell\n",
       "var outputEl = gd.closest('.output');\n",
       "if (outputEl) {{\n",
       "    x.observe(outputEl, {childList: true});\n",
       "}}\n",
       "\n",
       "                        })\n",
       "                };\n",
       "                });\n",
       "            </script>\n",
       "        </div>"
      ]
     },
     "metadata": {},
     "output_type": "display_data"
    }
   ],
   "source": [
    "df_covid_cases_grp['Cases_x_pop'] = df_covid_cases_grp['TotalCases']/df_covid_cases_grp['popData2019']\n",
    "\n",
    "fig = px.choropleth(df_covid_cases_grp, locations=\"countryterritoryCode\",\n",
    "                    color=\"Cases_x_pop\", # lifeExp is a column of gapminder\n",
    "                    hover_name=\"countryName\", # column to add to hover information\n",
    "                    color_continuous_scale=px.colors.sequential.Plasma,\n",
    "                   labels={'Cases_x_pop':'Casi Covid per unità di popolazione'})\n",
    "#disegno\n",
    "fig.update_layout(margin={\"r\":0,\"t\":0,\"l\":0,\"b\":0})\n",
    "fig.show()"
   ]
  },
  {
   "cell_type": "code",
   "execution_count": null,
   "metadata": {},
   "outputs": [],
   "source": []
  }
 ],
 "metadata": {
  "kernelspec": {
   "display_name": "Python 3",
   "language": "python",
   "name": "python3"
  },
  "language_info": {
   "codemirror_mode": {
    "name": "ipython",
    "version": 3
   },
   "file_extension": ".py",
   "mimetype": "text/x-python",
   "name": "python",
   "nbconvert_exporter": "python",
   "pygments_lexer": "ipython3",
   "version": "3.7.3"
  }
 },
 "nbformat": 4,
 "nbformat_minor": 4
}
