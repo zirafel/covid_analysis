{
 "cells": [
  {
   "cell_type": "code",
   "execution_count": 15,
   "metadata": {},
   "outputs": [
    {
     "data": {
      "text/html": [
       "<div>\n",
       "<style scoped>\n",
       "    .dataframe tbody tr th:only-of-type {\n",
       "        vertical-align: middle;\n",
       "    }\n",
       "\n",
       "    .dataframe tbody tr th {\n",
       "        vertical-align: top;\n",
       "    }\n",
       "\n",
       "    .dataframe thead th {\n",
       "        text-align: right;\n",
       "    }\n",
       "</style>\n",
       "<table border=\"1\" class=\"dataframe\">\n",
       "  <thead>\n",
       "    <tr style=\"text-align: right;\">\n",
       "      <th></th>\n",
       "      <th>codice_provincia</th>\n",
       "      <th>codice_regione</th>\n",
       "      <th>daily_cases</th>\n",
       "      <th>data</th>\n",
       "      <th>denominazione_provincia</th>\n",
       "      <th>denominazione_regione</th>\n",
       "      <th>lat</th>\n",
       "      <th>lon</th>\n",
       "      <th>long</th>\n",
       "      <th>note</th>\n",
       "      <th>sigla_provincia</th>\n",
       "      <th>stato</th>\n",
       "      <th>totale_casi</th>\n",
       "      <th>IQA</th>\n",
       "    </tr>\n",
       "  </thead>\n",
       "  <tbody>\n",
       "    <tr>\n",
       "      <th>0</th>\n",
       "      <td>37</td>\n",
       "      <td>8</td>\n",
       "      <td>0.0</td>\n",
       "      <td>2020-02-24</td>\n",
       "      <td>Bologna</td>\n",
       "      <td>Emilia-Romagna</td>\n",
       "      <td>44.494367</td>\n",
       "      <td>NaN</td>\n",
       "      <td>11.341721</td>\n",
       "      <td>NaN</td>\n",
       "      <td>BO</td>\n",
       "      <td>ITA</td>\n",
       "      <td>0</td>\n",
       "      <td>90.000000</td>\n",
       "    </tr>\n",
       "    <tr>\n",
       "      <th>1</th>\n",
       "      <td>37</td>\n",
       "      <td>8</td>\n",
       "      <td>0.0</td>\n",
       "      <td>2020-02-25</td>\n",
       "      <td>Bologna</td>\n",
       "      <td>Emilia-Romagna</td>\n",
       "      <td>44.494367</td>\n",
       "      <td>NaN</td>\n",
       "      <td>11.341721</td>\n",
       "      <td>NaN</td>\n",
       "      <td>BO</td>\n",
       "      <td>ITA</td>\n",
       "      <td>0</td>\n",
       "      <td>64.000000</td>\n",
       "    </tr>\n",
       "    <tr>\n",
       "      <th>2</th>\n",
       "      <td>37</td>\n",
       "      <td>8</td>\n",
       "      <td>0.0</td>\n",
       "      <td>2020-02-26</td>\n",
       "      <td>Bologna</td>\n",
       "      <td>Emilia-Romagna</td>\n",
       "      <td>44.494367</td>\n",
       "      <td>NaN</td>\n",
       "      <td>11.341721</td>\n",
       "      <td>NaN</td>\n",
       "      <td>BO</td>\n",
       "      <td>ITA</td>\n",
       "      <td>0</td>\n",
       "      <td>26.000000</td>\n",
       "    </tr>\n",
       "    <tr>\n",
       "      <th>3</th>\n",
       "      <td>37</td>\n",
       "      <td>8</td>\n",
       "      <td>0.0</td>\n",
       "      <td>2020-02-27</td>\n",
       "      <td>Bologna</td>\n",
       "      <td>Emilia-Romagna</td>\n",
       "      <td>44.494367</td>\n",
       "      <td>NaN</td>\n",
       "      <td>11.341721</td>\n",
       "      <td>NaN</td>\n",
       "      <td>BO</td>\n",
       "      <td>ITA</td>\n",
       "      <td>0</td>\n",
       "      <td>23.416667</td>\n",
       "    </tr>\n",
       "    <tr>\n",
       "      <th>4</th>\n",
       "      <td>37</td>\n",
       "      <td>8</td>\n",
       "      <td>0.0</td>\n",
       "      <td>2020-02-28</td>\n",
       "      <td>Bologna</td>\n",
       "      <td>Emilia-Romagna</td>\n",
       "      <td>44.494367</td>\n",
       "      <td>NaN</td>\n",
       "      <td>11.341721</td>\n",
       "      <td>NaN</td>\n",
       "      <td>BO</td>\n",
       "      <td>ITA</td>\n",
       "      <td>0</td>\n",
       "      <td>21.000000</td>\n",
       "    </tr>\n",
       "  </tbody>\n",
       "</table>\n",
       "</div>"
      ],
      "text/plain": [
       "   codice_provincia  codice_regione  daily_cases        data  \\\n",
       "0                37               8          0.0  2020-02-24   \n",
       "1                37               8          0.0  2020-02-25   \n",
       "2                37               8          0.0  2020-02-26   \n",
       "3                37               8          0.0  2020-02-27   \n",
       "4                37               8          0.0  2020-02-28   \n",
       "\n",
       "  denominazione_provincia denominazione_regione        lat  lon       long  \\\n",
       "0                 Bologna        Emilia-Romagna  44.494367  NaN  11.341721   \n",
       "1                 Bologna        Emilia-Romagna  44.494367  NaN  11.341721   \n",
       "2                 Bologna        Emilia-Romagna  44.494367  NaN  11.341721   \n",
       "3                 Bologna        Emilia-Romagna  44.494367  NaN  11.341721   \n",
       "4                 Bologna        Emilia-Romagna  44.494367  NaN  11.341721   \n",
       "\n",
       "  note sigla_provincia stato  totale_casi        IQA  \n",
       "0  NaN              BO   ITA            0  90.000000  \n",
       "1  NaN              BO   ITA            0  64.000000  \n",
       "2  NaN              BO   ITA            0  26.000000  \n",
       "3  NaN              BO   ITA            0  23.416667  \n",
       "4  NaN              BO   ITA            0  21.000000  "
      ]
     },
     "execution_count": 15,
     "metadata": {},
     "output_type": "execute_result"
    }
   ],
   "source": [
    "import pandas as pd\n",
    "#import italy covid cases\n",
    "df_covid_iqa = pd.read_csv('covid_iqa.csv',delimiter=',', keep_default_na=False, na_values=[''])\n",
    "df_covid_iqa['daily_cases'] = df_covid_iqa['daily_cases'].fillna(0)\n",
    "df_covid_iqa.head()"
   ]
  },
  {
   "cell_type": "code",
   "execution_count": 16,
   "metadata": {},
   "outputs": [
    {
     "data": {
      "text/html": [
       "<div>\n",
       "<style scoped>\n",
       "    .dataframe tbody tr th:only-of-type {\n",
       "        vertical-align: middle;\n",
       "    }\n",
       "\n",
       "    .dataframe tbody tr th {\n",
       "        vertical-align: top;\n",
       "    }\n",
       "\n",
       "    .dataframe thead th {\n",
       "        text-align: right;\n",
       "    }\n",
       "</style>\n",
       "<table border=\"1\" class=\"dataframe\">\n",
       "  <thead>\n",
       "    <tr style=\"text-align: right;\">\n",
       "      <th></th>\n",
       "      <th>data</th>\n",
       "      <th>daily_cases</th>\n",
       "      <th>totale_casi</th>\n",
       "    </tr>\n",
       "  </thead>\n",
       "  <tbody>\n",
       "    <tr>\n",
       "      <th>630</th>\n",
       "      <td>2020-02-24</td>\n",
       "      <td>0.0</td>\n",
       "      <td>0</td>\n",
       "    </tr>\n",
       "    <tr>\n",
       "      <th>631</th>\n",
       "      <td>2020-02-25</td>\n",
       "      <td>0.0</td>\n",
       "      <td>0</td>\n",
       "    </tr>\n",
       "    <tr>\n",
       "      <th>632</th>\n",
       "      <td>2020-02-26</td>\n",
       "      <td>0.0</td>\n",
       "      <td>0</td>\n",
       "    </tr>\n",
       "    <tr>\n",
       "      <th>633</th>\n",
       "      <td>2020-02-27</td>\n",
       "      <td>3.0</td>\n",
       "      <td>3</td>\n",
       "    </tr>\n",
       "    <tr>\n",
       "      <th>634</th>\n",
       "      <td>2020-02-28</td>\n",
       "      <td>1.0</td>\n",
       "      <td>4</td>\n",
       "    </tr>\n",
       "  </tbody>\n",
       "</table>\n",
       "</div>"
      ],
      "text/plain": [
       "           data  daily_cases  totale_casi\n",
       "630  2020-02-24          0.0            0\n",
       "631  2020-02-25          0.0            0\n",
       "632  2020-02-26          0.0            0\n",
       "633  2020-02-27          3.0            3\n",
       "634  2020-02-28          1.0            4"
      ]
     },
     "execution_count": 16,
     "metadata": {},
     "output_type": "execute_result"
    }
   ],
   "source": [
    "# select city\n",
    "df_covid_iqa = df_covid_iqa.loc[df_covid_iqa['denominazione_provincia'].isin(['Napoli'])]\n",
    "df_covid_iqa[['data','daily_cases','totale_casi']].head()\n"
   ]
  },
  {
   "cell_type": "code",
   "execution_count": 18,
   "metadata": {},
   "outputs": [
    {
     "name": "stdout",
     "output_type": "stream",
     "text": [
      "statistiche descrittive qualita dell'aria\n",
      "count    160.000000\n",
      "mean      47.188021\n",
      "std       16.829314\n",
      "min       20.000000\n",
      "25%       34.000000\n",
      "50%       44.000000\n",
      "75%       56.000000\n",
      "max      104.000000\n",
      "var      283.225825\n",
      "skew       1.157139\n",
      "kurt       1.814236\n",
      "Name: IQA, dtype: float64\n"
     ]
    }
   ],
   "source": [
    "# statistiche descrittive qualità aria\n",
    "y= df_covid_iqa[\"IQA\"]\n",
    "stats = y.describe()\n",
    "stats.loc['var'] = y.var()\n",
    "stats.loc['skew'] = y.skew()\n",
    "stats.loc['kurt'] = y.kurtosis()\n",
    "print(\"statistiche descrittive qualita dell'aria\")\n",
    "print(stats)\n",
    "# statistiche descrittive delta giornalieri"
   ]
  },
  {
   "cell_type": "code",
   "execution_count": 19,
   "metadata": {},
   "outputs": [
    {
     "name": "stdout",
     "output_type": "stream",
     "text": [
      "Test normality for covid cases\n",
      "Statistics = 87.494, p=0.000\n",
      "Data looks non-Gaussian (reject null hypothesis)\n",
      "Test normality for IQA\n",
      "Statistics = 35.269, p=0.000\n",
      "Data looks non-Gaussian (reject null hypothesis)\n"
     ]
    },
    {
     "data": {
      "image/png": "[encoded data removed]",
      "text/plain": [
       "<Figure size 1008x432 with 2 Axes>"
      ]
     },
     "metadata": {},
     "output_type": "display_data"
    },
    {
     "data": {
      "image/png": "[encoded data removed]",
      "text/plain": [
       "<Figure size 1008x432 with 2 Axes>"
      ]
     },
     "metadata": {},
     "output_type": "display_data"
    }
   ],
   "source": [
    "# Normal distribution test\n",
    "import scipy\n",
    "from scipy import stats\n",
    "import matplotlib.pyplot as plt\n",
    "\n",
    "print(\"Test normality for covid cases\")\n",
    "normality_test(df_covid_iqa['daily_cases'],\"daily_cases\")\n",
    "print(\"Test normality for IQA\")\n",
    "normality_test(df_covid_iqa['IQA'],\"IQA\")\n",
    "#box-cox transformation covid daily\n",
    "#y_bc_covid = box_cox_transformation(df_covid_iqa['daily_cases'],\"daily_cases\")\n"
   ]
  },
  {
   "cell_type": "code",
   "execution_count": 5,
   "metadata": {},
   "outputs": [],
   "source": [
    "def normality_test(data,target):\n",
    "    stat,p = stats.normaltest(data)\n",
    "    print(\"Statistics = %.3f, p=%.3f\" % (stat,p))\n",
    "    alpha = 0.05\n",
    "    if p> alpha:\n",
    "        print('Data looks Gaussian (fail to reject null hypothesis)')\n",
    "    else:\n",
    "        print('Data looks non-Gaussian (reject null hypothesis)')\n",
    "\n",
    "    #test normalità \n",
    "    jarque_bera_test = stats.jarque_bera(data)\n",
    "    jarque_bera_test\n",
    "\n",
    "    plt.figure(figsize=(14,6))\n",
    "    plt.subplot(1,2,1)\n",
    "    data.hist(bins=50)\n",
    "    plt.title(target)\n",
    "    plt.subplot(1,2,2)\n",
    "    stats.probplot(data, plot=plt);\n",
    "    data.describe().T"
   ]
  },
  {
   "cell_type": "code",
   "execution_count": 16,
   "metadata": {},
   "outputs": [],
   "source": [
    "#box cox transformation\n",
    "import pmdarima as pm\n",
    "from pmdarima import preprocessing\n",
    "def box_cox_transformation(data,target):\n",
    "    y = data.values\n",
    "    # Box Cox Transformation per renderla normale\n",
    "    m_bce = preprocessing.BoxCoxEndogTransformer().fit(y)\n",
    "    y_bc, _ = m_bce.transform(y)\n",
    "    \n",
    "#     plt.figure(figsize=(14,6))\n",
    "#     plt.subplot(1,2,1)\n",
    "#     data.hist(bins=50)\n",
    "#     plt.title(target)\n",
    "#     plt.subplot(1,2,2)\n",
    "#     stats.probplot(data, plot=plt);\n",
    "#     data.describe().T\n",
    "    return y_bc"
   ]
  },
  {
   "cell_type": "code",
   "execution_count": 20,
   "metadata": {},
   "outputs": [
    {
     "name": "stdout",
     "output_type": "stream",
     "text": [
      "             daily_cases       IQA\n",
      "daily_cases     1.000000  0.063349\n",
      "IQA             0.063349  1.000000\n"
     ]
    },
    {
     "data": {
      "text/plain": [
       "<matplotlib.axes._subplots.AxesSubplot at 0x1cb09b4deb8>"
      ]
     },
     "execution_count": 20,
     "metadata": {},
     "output_type": "execute_result"
    },
    {
     "data": {
      "image/png": "[encoded data removed]",
      "text/plain": [
       "<Figure size 432x288 with 2 Axes>"
      ]
     },
     "metadata": {},
     "output_type": "display_data"
    }
   ],
   "source": [
    "# Pearson correlation\n",
    "import seaborn as sns; sns.set()\n",
    "import numpy as np\n",
    "from sklearn.preprocessing import MinMaxScaler\n",
    "# minmax scalar\n",
    "scaler = MinMaxScaler()\n",
    "df_covid_iqa['IQA_tr'] = scaler.fit_transform(df_covid_iqa[['IQA']])\n",
    "df_covid_iqa['IQA_tr'] = 1- df_covid_iqa['IQA_tr'] \n",
    "\n",
    "# correlation matrix\n",
    "corr = df_covid_iqa[[\"daily_cases\",\"IQA\"]].corr(method='pearson')\n",
    "print(corr)\n",
    "sns.heatmap(corr, cmap=\"BuGn\")"
   ]
  },
  {
   "cell_type": "code",
   "execution_count": 61,
   "metadata": {},
   "outputs": [],
   "source": [
    "# Let's transform the series\n",
    "y_tr_cases = transform_function(df_covid_iqa['daily_cases'])\n",
    "y_tr_iqa = transform_function(df_covid_iqa['IQA'])"
   ]
  },
  {
   "cell_type": "code",
   "execution_count": 30,
   "metadata": {},
   "outputs": [],
   "source": [
    "import numpy as np\n",
    "def transform_function(df):\n",
    "    #df = df.apply(np.log).diff().dropna()\n",
    "    df = df.diff().dropna()\n",
    "    return df"
   ]
  },
  {
   "cell_type": "code",
   "execution_count": 62,
   "metadata": {},
   "outputs": [
    {
     "name": "stdout",
     "output_type": "stream",
     "text": [
      "stationarity test for cases\n",
      "KPSS Statistic: 0.11915063252555987\n",
      "p-value: 0.1\n",
      "num lags: 14\n",
      "Critial Values:\n",
      "   10% : 0.347\n",
      "   5% : 0.463\n",
      "   2.5% : 0.574\n",
      "   1% : 0.739\n",
      "Result: The series is stationary\n",
      "stationarity test for iqa\n",
      "KPSS Statistic: 0.28737629745342347\n",
      "p-value: 0.1\n",
      "num lags: 14\n",
      "Critial Values:\n",
      "   10% : 0.347\n",
      "   5% : 0.463\n",
      "   2.5% : 0.574\n",
      "   1% : 0.739\n",
      "Result: The series is stationary\n"
     ]
    },
    {
     "name": "stderr",
     "output_type": "stream",
     "text": [
      "C:\\Users\\g.donatiello\\AppData\\Roaming\\Python\\Python37\\site-packages\\statsmodels\\tsa\\stattools.py:1661: FutureWarning: The behavior of using lags=None will change in the next release. Currently lags=None is the same as lags='legacy', and so a sample-size lag length is used. After the next release, the default will change to be the same as lags='auto' which uses an automatic lag length selection method. To silence this warning, either use 'auto' or 'legacy'\n",
      "  warn(msg, FutureWarning)\n",
      "C:\\Users\\g.donatiello\\AppData\\Roaming\\Python\\Python37\\site-packages\\statsmodels\\tsa\\stattools.py:1687: InterpolationWarning: p-value is greater than the indicated p-value\n",
      "  warn(\"p-value is greater than the indicated p-value\", InterpolationWarning)\n",
      "C:\\Users\\g.donatiello\\AppData\\Roaming\\Python\\Python37\\site-packages\\statsmodels\\tsa\\stattools.py:1687: InterpolationWarning: p-value is greater than the indicated p-value\n",
      "  warn(\"p-value is greater than the indicated p-value\", InterpolationWarning)\n"
     ]
    }
   ],
   "source": [
    "print(\"stationarity test for cases\")\n",
    "kpss_test(y_tr_cases)\n",
    "print(\"stationarity test for iqa\")\n",
    "kpss_test(y_tr_iqa)"
   ]
  },
  {
   "cell_type": "code",
   "execution_count": null,
   "metadata": {},
   "outputs": [],
   "source": []
  },
  {
   "cell_type": "code",
   "execution_count": 34,
   "metadata": {},
   "outputs": [],
   "source": [
    "# KPSS test\n",
    "from statsmodels.tsa.stattools import kpss\n",
    "def kpss_test(series, **kw):    \n",
    "    statistic, p_value, n_lags, critical_values = kpss(series, **kw)\n",
    "    # Format Output\n",
    "    print(f'KPSS Statistic: {statistic}')\n",
    "    print(f'p-value: {p_value}')\n",
    "    print(f'num lags: {n_lags}')\n",
    "    print('Critial Values:')\n",
    "    for key, value in critical_values.items():\n",
    "        print(f'   {key} : {value}')\n",
    "    print(f'Result: The series is {\"not \" if p_value < 0.05 else \"\"}stationary')\n"
   ]
  },
  {
   "cell_type": "code",
   "execution_count": 63,
   "metadata": {},
   "outputs": [
    {
     "name": "stdout",
     "output_type": "stream",
     "text": [
      "     daily_cases   IQA\n",
      "160          0.0   2.0\n",
      "161          2.0 -14.0\n",
      "162          6.0 -56.0\n",
      "163         -5.0   8.0\n",
      "164         -2.0   4.0\n",
      "(156, 2)\n",
      "Y = daily_cases, X = daily_cases, P Values = [1.0, 1.0, 1.0, 1.0, 1.0, 1.0, 1.0, 1.0]\n",
      "Y = IQA, X = daily_cases, P Values = [0.0029, 0.0108, 0.0045, 0.0019, 0.003, 0.0024, 0.0003, 0.0001]\n",
      "Y = daily_cases, X = IQA, P Values = [0.8037, 0.8701, 0.1907, 0.2713, 0.16, 0.1665, 0.2767, 0.3295]\n",
      "Y = IQA, X = IQA, P Values = [1.0, 1.0, 1.0, 1.0, 1.0, 1.0, 1.0, 1.0]\n",
      "               daily_cases_x  IQA_x\n",
      "daily_cases_y         1.0000   0.16\n",
      "IQA_y                 0.0001   1.00\n",
      "(2, 2)\n"
     ]
    },
    {
     "data": {
      "text/plain": [
       "<matplotlib.axes._subplots.AxesSubplot at 0x22055216400>"
      ]
     },
     "execution_count": 63,
     "metadata": {},
     "output_type": "execute_result"
    },
    {
     "data": {
      "image/png": "[encoded data removed]",
      "text/plain": [
       "<Figure size 432x288 with 2 Axes>"
      ]
     },
     "metadata": {},
     "output_type": "display_data"
    }
   ],
   "source": [
    "import numpy as np; np.random.seed(0)\n",
    "import seaborn as sns; sns.set()\n",
    "#granger causality test\n",
    "columns=[\"daily_cases\",\"IQA\"]\n",
    "dataset = pd.DataFrame(columns=columns)\n",
    "dataset[\"daily_cases\"] = y_tr_cases\n",
    "dataset[\"IQA\"] = y_tr_iqa\n",
    "print(dataset.head())\n",
    "print(dataset.shape)\n",
    "data = grangers_causality_matrix(dataset, variables = dataset.columns,verbose=True)  \n",
    "#data = 1 - data\n",
    "print(data)\n",
    "print(data.shape)\n",
    "sns.heatmap(data, cmap=\"BuGn\")"
   ]
  },
  {
   "cell_type": "code",
   "execution_count": 38,
   "metadata": {},
   "outputs": [],
   "source": [
    "#granger causality test function\n",
    "from statsmodels.tsa.stattools import grangercausalitytests\n",
    "import numpy as np\n",
    "\n",
    "def grangers_causality_matrix(data, variables, test = 'ssr_chi2test', maxlag=8, verbose=False):\n",
    "    dataset = pd.DataFrame(np.zeros((len(variables), len(variables))), columns=variables, index=variables)\n",
    "    for c in dataset.columns:\n",
    "        for r in dataset.index:\n",
    "            test_result = grangercausalitytests(data[[r,c]], maxlag=maxlag, verbose=False)\n",
    "            p_values = [round(test_result[i+1][0][test][1],4) for i in range(maxlag)]\n",
    "            if verbose: print(f'Y = {r}, X = {c}, P Values = {p_values}')\n",
    "            min_p_value = np.min(p_values)\n",
    "            dataset.loc[r,c] = min_p_value\n",
    "    dataset.columns = [var + '_x' for var in variables]\n",
    "    dataset.index = [var + '_y' for var in variables]\n",
    "\n",
    "    return dataset"
   ]
  },
  {
   "cell_type": "code",
   "execution_count": null,
   "metadata": {},
   "outputs": [],
   "source": []
  }
 ],
 "metadata": {
  "kernelspec": {
   "display_name": "Python 3",
   "language": "python",
   "name": "python3"
  },
  "language_info": {
   "codemirror_mode": {
    "name": "ipython",
    "version": 3
   },
   "file_extension": ".py",
   "mimetype": "text/x-python",
   "name": "python",
   "nbconvert_exporter": "python",
   "pygments_lexer": "ipython3",
   "version": "3.7.3"
  }
 },
 "nbformat": 4,
 "nbformat_minor": 2
}
