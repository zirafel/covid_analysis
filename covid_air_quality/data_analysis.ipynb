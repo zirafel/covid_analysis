{
 "cells": [
  {
   "cell_type": "code",
   "execution_count": null,
   "metadata": {},
   "outputs": [],
   "source": [
    "import pandas as pd\n",
    "#import italy covid cases\n",
    "df_covid_iqa_mi = pd.read_csv('covid_iqa_mi.csv',delimiter=',', keep_default_na=False, na_values=[''])\n",
    "df_covid_iqa_mi['daily_cases'] = df_covid_iqa_mi['daily_cases'].fillna(0)\n",
    "df_covid_iqa_mi.head()\n",
    "#print"
   ]
  },
  {
   "cell_type": "code",
   "execution_count": null,
   "metadata": {},
   "outputs": [],
   "source": [
    "# select city\n",
    "df_covid_iqa_mi = df_covid_iqa_mi.loc[df_covid_iqa_mi['denominazione_provincia'].isin(['Milano'])]\n",
    "df_covid_iqa_mi[['data','daily_cases','totale_casi']].head()\n"
   ]
  },
  {
   "cell_type": "code",
   "execution_count": null,
   "metadata": {},
   "outputs": [],
   "source": [
    "# statistiche descrittive qualità aria\n",
    "y= df_covid_iqa_mi[\"IQA\"]\n",
    "stats = y.describe()\n",
    "stats.loc['var'] = y.var()\n",
    "stats.loc['skew'] = y.skew()\n",
    "stats.loc['kurt'] = y.kurtosis()\n",
    "print(\"statistiche descrittive qualita dell'aria\")\n",
    "print(stats)\n",
    "# statistiche descrittive delta giornalieri"
   ]
  },
  {
   "cell_type": "code",
   "execution_count": null,
   "metadata": {},
   "outputs": [],
   "source": [
    "# Normal distribution test\n",
    "import scipy\n",
    "from scipy import stats\n",
    "import matplotlib.pyplot as plt\n",
    "\n",
    "print(\"Test normality for covid cases\")\n",
    "normality_test(df_covid_iqa_mi['daily_cases'],\"daily_cases\")\n",
    "print(\"Test normality for IQA\")\n",
    "normality_test(df_covid_iqa_mi['IQA'],\"IQA\")\n",
    "print(\"Test normality for MoveIndex\")\n",
    "normality_test(df_covid_iqa_mi['MoveIndex'],\"MoveIndex\")\n",
    "#box-cox transformation covid daily\n",
    "#y_bc_covid = box_cox_transformation(df_covid_iqa['daily_cases'],\"daily_cases\")\n"
   ]
  },
  {
   "cell_type": "code",
   "execution_count": null,
   "metadata": {},
   "outputs": [],
   "source": [
    "def normality_test(data,target):\n",
    "    stat,p = stats.normaltest(data)\n",
    "    print(\"Statistics = %.3f, p=%.3f\" % (stat,p))\n",
    "    alpha = 0.05\n",
    "    if p> alpha:\n",
    "        print('Data looks Gaussian (fail to reject null hypothesis)')\n",
    "    else:\n",
    "        print('Data looks non-Gaussian (reject null hypothesis)')\n",
    "\n",
    "    #test normalità \n",
    "    jarque_bera_test = stats.jarque_bera(data)\n",
    "    jarque_bera_test\n",
    "\n",
    "    plt.figure(figsize=(14,6))\n",
    "    plt.subplot(1,2,1)\n",
    "    data.hist(bins=50)\n",
    "    plt.title(target)\n",
    "    plt.subplot(1,2,2)\n",
    "    stats.probplot(data, plot=plt);\n",
    "    data.describe().T"
   ]
  },
  {
   "cell_type": "code",
   "execution_count": null,
   "metadata": {},
   "outputs": [],
   "source": [
    "#box cox transformation\n",
    "import pmdarima as pm\n",
    "from pmdarima import preprocessing\n",
    "def box_cox_transformation(data,target):\n",
    "    y = data.values\n",
    "    # Box Cox Transformation per renderla normale\n",
    "    m_bce = preprocessing.BoxCoxEndogTransformer().fit(y)\n",
    "    y_bc, _ = m_bce.transform(y)\n",
    "    \n",
    "#     plt.figure(figsize=(14,6))\n",
    "#     plt.subplot(1,2,1)\n",
    "#     data.hist(bins=50)\n",
    "#     plt.title(target)\n",
    "#     plt.subplot(1,2,2)\n",
    "#     stats.probplot(data, plot=plt);\n",
    "#     data.describe().T\n",
    "    return y_bc"
   ]
  },
  {
   "cell_type": "code",
   "execution_count": null,
   "metadata": {},
   "outputs": [],
   "source": [
    "# Pearson correlation\n",
    "import seaborn as sns; sns.set()\n",
    "import numpy as np\n",
    "from sklearn.preprocessing import MinMaxScaler\n",
    "# minmax scalar\n",
    "# scaler = MinMaxScaler()\n",
    "# df_covid_iqa_mi['IQA_tr'] = scaler.fit_transform(df_covid_iqa[['IQA']])\n",
    "# df_covid_iqa_mi['IQA_tr'] = 1- df_covid_iqa_mi['IQA_tr'] \n",
    "\n",
    "# correlation matrix\n",
    "corr = df_covid_iqa_mi[[\"daily_cases\",\"IQA\",\"MoveIndex\"]].apply(np.log).corr(method='pearson')\n",
    "print(corr)\n",
    "sns.heatmap(corr, cmap=\"BuGn\")"
   ]
  },
  {
   "cell_type": "code",
   "execution_count": null,
   "metadata": {},
   "outputs": [],
   "source": [
    "# Let's transform the series\n",
    "y_tr_cases = transform_function(df_covid_iqa_mi['daily_cases'])\n",
    "y_tr_iqa = transform_function(df_covid_iqa_mi['IQA'])\n",
    "y_tr_mi = transform_function(df_covid_iqa_mi['MoveIndex'])"
   ]
  },
  {
   "cell_type": "code",
   "execution_count": null,
   "metadata": {},
   "outputs": [],
   "source": [
    "import numpy as np\n",
    "def transform_function(df):\n",
    "    #df = df.apply(np.log).diff().dropna()\n",
    "    df = df.diff().dropna()\n",
    "    return df"
   ]
  },
  {
   "cell_type": "code",
   "execution_count": null,
   "metadata": {},
   "outputs": [],
   "source": [
    "print(\"stationarity test for cases\")\n",
    "kpss_test(y_tr_cases)\n",
    "print(\"stationarity test for iqa\")\n",
    "kpss_test(y_tr_iqa)\n",
    "print(\"stationarity test for move index\")\n",
    "kpss_test(y_tr_mi)"
   ]
  },
  {
   "cell_type": "code",
   "execution_count": null,
   "metadata": {},
   "outputs": [],
   "source": []
  },
  {
   "cell_type": "code",
   "execution_count": null,
   "metadata": {},
   "outputs": [],
   "source": [
    "# KPSS test\n",
    "from statsmodels.tsa.stattools import kpss\n",
    "def kpss_test(series, **kw):    \n",
    "    statistic, p_value, n_lags, critical_values = kpss(series, **kw)\n",
    "    # Format Output\n",
    "    print(f'KPSS Statistic: {statistic}')\n",
    "    print(f'p-value: {p_value}')\n",
    "    print(f'num lags: {n_lags}')\n",
    "    print('Critial Values:')\n",
    "    for key, value in critical_values.items():\n",
    "        print(f'   {key} : {value}')\n",
    "    print(f'Result: The series is {\"not \" if p_value < 0.05 else \"\"}stationary')\n"
   ]
  },
  {
   "cell_type": "code",
   "execution_count": null,
   "metadata": {},
   "outputs": [],
   "source": [
    "import numpy as np; np.random.seed(0)\n",
    "import seaborn as sns; sns.set()\n",
    "#granger causality test\n",
    "columns=[\"daily_cases\",\"IQA\",\"MoveIndex\"]\n",
    "dataset = pd.DataFrame(columns=columns)\n",
    "dataset[\"daily_cases\"] = y_tr_cases\n",
    "dataset[\"IQA\"] = y_tr_iqa\n",
    "dataset[\"MoveIndex\"] = y_tr_mi\n",
    "print(dataset.head())\n",
    "print(dataset.shape)\n",
    "data = grangers_causality_matrix(dataset, variables = dataset.columns,verbose=True)  \n",
    "#data = 1 - data\n",
    "print(data)\n",
    "print(data.shape)\n",
    "sns.heatmap(data, cmap=\"BuGn\")"
   ]
  },
  {
   "cell_type": "code",
   "execution_count": null,
   "metadata": {},
   "outputs": [],
   "source": [
    "#granger causality test function\n",
    "from statsmodels.tsa.stattools import grangercausalitytests\n",
    "import numpy as np\n",
    "\n",
    "def grangers_causality_matrix(data, variables, test = 'ssr_chi2test', maxlag=44, verbose=False):\n",
    "    dataset = pd.DataFrame(np.zeros((len(variables), len(variables))), columns=variables, index=variables)\n",
    "    for c in dataset.columns:\n",
    "        for r in dataset.index:\n",
    "            test_result = grangercausalitytests(data[[r,c]], maxlag=maxlag, verbose=False)\n",
    "            p_values = [round(test_result[i+1][0][test][1],4) for i in range(maxlag)]\n",
    "            if verbose: print(f'Y = {r}, X = {c}, P Values = {p_values}')\n",
    "            min_p_value = np.min(p_values)\n",
    "            dataset.loc[r,c] = min_p_value\n",
    "    dataset.columns = [var + '_x' for var in variables]\n",
    "    dataset.index = [var + '_y' for var in variables]\n",
    "\n",
    "    return dataset"
   ]
  },
  {
   "cell_type": "code",
   "execution_count": null,
   "metadata": {},
   "outputs": [],
   "source": []
  }
 ],
 "metadata": {
  "kernelspec": {
   "display_name": "Python 3",
   "language": "python",
   "name": "python3"
  },
  "language_info": {
   "codemirror_mode": {
    "name": "ipython",
    "version": 3
   },
   "file_extension": ".py",
   "mimetype": "text/x-python",
   "name": "python",
   "nbconvert_exporter": "python",
   "pygments_lexer": "ipython3",
   "version": "3.7.3"
  }
 },
 "nbformat": 4,
 "nbformat_minor": 2
}
