{
 "cells": [
  {
   "cell_type": "code",
   "execution_count": 66,
   "metadata": {},
   "outputs": [
    {
     "data": {
      "text/html": [
       "<div>\n",
       "<style scoped>\n",
       "    .dataframe tbody tr th:only-of-type {\n",
       "        vertical-align: middle;\n",
       "    }\n",
       "\n",
       "    .dataframe tbody tr th {\n",
       "        vertical-align: top;\n",
       "    }\n",
       "\n",
       "    .dataframe thead th {\n",
       "        text-align: right;\n",
       "    }\n",
       "</style>\n",
       "<table border=\"1\" class=\"dataframe\">\n",
       "  <thead>\n",
       "    <tr style=\"text-align: right;\">\n",
       "      <th></th>\n",
       "      <th>data</th>\n",
       "      <th>stato</th>\n",
       "      <th>codice_regione</th>\n",
       "      <th>denominazione_regione</th>\n",
       "      <th>codice_provincia</th>\n",
       "      <th>denominazione_provincia</th>\n",
       "      <th>sigla_provincia</th>\n",
       "      <th>lat</th>\n",
       "      <th>long</th>\n",
       "      <th>totale_casi</th>\n",
       "      <th>note</th>\n",
       "      <th>IQA</th>\n",
       "    </tr>\n",
       "  </thead>\n",
       "  <tbody>\n",
       "    <tr>\n",
       "      <th>0</th>\n",
       "      <td>2020-02-24</td>\n",
       "      <td>ITA</td>\n",
       "      <td>15</td>\n",
       "      <td>Campania</td>\n",
       "      <td>63</td>\n",
       "      <td>Napoli</td>\n",
       "      <td>NA</td>\n",
       "      <td>40.839566</td>\n",
       "      <td>14.250850</td>\n",
       "      <td>0</td>\n",
       "      <td>NaN</td>\n",
       "      <td>60.0</td>\n",
       "    </tr>\n",
       "    <tr>\n",
       "      <th>1</th>\n",
       "      <td>2020-02-24</td>\n",
       "      <td>ITA</td>\n",
       "      <td>8</td>\n",
       "      <td>Emilia-Romagna</td>\n",
       "      <td>37</td>\n",
       "      <td>Bologna</td>\n",
       "      <td>BO</td>\n",
       "      <td>44.494367</td>\n",
       "      <td>11.341721</td>\n",
       "      <td>0</td>\n",
       "      <td>NaN</td>\n",
       "      <td>90.0</td>\n",
       "    </tr>\n",
       "    <tr>\n",
       "      <th>2</th>\n",
       "      <td>2020-02-24</td>\n",
       "      <td>ITA</td>\n",
       "      <td>12</td>\n",
       "      <td>Lazio</td>\n",
       "      <td>58</td>\n",
       "      <td>Roma</td>\n",
       "      <td>RM</td>\n",
       "      <td>41.892770</td>\n",
       "      <td>12.483667</td>\n",
       "      <td>0</td>\n",
       "      <td>NaN</td>\n",
       "      <td>50.0</td>\n",
       "    </tr>\n",
       "    <tr>\n",
       "      <th>3</th>\n",
       "      <td>2020-02-24</td>\n",
       "      <td>ITA</td>\n",
       "      <td>3</td>\n",
       "      <td>Lombardia</td>\n",
       "      <td>15</td>\n",
       "      <td>Milano</td>\n",
       "      <td>MI</td>\n",
       "      <td>45.466794</td>\n",
       "      <td>9.190347</td>\n",
       "      <td>0</td>\n",
       "      <td>NaN</td>\n",
       "      <td>98.0</td>\n",
       "    </tr>\n",
       "    <tr>\n",
       "      <th>4</th>\n",
       "      <td>2020-02-24</td>\n",
       "      <td>ITA</td>\n",
       "      <td>3</td>\n",
       "      <td>Lombardia</td>\n",
       "      <td>17</td>\n",
       "      <td>Brescia</td>\n",
       "      <td>BS</td>\n",
       "      <td>45.539931</td>\n",
       "      <td>10.219103</td>\n",
       "      <td>0</td>\n",
       "      <td>NaN</td>\n",
       "      <td>98.0</td>\n",
       "    </tr>\n",
       "  </tbody>\n",
       "</table>\n",
       "</div>"
      ],
      "text/plain": [
       "         data stato  codice_regione denominazione_regione  codice_provincia  \\\n",
       "0  2020-02-24   ITA              15              Campania                63   \n",
       "1  2020-02-24   ITA               8        Emilia-Romagna                37   \n",
       "2  2020-02-24   ITA              12                 Lazio                58   \n",
       "3  2020-02-24   ITA               3             Lombardia                15   \n",
       "4  2020-02-24   ITA               3             Lombardia                17   \n",
       "\n",
       "  denominazione_provincia sigla_provincia        lat       long  totale_casi  \\\n",
       "0                  Napoli              NA  40.839566  14.250850            0   \n",
       "1                 Bologna              BO  44.494367  11.341721            0   \n",
       "2                    Roma              RM  41.892770  12.483667            0   \n",
       "3                  Milano              MI  45.466794   9.190347            0   \n",
       "4                 Brescia              BS  45.539931  10.219103            0   \n",
       "\n",
       "  note   IQA  \n",
       "0  NaN  60.0  \n",
       "1  NaN  90.0  \n",
       "2  NaN  50.0  \n",
       "3  NaN  98.0  \n",
       "4  NaN  98.0  "
      ]
     },
     "execution_count": 66,
     "metadata": {},
     "output_type": "execute_result"
    }
   ],
   "source": [
    "import pandas as pd\n",
    "#import italy covid cases\n",
    "df_covid_iqa = pd.read_csv('covid_iqa.csv',delimiter=',', keep_default_na=False, na_values=[''])\n",
    "df_covid_iqa.head()"
   ]
  },
  {
   "cell_type": "code",
   "execution_count": 67,
   "metadata": {},
   "outputs": [
    {
     "data": {
      "text/html": [
       "<div>\n",
       "<style scoped>\n",
       "    .dataframe tbody tr th:only-of-type {\n",
       "        vertical-align: middle;\n",
       "    }\n",
       "\n",
       "    .dataframe tbody tr th {\n",
       "        vertical-align: top;\n",
       "    }\n",
       "\n",
       "    .dataframe thead th {\n",
       "        text-align: right;\n",
       "    }\n",
       "</style>\n",
       "<table border=\"1\" class=\"dataframe\">\n",
       "  <thead>\n",
       "    <tr style=\"text-align: right;\">\n",
       "      <th></th>\n",
       "      <th>data</th>\n",
       "      <th>stato</th>\n",
       "      <th>codice_regione</th>\n",
       "      <th>denominazione_regione</th>\n",
       "      <th>codice_provincia</th>\n",
       "      <th>denominazione_provincia</th>\n",
       "      <th>sigla_provincia</th>\n",
       "      <th>lat</th>\n",
       "      <th>long</th>\n",
       "      <th>totale_casi</th>\n",
       "      <th>note</th>\n",
       "      <th>IQA</th>\n",
       "    </tr>\n",
       "  </thead>\n",
       "  <tbody>\n",
       "    <tr>\n",
       "      <th>2</th>\n",
       "      <td>2020-02-24</td>\n",
       "      <td>ITA</td>\n",
       "      <td>12</td>\n",
       "      <td>Lazio</td>\n",
       "      <td>58</td>\n",
       "      <td>Roma</td>\n",
       "      <td>RM</td>\n",
       "      <td>41.89277</td>\n",
       "      <td>12.483667</td>\n",
       "      <td>0</td>\n",
       "      <td>NaN</td>\n",
       "      <td>50.0</td>\n",
       "    </tr>\n",
       "    <tr>\n",
       "      <th>8</th>\n",
       "      <td>2020-02-25</td>\n",
       "      <td>ITA</td>\n",
       "      <td>12</td>\n",
       "      <td>Lazio</td>\n",
       "      <td>58</td>\n",
       "      <td>Roma</td>\n",
       "      <td>RM</td>\n",
       "      <td>41.89277</td>\n",
       "      <td>12.483667</td>\n",
       "      <td>3</td>\n",
       "      <td>NaN</td>\n",
       "      <td>34.0</td>\n",
       "    </tr>\n",
       "    <tr>\n",
       "      <th>14</th>\n",
       "      <td>2020-02-26</td>\n",
       "      <td>ITA</td>\n",
       "      <td>12</td>\n",
       "      <td>Lazio</td>\n",
       "      <td>58</td>\n",
       "      <td>Roma</td>\n",
       "      <td>RM</td>\n",
       "      <td>41.89277</td>\n",
       "      <td>12.483667</td>\n",
       "      <td>3</td>\n",
       "      <td>NaN</td>\n",
       "      <td>30.0</td>\n",
       "    </tr>\n",
       "    <tr>\n",
       "      <th>20</th>\n",
       "      <td>2020-02-27</td>\n",
       "      <td>ITA</td>\n",
       "      <td>12</td>\n",
       "      <td>Lazio</td>\n",
       "      <td>58</td>\n",
       "      <td>Roma</td>\n",
       "      <td>RM</td>\n",
       "      <td>41.89277</td>\n",
       "      <td>12.483667</td>\n",
       "      <td>3</td>\n",
       "      <td>NaN</td>\n",
       "      <td>26.0</td>\n",
       "    </tr>\n",
       "    <tr>\n",
       "      <th>26</th>\n",
       "      <td>2020-02-28</td>\n",
       "      <td>ITA</td>\n",
       "      <td>12</td>\n",
       "      <td>Lazio</td>\n",
       "      <td>58</td>\n",
       "      <td>Roma</td>\n",
       "      <td>RM</td>\n",
       "      <td>41.89277</td>\n",
       "      <td>12.483667</td>\n",
       "      <td>3</td>\n",
       "      <td>NaN</td>\n",
       "      <td>34.0</td>\n",
       "    </tr>\n",
       "  </tbody>\n",
       "</table>\n",
       "</div>"
      ],
      "text/plain": [
       "          data stato  codice_regione denominazione_regione  codice_provincia  \\\n",
       "2   2020-02-24   ITA              12                 Lazio                58   \n",
       "8   2020-02-25   ITA              12                 Lazio                58   \n",
       "14  2020-02-26   ITA              12                 Lazio                58   \n",
       "20  2020-02-27   ITA              12                 Lazio                58   \n",
       "26  2020-02-28   ITA              12                 Lazio                58   \n",
       "\n",
       "   denominazione_provincia sigla_provincia       lat       long  totale_casi  \\\n",
       "2                     Roma              RM  41.89277  12.483667            0   \n",
       "8                     Roma              RM  41.89277  12.483667            3   \n",
       "14                    Roma              RM  41.89277  12.483667            3   \n",
       "20                    Roma              RM  41.89277  12.483667            3   \n",
       "26                    Roma              RM  41.89277  12.483667            3   \n",
       "\n",
       "   note   IQA  \n",
       "2   NaN  50.0  \n",
       "8   NaN  34.0  \n",
       "14  NaN  30.0  \n",
       "20  NaN  26.0  \n",
       "26  NaN  34.0  "
      ]
     },
     "execution_count": 67,
     "metadata": {},
     "output_type": "execute_result"
    }
   ],
   "source": [
    "# select city\n",
    "df_covid_iqa = df_covid_iqa.loc[df_covid_iqa['denominazione_provincia'].isin(['Roma'])]\n",
    "df_covid_iqa.head()"
   ]
  },
  {
   "cell_type": "code",
   "execution_count": 68,
   "metadata": {},
   "outputs": [
    {
     "name": "stdout",
     "output_type": "stream",
     "text": [
      "statistiche descrittive qualita dell'aria\n",
      "count    158.000000\n",
      "mean      36.280063\n",
      "std       14.651596\n",
      "min       12.000000\n",
      "25%       27.083333\n",
      "50%       33.000000\n",
      "75%       40.000000\n",
      "max      110.000000\n",
      "var      214.669251\n",
      "skew       2.075773\n",
      "kurt       6.610015\n",
      "Name: IQA, dtype: float64\n"
     ]
    }
   ],
   "source": [
    "# statistiche descrittive qualità aria\n",
    "y= df_covid_iqa[\"IQA\"]\n",
    "stats = y.describe()\n",
    "stats.loc['var'] = y.var()\n",
    "stats.loc['skew'] = y.skew()\n",
    "stats.loc['kurt'] = y.kurtosis()\n",
    "print(\"statistiche descrittive qualita dell'aria\")\n",
    "print(stats)\n",
    "# statistiche descrittive delta giornalieri"
   ]
  },
  {
   "cell_type": "code",
   "execution_count": 69,
   "metadata": {},
   "outputs": [
    {
     "name": "stdout",
     "output_type": "stream",
     "text": [
      "Test normality for covid cases\n",
      "Statistics = 26.068, p=0.000\n",
      "Data looks non-Gaussian (reject null hypothesis)\n",
      "Test normality for IQA\n",
      "Statistics = 85.452, p=0.000\n",
      "Data looks non-Gaussian (reject null hypothesis)\n"
     ]
    },
    {
     "data": {
      "image/png": "[encoded data removed]",
      "text/plain": [
       "<Figure size 1008x432 with 2 Axes>"
      ]
     },
     "metadata": {},
     "output_type": "display_data"
    },
    {
     "data": {
      "image/png": "[encoded data removed]",
      "text/plain": [
       "<Figure size 1008x432 with 2 Axes>"
      ]
     },
     "metadata": {},
     "output_type": "display_data"
    }
   ],
   "source": [
    "# Normal distribution test\n",
    "import scipy\n",
    "from scipy import stats\n",
    "import matplotlib.pyplot as plt\n",
    "\n",
    "print(\"Test normality for covid cases\")\n",
    "normality_test(df_covid_iqa['totale_casi'],\"totale_casi\")\n",
    "print(\"Test normality for IQA\")\n",
    "normality_test(df_covid_iqa['IQA'],\"IQA\")"
   ]
  },
  {
   "cell_type": "code",
   "execution_count": 62,
   "metadata": {},
   "outputs": [],
   "source": [
    "def normality_test(data,target):\n",
    "    stat,p = stats.normaltest(data)\n",
    "    print(\"Statistics = %.3f, p=%.3f\" % (stat,p))\n",
    "    alpha = 0.05\n",
    "    if p> alpha:\n",
    "        print('Data looks Gaussian (fail to reject null hypothesis)')\n",
    "    else:\n",
    "        print('Data looks non-Gaussian (reject null hypothesis)')\n",
    "\n",
    "    #test normalità \n",
    "    jarque_bera_test = stats.jarque_bera(data)\n",
    "    jarque_bera_test\n",
    "\n",
    "    plt.figure(figsize=(14,6))\n",
    "    plt.subplot(1,2,1)\n",
    "    data.hist(bins=50)\n",
    "    plt.title(target)\n",
    "    plt.subplot(1,2,2)\n",
    "    stats.probplot(data, plot=plt);\n",
    "    data.describe().T"
   ]
  },
  {
   "cell_type": "code",
   "execution_count": 75,
   "metadata": {},
   "outputs": [
    {
     "name": "stdout",
     "output_type": "stream",
     "text": [
      "             totale_casi   IQA_tr\n",
      "totale_casi      1.00000  0.22659\n",
      "IQA_tr           0.22659  1.00000\n"
     ]
    },
    {
     "data": {
      "text/plain": [
       "<matplotlib.axes._subplots.AxesSubplot at 0x1a1041b72b0>"
      ]
     },
     "execution_count": 75,
     "metadata": {},
     "output_type": "execute_result"
    },
    {
     "data": {
      "image/png": "[encoded data removed]",
      "text/plain": [
       "<Figure size 432x288 with 2 Axes>"
      ]
     },
     "metadata": {},
     "output_type": "display_data"
    }
   ],
   "source": [
    "# Pearson correlation\n",
    "import seaborn as sns; sns.set()\n",
    "import numpy as np\n",
    "from sklearn.preprocessing import MinMaxScaler\n",
    "# minmax scalar\n",
    "scaler = MinMaxScaler()\n",
    "df_covid_iqa['IQA_tr'] = scaler.fit_transform(df_covid_iqa[['IQA']])\n",
    "df_covid_iqa['IQA_tr'] = 1- df_covid_iqa['IQA_tr'] \n",
    "\n",
    "# correlation matrix\n",
    "corr = df_covid_iqa[[\"totale_casi\",\"IQA_tr\"]].corr(method='pearson')\n",
    "print(corr)\n",
    "sns.heatmap(corr, cmap=\"BuGn\")"
   ]
  },
  {
   "cell_type": "code",
   "execution_count": 72,
   "metadata": {},
   "outputs": [],
   "source": [
    "# Let's transform the series\n",
    "y_tr_cases = transform_function(df_covid_iqa['totale_casi'])\n",
    "y_tr_iqa = transform_function(df_covid_iqa['IQA'])"
   ]
  },
  {
   "cell_type": "code",
   "execution_count": 71,
   "metadata": {},
   "outputs": [],
   "source": [
    "import numpy as np\n",
    "def transform_function(df):\n",
    "    df = df.apply(np.log).diff().dropna()\n",
    "    #df = df.diff().dropna()\n",
    "    return df"
   ]
  },
  {
   "cell_type": "code",
   "execution_count": 76,
   "metadata": {},
   "outputs": [
    {
     "name": "stdout",
     "output_type": "stream",
     "text": [
      "stationarity test for cases\n",
      "KPSS Statistic: nan\n",
      "p-value: nan\n",
      "num lags: 14\n",
      "Critial Values:\n",
      "   10% : 0.347\n",
      "   5% : 0.463\n",
      "   2.5% : 0.574\n",
      "   1% : 0.739\n",
      "Result: The series is stationary\n"
     ]
    },
    {
     "name": "stderr",
     "output_type": "stream",
     "text": [
      "C:\\Users\\g.donatiello\\AppData\\Roaming\\Python\\Python37\\site-packages\\statsmodels\\tsa\\stattools.py:1649: RuntimeWarning: invalid value encountered in subtract\n",
      "  resids = x - x.mean()\n",
      "C:\\Users\\g.donatiello\\AppData\\Roaming\\Python\\Python37\\site-packages\\statsmodels\\tsa\\stattools.py:1661: FutureWarning: The behavior of using lags=None will change in the next release. Currently lags=None is the same as lags='legacy', and so a sample-size lag length is used. After the next release, the default will change to be the same as lags='auto' which uses an automatic lag length selection method. To silence this warning, either use 'auto' or 'legacy'\n",
      "  warn(msg, FutureWarning)\n"
     ]
    }
   ],
   "source": [
    "print(\"stationarity test for cases\")\n",
    "kpss_test(y_tr_cases)"
   ]
  },
  {
   "cell_type": "code",
   "execution_count": 50,
   "metadata": {},
   "outputs": [],
   "source": [
    "# KPSS test\n",
    "from statsmodels.tsa.stattools import kpss\n",
    "def kpss_test(series, **kw):    \n",
    "    statistic, p_value, n_lags, critical_values = kpss(series, **kw)\n",
    "    # Format Output\n",
    "    print(f'KPSS Statistic: {statistic}')\n",
    "    print(f'p-value: {p_value}')\n",
    "    print(f'num lags: {n_lags}')\n",
    "    print('Critial Values:')\n",
    "    for key, value in critical_values.items():\n",
    "        print(f'   {key} : {value}')\n",
    "    print(f'Result: The series is {\"not \" if p_value < 0.05 else \"\"}stationary')\n"
   ]
  },
  {
   "cell_type": "code",
   "execution_count": null,
   "metadata": {},
   "outputs": [],
   "source": []
  }
 ],
 "metadata": {
  "kernelspec": {
   "display_name": "Python 3",
   "language": "python",
   "name": "python3"
  },
  "language_info": {
   "codemirror_mode": {
    "name": "ipython",
    "version": 3
   },
   "file_extension": ".py",
   "mimetype": "text/x-python",
   "name": "python",
   "nbconvert_exporter": "python",
   "pygments_lexer": "ipython3",
   "version": "3.7.3"
  }
 },
 "nbformat": 4,
 "nbformat_minor": 2
}
